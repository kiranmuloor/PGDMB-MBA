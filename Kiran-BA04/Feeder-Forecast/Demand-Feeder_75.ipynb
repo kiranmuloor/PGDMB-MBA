{
 "cells": [
  {
   "cell_type": "code",
   "execution_count": 1,
   "metadata": {},
   "outputs": [],
   "source": [
    "import pandas as pd\n",
    "import numpy as np\n",
    "import seaborn as sns\n",
    "import matplotlib.pyplot as plt\n",
    "import pandas_profiling as pdf\n",
    "from sklearn.utils import check_array \n",
    "from sklearn import preprocessing \n",
    "from sklearn.metrics import mean_squared_error, mean_absolute_error\n",
    "from math import sqrt\n",
    "from statsmodels.tsa.api import ExponentialSmoothing, SimpleExpSmoothing, Holt\n",
    "import statsmodels.api as sm"
   ]
  },
  {
   "cell_type": "code",
   "execution_count": 2,
   "metadata": {},
   "outputs": [],
   "source": [
    "#print multiple statements in same line\n",
    "from IPython.core.interactiveshell import InteractiveShell\n",
    "InteractiveShell.ast_node_interactivity =\"all\"\n",
    "%matplotlib inline"
   ]
  },
  {
   "cell_type": "code",
   "execution_count": 3,
   "metadata": {},
   "outputs": [
    {
     "name": "stdout",
     "output_type": "stream",
     "text": [
      "\n",
      " Parsed Data:\n"
     ]
    },
    {
     "data": {
      "text/html": [
       "<div>\n",
       "<style scoped>\n",
       "    .dataframe tbody tr th:only-of-type {\n",
       "        vertical-align: middle;\n",
       "    }\n",
       "\n",
       "    .dataframe tbody tr th {\n",
       "        vertical-align: top;\n",
       "    }\n",
       "\n",
       "    .dataframe thead th {\n",
       "        text-align: right;\n",
       "    }\n",
       "</style>\n",
       "<table border=\"1\" class=\"dataframe\">\n",
       "  <thead>\n",
       "    <tr style=\"text-align: right;\">\n",
       "      <th></th>\n",
       "      <th>Feeder</th>\n",
       "      <th>Demand</th>\n",
       "      <th>Revenue</th>\n",
       "    </tr>\n",
       "    <tr>\n",
       "      <th>ConsumptionDate</th>\n",
       "      <th></th>\n",
       "      <th></th>\n",
       "      <th></th>\n",
       "    </tr>\n",
       "  </thead>\n",
       "  <tbody>\n",
       "    <tr>\n",
       "      <td>2019-01-01</td>\n",
       "      <td>Feeder_75</td>\n",
       "      <td>858</td>\n",
       "      <td>5641</td>\n",
       "    </tr>\n",
       "    <tr>\n",
       "      <td>2019-02-01</td>\n",
       "      <td>Feeder_75</td>\n",
       "      <td>182</td>\n",
       "      <td>1246</td>\n",
       "    </tr>\n",
       "    <tr>\n",
       "      <td>2019-03-01</td>\n",
       "      <td>Feeder_75</td>\n",
       "      <td>164</td>\n",
       "      <td>1128</td>\n",
       "    </tr>\n",
       "    <tr>\n",
       "      <td>2019-04-01</td>\n",
       "      <td>Feeder_75</td>\n",
       "      <td>187</td>\n",
       "      <td>1334</td>\n",
       "    </tr>\n",
       "    <tr>\n",
       "      <td>2019-05-01</td>\n",
       "      <td>Feeder_75</td>\n",
       "      <td>225</td>\n",
       "      <td>1521</td>\n",
       "    </tr>\n",
       "  </tbody>\n",
       "</table>\n",
       "</div>"
      ],
      "text/plain": [
       "                    Feeder  Demand  Revenue\n",
       "ConsumptionDate                            \n",
       "2019-01-01       Feeder_75     858     5641\n",
       "2019-02-01       Feeder_75     182     1246\n",
       "2019-03-01       Feeder_75     164     1128\n",
       "2019-04-01       Feeder_75     187     1334\n",
       "2019-05-01       Feeder_75     225     1521"
      ]
     },
     "execution_count": 3,
     "metadata": {},
     "output_type": "execute_result"
    }
   ],
   "source": [
    "dateparse = lambda dates: pd.datetime.strptime(dates, '%Y-%m')\n",
    "dfFeederData = pd.read_csv('Train_Feeder_75.csv', parse_dates=['ConsumptionDate'], index_col='ConsumptionDate',date_parser=dateparse)\n",
    "print ('\\n Parsed Data:')\n",
    "dfFeederData.head()"
   ]
  },
  {
   "cell_type": "code",
   "execution_count": 4,
   "metadata": {},
   "outputs": [
    {
     "data": {
      "text/plain": [
       "4"
      ]
     },
     "execution_count": 4,
     "metadata": {},
     "output_type": "execute_result"
    }
   ],
   "source": [
    "size = int(len(dfFeederData)*.8)\n",
    "size"
   ]
  },
  {
   "cell_type": "code",
   "execution_count": 5,
   "metadata": {},
   "outputs": [],
   "source": [
    "train = dfFeederData.iloc[:size]\n",
    "test = dfFeederData.iloc[size:]"
   ]
  },
  {
   "cell_type": "code",
   "execution_count": 6,
   "metadata": {},
   "outputs": [
    {
     "data": {
      "text/html": [
       "<div>\n",
       "<style scoped>\n",
       "    .dataframe tbody tr th:only-of-type {\n",
       "        vertical-align: middle;\n",
       "    }\n",
       "\n",
       "    .dataframe tbody tr th {\n",
       "        vertical-align: top;\n",
       "    }\n",
       "\n",
       "    .dataframe thead th {\n",
       "        text-align: right;\n",
       "    }\n",
       "</style>\n",
       "<table border=\"1\" class=\"dataframe\">\n",
       "  <thead>\n",
       "    <tr style=\"text-align: right;\">\n",
       "      <th></th>\n",
       "      <th>Feeder</th>\n",
       "      <th>Demand</th>\n",
       "      <th>Revenue</th>\n",
       "    </tr>\n",
       "    <tr>\n",
       "      <th>ConsumptionDate</th>\n",
       "      <th></th>\n",
       "      <th></th>\n",
       "      <th></th>\n",
       "    </tr>\n",
       "  </thead>\n",
       "  <tbody>\n",
       "    <tr>\n",
       "      <td>2019-01-01</td>\n",
       "      <td>Feeder_75</td>\n",
       "      <td>858</td>\n",
       "      <td>5641</td>\n",
       "    </tr>\n",
       "    <tr>\n",
       "      <td>2019-02-01</td>\n",
       "      <td>Feeder_75</td>\n",
       "      <td>182</td>\n",
       "      <td>1246</td>\n",
       "    </tr>\n",
       "    <tr>\n",
       "      <td>2019-03-01</td>\n",
       "      <td>Feeder_75</td>\n",
       "      <td>164</td>\n",
       "      <td>1128</td>\n",
       "    </tr>\n",
       "    <tr>\n",
       "      <td>2019-04-01</td>\n",
       "      <td>Feeder_75</td>\n",
       "      <td>187</td>\n",
       "      <td>1334</td>\n",
       "    </tr>\n",
       "  </tbody>\n",
       "</table>\n",
       "</div>"
      ],
      "text/plain": [
       "                    Feeder  Demand  Revenue\n",
       "ConsumptionDate                            \n",
       "2019-01-01       Feeder_75     858     5641\n",
       "2019-02-01       Feeder_75     182     1246\n",
       "2019-03-01       Feeder_75     164     1128\n",
       "2019-04-01       Feeder_75     187     1334"
      ]
     },
     "execution_count": 6,
     "metadata": {},
     "output_type": "execute_result"
    },
    {
     "data": {
      "text/html": [
       "<div>\n",
       "<style scoped>\n",
       "    .dataframe tbody tr th:only-of-type {\n",
       "        vertical-align: middle;\n",
       "    }\n",
       "\n",
       "    .dataframe tbody tr th {\n",
       "        vertical-align: top;\n",
       "    }\n",
       "\n",
       "    .dataframe thead th {\n",
       "        text-align: right;\n",
       "    }\n",
       "</style>\n",
       "<table border=\"1\" class=\"dataframe\">\n",
       "  <thead>\n",
       "    <tr style=\"text-align: right;\">\n",
       "      <th></th>\n",
       "      <th>Feeder</th>\n",
       "      <th>Demand</th>\n",
       "      <th>Revenue</th>\n",
       "    </tr>\n",
       "    <tr>\n",
       "      <th>ConsumptionDate</th>\n",
       "      <th></th>\n",
       "      <th></th>\n",
       "      <th></th>\n",
       "    </tr>\n",
       "  </thead>\n",
       "  <tbody>\n",
       "    <tr>\n",
       "      <td>2019-01-01</td>\n",
       "      <td>Feeder_75</td>\n",
       "      <td>858</td>\n",
       "      <td>5641</td>\n",
       "    </tr>\n",
       "    <tr>\n",
       "      <td>2019-02-01</td>\n",
       "      <td>Feeder_75</td>\n",
       "      <td>182</td>\n",
       "      <td>1246</td>\n",
       "    </tr>\n",
       "    <tr>\n",
       "      <td>2019-03-01</td>\n",
       "      <td>Feeder_75</td>\n",
       "      <td>164</td>\n",
       "      <td>1128</td>\n",
       "    </tr>\n",
       "    <tr>\n",
       "      <td>2019-04-01</td>\n",
       "      <td>Feeder_75</td>\n",
       "      <td>187</td>\n",
       "      <td>1334</td>\n",
       "    </tr>\n",
       "  </tbody>\n",
       "</table>\n",
       "</div>"
      ],
      "text/plain": [
       "                    Feeder  Demand  Revenue\n",
       "ConsumptionDate                            \n",
       "2019-01-01       Feeder_75     858     5641\n",
       "2019-02-01       Feeder_75     182     1246\n",
       "2019-03-01       Feeder_75     164     1128\n",
       "2019-04-01       Feeder_75     187     1334"
      ]
     },
     "execution_count": 6,
     "metadata": {},
     "output_type": "execute_result"
    },
    {
     "data": {
      "text/html": [
       "<div>\n",
       "<style scoped>\n",
       "    .dataframe tbody tr th:only-of-type {\n",
       "        vertical-align: middle;\n",
       "    }\n",
       "\n",
       "    .dataframe tbody tr th {\n",
       "        vertical-align: top;\n",
       "    }\n",
       "\n",
       "    .dataframe thead th {\n",
       "        text-align: right;\n",
       "    }\n",
       "</style>\n",
       "<table border=\"1\" class=\"dataframe\">\n",
       "  <thead>\n",
       "    <tr style=\"text-align: right;\">\n",
       "      <th></th>\n",
       "      <th>Feeder</th>\n",
       "      <th>Demand</th>\n",
       "      <th>Revenue</th>\n",
       "    </tr>\n",
       "    <tr>\n",
       "      <th>ConsumptionDate</th>\n",
       "      <th></th>\n",
       "      <th></th>\n",
       "      <th></th>\n",
       "    </tr>\n",
       "  </thead>\n",
       "  <tbody>\n",
       "    <tr>\n",
       "      <td>2019-05-01</td>\n",
       "      <td>Feeder_75</td>\n",
       "      <td>225</td>\n",
       "      <td>1521</td>\n",
       "    </tr>\n",
       "    <tr>\n",
       "      <td>2019-06-01</td>\n",
       "      <td>Feeder_75</td>\n",
       "      <td>228</td>\n",
       "      <td>1772</td>\n",
       "    </tr>\n",
       "  </tbody>\n",
       "</table>\n",
       "</div>"
      ],
      "text/plain": [
       "                    Feeder  Demand  Revenue\n",
       "ConsumptionDate                            \n",
       "2019-05-01       Feeder_75     225     1521\n",
       "2019-06-01       Feeder_75     228     1772"
      ]
     },
     "execution_count": 6,
     "metadata": {},
     "output_type": "execute_result"
    },
    {
     "data": {
      "text/html": [
       "<div>\n",
       "<style scoped>\n",
       "    .dataframe tbody tr th:only-of-type {\n",
       "        vertical-align: middle;\n",
       "    }\n",
       "\n",
       "    .dataframe tbody tr th {\n",
       "        vertical-align: top;\n",
       "    }\n",
       "\n",
       "    .dataframe thead th {\n",
       "        text-align: right;\n",
       "    }\n",
       "</style>\n",
       "<table border=\"1\" class=\"dataframe\">\n",
       "  <thead>\n",
       "    <tr style=\"text-align: right;\">\n",
       "      <th></th>\n",
       "      <th>Feeder</th>\n",
       "      <th>Demand</th>\n",
       "      <th>Revenue</th>\n",
       "    </tr>\n",
       "    <tr>\n",
       "      <th>ConsumptionDate</th>\n",
       "      <th></th>\n",
       "      <th></th>\n",
       "      <th></th>\n",
       "    </tr>\n",
       "  </thead>\n",
       "  <tbody>\n",
       "    <tr>\n",
       "      <td>2019-05-01</td>\n",
       "      <td>Feeder_75</td>\n",
       "      <td>225</td>\n",
       "      <td>1521</td>\n",
       "    </tr>\n",
       "    <tr>\n",
       "      <td>2019-06-01</td>\n",
       "      <td>Feeder_75</td>\n",
       "      <td>228</td>\n",
       "      <td>1772</td>\n",
       "    </tr>\n",
       "  </tbody>\n",
       "</table>\n",
       "</div>"
      ],
      "text/plain": [
       "                    Feeder  Demand  Revenue\n",
       "ConsumptionDate                            \n",
       "2019-05-01       Feeder_75     225     1521\n",
       "2019-06-01       Feeder_75     228     1772"
      ]
     },
     "execution_count": 6,
     "metadata": {},
     "output_type": "execute_result"
    }
   ],
   "source": [
    "train.head(10)\n",
    "train.tail(10)\n",
    "test.head(10)\n",
    "test.tail(10)"
   ]
  },
  {
   "cell_type": "code",
   "execution_count": 7,
   "metadata": {},
   "outputs": [],
   "source": [
    "def mean_absolute_percentage_error(y_true, y_pred): \n",
    "    y_true\n",
    "    y_pred\n",
    "   #    y_true, y_pred = check_array(y_true, y_pred)\n",
    "   \n",
    "    ## Note: does not handle mix 1d representation\n",
    "    #if _is_1d(y_true): \n",
    "    #    y_true, y_pred = _check_1d_array(y_true, y_pred)\n",
    "    print(np.abs((y_true - y_pred) / y_true))\n",
    "    return np.mean(np.abs((y_true - y_pred) / y_true)) * 100"
   ]
  },
  {
   "cell_type": "code",
   "execution_count": 8,
   "metadata": {},
   "outputs": [
    {
     "data": {
      "text/html": [
       "<div>\n",
       "<style scoped>\n",
       "    .dataframe tbody tr th:only-of-type {\n",
       "        vertical-align: middle;\n",
       "    }\n",
       "\n",
       "    .dataframe tbody tr th {\n",
       "        vertical-align: top;\n",
       "    }\n",
       "\n",
       "    .dataframe thead th {\n",
       "        text-align: right;\n",
       "    }\n",
       "</style>\n",
       "<table border=\"1\" class=\"dataframe\">\n",
       "  <thead>\n",
       "    <tr style=\"text-align: right;\">\n",
       "      <th></th>\n",
       "      <th>Feeder</th>\n",
       "    </tr>\n",
       "    <tr>\n",
       "      <th>ConsumptionDate</th>\n",
       "      <th></th>\n",
       "    </tr>\n",
       "  </thead>\n",
       "  <tbody>\n",
       "    <tr>\n",
       "      <td>2019-05-01</td>\n",
       "      <td>Feeder_75</td>\n",
       "    </tr>\n",
       "  </tbody>\n",
       "</table>\n",
       "</div>"
      ],
      "text/plain": [
       "                    Feeder\n",
       "ConsumptionDate           \n",
       "2019-05-01       Feeder_75"
      ]
     },
     "execution_count": 8,
     "metadata": {},
     "output_type": "execute_result"
    }
   ],
   "source": [
    "y_Result = test.copy()\n",
    "y_Result = y_Result.iloc[0:1]\n",
    "y_Result = y_Result.drop(['Revenue','Demand'], axis = 1)\n",
    "\n",
    "y_Result"
   ]
  },
  {
   "cell_type": "markdown",
   "metadata": {},
   "source": [
    "### Naive Approach"
   ]
  },
  {
   "cell_type": "code",
   "execution_count": 9,
   "metadata": {},
   "outputs": [],
   "source": [
    "dd= np.asarray(train.Demand)\n",
    "y_hat = test.copy()\n",
    "y_hat['naive'] = dd[len(dd)-1]\n"
   ]
  },
  {
   "cell_type": "code",
   "execution_count": 10,
   "metadata": {},
   "outputs": [
    {
     "data": {
      "text/plain": [
       "<Figure size 864x576 with 0 Axes>"
      ]
     },
     "execution_count": 10,
     "metadata": {},
     "output_type": "execute_result"
    },
    {
     "data": {
      "text/plain": [
       "[<matplotlib.lines.Line2D at 0x2539ee676c8>]"
      ]
     },
     "execution_count": 10,
     "metadata": {},
     "output_type": "execute_result"
    },
    {
     "data": {
      "text/plain": [
       "[<matplotlib.lines.Line2D at 0x2539eeadfc8>]"
      ]
     },
     "execution_count": 10,
     "metadata": {},
     "output_type": "execute_result"
    },
    {
     "data": {
      "text/plain": [
       "[<matplotlib.lines.Line2D at 0x2539ee8fe48>]"
      ]
     },
     "execution_count": 10,
     "metadata": {},
     "output_type": "execute_result"
    },
    {
     "data": {
      "text/plain": [
       "<matplotlib.legend.Legend at 0x2539eec9ac8>"
      ]
     },
     "execution_count": 10,
     "metadata": {},
     "output_type": "execute_result"
    },
    {
     "data": {
      "text/plain": [
       "Text(0.5, 1.0, 'Naive Forecast')"
      ]
     },
     "execution_count": 10,
     "metadata": {},
     "output_type": "execute_result"
    },
    {
     "data": {
      "image/png": "[encoded data removed]",
      "text/plain": [
       "<Figure size 864x576 with 1 Axes>"
      ]
     },
     "metadata": {
      "needs_background": "light"
     },
     "output_type": "display_data"
    }
   ],
   "source": [
    "plt.figure(figsize=(12,8))\n",
    "plt.plot(train.index, train['Demand'], label='Train')\n",
    "plt.plot(test.index,test['Demand'], label='Test')\n",
    "plt.plot(y_hat.index,y_hat['naive'], label='Naive Forecast')\n",
    "plt.legend(loc='best')\n",
    "plt.title(\"Naive Forecast\")\n",
    "plt.show()"
   ]
  },
  {
   "cell_type": "code",
   "execution_count": 11,
   "metadata": {},
   "outputs": [
    {
     "name": "stdout",
     "output_type": "stream",
     "text": [
      "ConsumptionDate\n",
      "2019-05-01    0.168889\n",
      "2019-06-01    0.179825\n",
      "dtype: float64\n",
      "RMSE with naive approach : \n"
     ]
    },
    {
     "data": {
      "text/html": [
       "<div>\n",
       "<style scoped>\n",
       "    .dataframe tbody tr th:only-of-type {\n",
       "        vertical-align: middle;\n",
       "    }\n",
       "\n",
       "    .dataframe tbody tr th {\n",
       "        vertical-align: top;\n",
       "    }\n",
       "\n",
       "    .dataframe thead th {\n",
       "        text-align: right;\n",
       "    }\n",
       "</style>\n",
       "<table border=\"1\" class=\"dataframe\">\n",
       "  <thead>\n",
       "    <tr style=\"text-align: right;\">\n",
       "      <th></th>\n",
       "      <th>Feeder</th>\n",
       "      <th>naive-MSE</th>\n",
       "      <th>naive-MAE</th>\n",
       "      <th>naive-MAPE</th>\n",
       "    </tr>\n",
       "    <tr>\n",
       "      <th>ConsumptionDate</th>\n",
       "      <th></th>\n",
       "      <th></th>\n",
       "      <th></th>\n",
       "      <th></th>\n",
       "    </tr>\n",
       "  </thead>\n",
       "  <tbody>\n",
       "    <tr>\n",
       "      <td>2019-05-01</td>\n",
       "      <td>Feeder_75</td>\n",
       "      <td>1562.5</td>\n",
       "      <td>39.5</td>\n",
       "      <td>17.435673</td>\n",
       "    </tr>\n",
       "  </tbody>\n",
       "</table>\n",
       "</div>"
      ],
      "text/plain": [
       "                    Feeder  naive-MSE  naive-MAE  naive-MAPE\n",
       "ConsumptionDate                                             \n",
       "2019-05-01       Feeder_75     1562.5       39.5   17.435673"
      ]
     },
     "execution_count": 11,
     "metadata": {},
     "output_type": "execute_result"
    }
   ],
   "source": [
    "y_Result['naive-MSE'] = mean_squared_error(test.Demand, y_hat.naive)\n",
    "y_Result['naive-MAE'] = mean_absolute_error(test.Demand, y_hat.naive)\n",
    "y_Result['naive-MAPE'] = mean_absolute_percentage_error(test.Demand, y_hat.naive)\n",
    "print('RMSE with naive approach : ')\n",
    "y_Result"
   ]
  },
  {
   "cell_type": "markdown",
   "metadata": {},
   "source": [
    "### Simple Average"
   ]
  },
  {
   "cell_type": "code",
   "execution_count": 12,
   "metadata": {},
   "outputs": [
    {
     "data": {
      "text/plain": [
       "<Figure size 864x576 with 0 Axes>"
      ]
     },
     "execution_count": 12,
     "metadata": {},
     "output_type": "execute_result"
    },
    {
     "data": {
      "text/plain": [
       "[<matplotlib.lines.Line2D at 0x253a5844548>]"
      ]
     },
     "execution_count": 12,
     "metadata": {},
     "output_type": "execute_result"
    },
    {
     "data": {
      "text/plain": [
       "[<matplotlib.lines.Line2D at 0x2539ee37f48>]"
      ]
     },
     "execution_count": 12,
     "metadata": {},
     "output_type": "execute_result"
    },
    {
     "data": {
      "text/plain": [
       "[<matplotlib.lines.Line2D at 0x253a5878e48>]"
      ]
     },
     "execution_count": 12,
     "metadata": {},
     "output_type": "execute_result"
    },
    {
     "data": {
      "text/plain": [
       "<matplotlib.legend.Legend at 0x253a5878d08>"
      ]
     },
     "execution_count": 12,
     "metadata": {},
     "output_type": "execute_result"
    },
    {
     "data": {
      "image/png": "[encoded data removed]",
      "text/plain": [
       "<Figure size 864x576 with 1 Axes>"
      ]
     },
     "metadata": {
      "needs_background": "light"
     },
     "output_type": "display_data"
    }
   ],
   "source": [
    "#y_hat = test.copy()\n",
    "y_hat['avg_forecast'] = train['Demand'].mean()\n",
    "plt.figure(figsize=(12,8))\n",
    "plt.plot(train['Demand'], label='Train')\n",
    "plt.plot(test['Demand'], label='Test')\n",
    "plt.plot(y_hat['avg_forecast'], label='Average Forecast')\n",
    "plt.legend(loc='best')\n",
    "plt.show()"
   ]
  },
  {
   "cell_type": "code",
   "execution_count": 13,
   "metadata": {},
   "outputs": [
    {
     "name": "stdout",
     "output_type": "stream",
     "text": [
      "ConsumptionDate\n",
      "2019-05-01    0.545556\n",
      "2019-06-01    0.525219\n",
      "dtype: float64\n"
     ]
    },
    {
     "data": {
      "text/plain": [
       "53.538742690058484"
      ]
     },
     "execution_count": 13,
     "metadata": {},
     "output_type": "execute_result"
    },
    {
     "name": "stdout",
     "output_type": "stream",
     "text": [
      "ConsumptionDate\n",
      "2019-05-01    0.545556\n",
      "2019-06-01    0.525219\n",
      "dtype: float64\n",
      "RMSE with Simple Average approach :  121.25927799554144\n"
     ]
    },
    {
     "data": {
      "text/html": [
       "<div>\n",
       "<style scoped>\n",
       "    .dataframe tbody tr th:only-of-type {\n",
       "        vertical-align: middle;\n",
       "    }\n",
       "\n",
       "    .dataframe tbody tr th {\n",
       "        vertical-align: top;\n",
       "    }\n",
       "\n",
       "    .dataframe thead th {\n",
       "        text-align: right;\n",
       "    }\n",
       "</style>\n",
       "<table border=\"1\" class=\"dataframe\">\n",
       "  <thead>\n",
       "    <tr style=\"text-align: right;\">\n",
       "      <th></th>\n",
       "      <th>Feeder</th>\n",
       "      <th>naive-MSE</th>\n",
       "      <th>naive-MAE</th>\n",
       "      <th>naive-MAPE</th>\n",
       "      <th>SimpeAvg-MSE</th>\n",
       "      <th>SimpeAvg-MAE</th>\n",
       "      <th>SimpeAvg-MAPE</th>\n",
       "    </tr>\n",
       "    <tr>\n",
       "      <th>ConsumptionDate</th>\n",
       "      <th></th>\n",
       "      <th></th>\n",
       "      <th></th>\n",
       "      <th></th>\n",
       "      <th></th>\n",
       "      <th></th>\n",
       "      <th></th>\n",
       "    </tr>\n",
       "  </thead>\n",
       "  <tbody>\n",
       "    <tr>\n",
       "      <td>2019-05-01</td>\n",
       "      <td>Feeder_75</td>\n",
       "      <td>1562.5</td>\n",
       "      <td>39.5</td>\n",
       "      <td>17.435673</td>\n",
       "      <td>14703.8125</td>\n",
       "      <td>121.25</td>\n",
       "      <td>53.538743</td>\n",
       "    </tr>\n",
       "  </tbody>\n",
       "</table>\n",
       "</div>"
      ],
      "text/plain": [
       "                    Feeder  naive-MSE  naive-MAE  naive-MAPE  SimpeAvg-MSE  \\\n",
       "ConsumptionDate                                                              \n",
       "2019-05-01       Feeder_75     1562.5       39.5   17.435673    14703.8125   \n",
       "\n",
       "                 SimpeAvg-MAE  SimpeAvg-MAPE  \n",
       "ConsumptionDate                               \n",
       "2019-05-01             121.25      53.538743  "
      ]
     },
     "execution_count": 13,
     "metadata": {},
     "output_type": "execute_result"
    }
   ],
   "source": [
    "rms = sqrt(mean_squared_error(test.Demand, y_hat.avg_forecast))\n",
    "mean_absolute_percentage_error(test.Demand, y_hat.avg_forecast)\n",
    "y_Result['SimpeAvg-MSE'] = mean_squared_error(test.Demand, y_hat.avg_forecast)\n",
    "y_Result['SimpeAvg-MAE'] = mean_absolute_error(test.Demand, y_hat.avg_forecast)\n",
    "y_Result['SimpeAvg-MAPE'] = mean_absolute_percentage_error(test.Demand, y_hat.avg_forecast)\n",
    "print('RMSE with Simple Average approach : ', rms)\n",
    "y_Result"
   ]
  },
  {
   "cell_type": "markdown",
   "metadata": {},
   "source": [
    "### Moving Average"
   ]
  },
  {
   "cell_type": "code",
   "execution_count": 14,
   "metadata": {},
   "outputs": [],
   "source": [
    "#y_hat = test.copy()\n",
    "y_hat['moving_avg_forecast'] = train['Demand'].rolling(3).mean().iloc[-1]"
   ]
  },
  {
   "cell_type": "code",
   "execution_count": 15,
   "metadata": {},
   "outputs": [
    {
     "data": {
      "text/html": [
       "<div>\n",
       "<style scoped>\n",
       "    .dataframe tbody tr th:only-of-type {\n",
       "        vertical-align: middle;\n",
       "    }\n",
       "\n",
       "    .dataframe tbody tr th {\n",
       "        vertical-align: top;\n",
       "    }\n",
       "\n",
       "    .dataframe thead th {\n",
       "        text-align: right;\n",
       "    }\n",
       "</style>\n",
       "<table border=\"1\" class=\"dataframe\">\n",
       "  <thead>\n",
       "    <tr style=\"text-align: right;\">\n",
       "      <th></th>\n",
       "      <th>Feeder</th>\n",
       "      <th>Demand</th>\n",
       "      <th>Revenue</th>\n",
       "      <th>naive</th>\n",
       "      <th>avg_forecast</th>\n",
       "      <th>moving_avg_forecast</th>\n",
       "    </tr>\n",
       "    <tr>\n",
       "      <th>ConsumptionDate</th>\n",
       "      <th></th>\n",
       "      <th></th>\n",
       "      <th></th>\n",
       "      <th></th>\n",
       "      <th></th>\n",
       "      <th></th>\n",
       "    </tr>\n",
       "  </thead>\n",
       "  <tbody>\n",
       "    <tr>\n",
       "      <td>2019-05-01</td>\n",
       "      <td>Feeder_75</td>\n",
       "      <td>225</td>\n",
       "      <td>1521</td>\n",
       "      <td>187</td>\n",
       "      <td>347.75</td>\n",
       "      <td>177.666667</td>\n",
       "    </tr>\n",
       "    <tr>\n",
       "      <td>2019-06-01</td>\n",
       "      <td>Feeder_75</td>\n",
       "      <td>228</td>\n",
       "      <td>1772</td>\n",
       "      <td>187</td>\n",
       "      <td>347.75</td>\n",
       "      <td>177.666667</td>\n",
       "    </tr>\n",
       "  </tbody>\n",
       "</table>\n",
       "</div>"
      ],
      "text/plain": [
       "                    Feeder  Demand  Revenue  naive  avg_forecast  \\\n",
       "ConsumptionDate                                                    \n",
       "2019-05-01       Feeder_75     225     1521    187        347.75   \n",
       "2019-06-01       Feeder_75     228     1772    187        347.75   \n",
       "\n",
       "                 moving_avg_forecast  \n",
       "ConsumptionDate                       \n",
       "2019-05-01                177.666667  \n",
       "2019-06-01                177.666667  "
      ]
     },
     "execution_count": 15,
     "metadata": {},
     "output_type": "execute_result"
    }
   ],
   "source": [
    "y_hat"
   ]
  },
  {
   "cell_type": "code",
   "execution_count": 16,
   "metadata": {},
   "outputs": [
    {
     "data": {
      "text/plain": [
       "<Figure size 1152x576 with 0 Axes>"
      ]
     },
     "execution_count": 16,
     "metadata": {},
     "output_type": "execute_result"
    },
    {
     "data": {
      "text/plain": [
       "[<matplotlib.lines.Line2D at 0x2539ef1f208>]"
      ]
     },
     "execution_count": 16,
     "metadata": {},
     "output_type": "execute_result"
    },
    {
     "data": {
      "text/plain": [
       "[<matplotlib.lines.Line2D at 0x253a58cfc48>]"
      ]
     },
     "execution_count": 16,
     "metadata": {},
     "output_type": "execute_result"
    },
    {
     "data": {
      "text/plain": [
       "[<matplotlib.lines.Line2D at 0x253a5909908>]"
      ]
     },
     "execution_count": 16,
     "metadata": {},
     "output_type": "execute_result"
    },
    {
     "data": {
      "text/plain": [
       "<matplotlib.legend.Legend at 0x253a5904d88>"
      ]
     },
     "execution_count": 16,
     "metadata": {},
     "output_type": "execute_result"
    },
    {
     "data": {
      "image/png": "[encoded data removed]",
      "text/plain": [
       "<Figure size 1152x576 with 1 Axes>"
      ]
     },
     "metadata": {
      "needs_background": "light"
     },
     "output_type": "display_data"
    }
   ],
   "source": [
    "plt.figure(figsize=(16,8))\n",
    "plt.plot(train['Demand'], label='Train')\n",
    "plt.plot(test['Demand'], label='Test')\n",
    "plt.plot(y_hat['moving_avg_forecast'], label='Moving Average Forecast')\n",
    "plt.legend(loc='best')\n",
    "plt.show()"
   ]
  },
  {
   "cell_type": "code",
   "execution_count": 17,
   "metadata": {},
   "outputs": [
    {
     "name": "stdout",
     "output_type": "stream",
     "text": [
      "ConsumptionDate\n",
      "2019-05-01    0.21037\n",
      "2019-06-01    0.22076\n",
      "dtype: float64\n"
     ]
    },
    {
     "data": {
      "text/plain": [
       "21.556530214424953"
      ]
     },
     "execution_count": 17,
     "metadata": {},
     "output_type": "execute_result"
    },
    {
     "name": "stdout",
     "output_type": "stream",
     "text": [
      "RMSE with Moving Average approach :  48.85636544447863\n",
      "ConsumptionDate\n",
      "2019-05-01    0.21037\n",
      "2019-06-01    0.22076\n",
      "dtype: float64\n"
     ]
    },
    {
     "data": {
      "text/html": [
       "<div>\n",
       "<style scoped>\n",
       "    .dataframe tbody tr th:only-of-type {\n",
       "        vertical-align: middle;\n",
       "    }\n",
       "\n",
       "    .dataframe tbody tr th {\n",
       "        vertical-align: top;\n",
       "    }\n",
       "\n",
       "    .dataframe thead th {\n",
       "        text-align: right;\n",
       "    }\n",
       "</style>\n",
       "<table border=\"1\" class=\"dataframe\">\n",
       "  <thead>\n",
       "    <tr style=\"text-align: right;\">\n",
       "      <th></th>\n",
       "      <th>Feeder</th>\n",
       "      <th>naive-MSE</th>\n",
       "      <th>naive-MAE</th>\n",
       "      <th>naive-MAPE</th>\n",
       "      <th>SimpeAvg-MSE</th>\n",
       "      <th>SimpeAvg-MAE</th>\n",
       "      <th>SimpeAvg-MAPE</th>\n",
       "      <th>MovingAvg-MSE</th>\n",
       "      <th>MovingAvg-MAE</th>\n",
       "      <th>MovingAvg-MAPE</th>\n",
       "    </tr>\n",
       "    <tr>\n",
       "      <th>ConsumptionDate</th>\n",
       "      <th></th>\n",
       "      <th></th>\n",
       "      <th></th>\n",
       "      <th></th>\n",
       "      <th></th>\n",
       "      <th></th>\n",
       "      <th></th>\n",
       "      <th></th>\n",
       "      <th></th>\n",
       "      <th></th>\n",
       "    </tr>\n",
       "  </thead>\n",
       "  <tbody>\n",
       "    <tr>\n",
       "      <td>2019-05-01</td>\n",
       "      <td>Feeder_75</td>\n",
       "      <td>1562.5</td>\n",
       "      <td>39.5</td>\n",
       "      <td>17.435673</td>\n",
       "      <td>14703.8125</td>\n",
       "      <td>121.25</td>\n",
       "      <td>53.538743</td>\n",
       "      <td>2386.944444</td>\n",
       "      <td>48.833333</td>\n",
       "      <td>21.55653</td>\n",
       "    </tr>\n",
       "  </tbody>\n",
       "</table>\n",
       "</div>"
      ],
      "text/plain": [
       "                    Feeder  naive-MSE  naive-MAE  naive-MAPE  SimpeAvg-MSE  \\\n",
       "ConsumptionDate                                                              \n",
       "2019-05-01       Feeder_75     1562.5       39.5   17.435673    14703.8125   \n",
       "\n",
       "                 SimpeAvg-MAE  SimpeAvg-MAPE  MovingAvg-MSE  MovingAvg-MAE  \\\n",
       "ConsumptionDate                                                              \n",
       "2019-05-01             121.25      53.538743    2386.944444      48.833333   \n",
       "\n",
       "                 MovingAvg-MAPE  \n",
       "ConsumptionDate                  \n",
       "2019-05-01             21.55653  "
      ]
     },
     "execution_count": 17,
     "metadata": {},
     "output_type": "execute_result"
    }
   ],
   "source": [
    "rms = sqrt(mean_squared_error(test.Demand, y_hat.moving_avg_forecast))\n",
    "mean_absolute_percentage_error(test.Demand, y_hat.moving_avg_forecast)\n",
    "print('RMSE with Moving Average approach : ', rms)\n",
    "y_Result['MovingAvg-MSE'] = mean_squared_error(test.Demand, y_hat.moving_avg_forecast)\n",
    "y_Result['MovingAvg-MAE'] = mean_absolute_error(test.Demand, y_hat.moving_avg_forecast)\n",
    "y_Result['MovingAvg-MAPE'] = mean_absolute_percentage_error(test.Demand, y_hat.moving_avg_forecast)\n",
    "y_Result"
   ]
  },
  {
   "cell_type": "markdown",
   "metadata": {},
   "source": [
    "### Simple Exponential Smoothing"
   ]
  },
  {
   "cell_type": "code",
   "execution_count": 18,
   "metadata": {},
   "outputs": [
    {
     "data": {
      "text/plain": [
       "<Figure size 1152x576 with 0 Axes>"
      ]
     },
     "execution_count": 18,
     "metadata": {},
     "output_type": "execute_result"
    },
    {
     "data": {
      "text/plain": [
       "[<matplotlib.lines.Line2D at 0x253a58c5488>]"
      ]
     },
     "execution_count": 18,
     "metadata": {},
     "output_type": "execute_result"
    },
    {
     "data": {
      "text/plain": [
       "[<matplotlib.lines.Line2D at 0x253a5958048>]"
      ]
     },
     "execution_count": 18,
     "metadata": {},
     "output_type": "execute_result"
    },
    {
     "data": {
      "text/plain": [
       "[<matplotlib.lines.Line2D at 0x253a5964a88>]"
      ]
     },
     "execution_count": 18,
     "metadata": {},
     "output_type": "execute_result"
    },
    {
     "data": {
      "text/plain": [
       "<matplotlib.legend.Legend at 0x253a59947c8>"
      ]
     },
     "execution_count": 18,
     "metadata": {},
     "output_type": "execute_result"
    },
    {
     "data": {
      "image/png": "[encoded data removed]",
      "text/plain": [
       "<Figure size 1152x576 with 1 Axes>"
      ]
     },
     "metadata": {
      "needs_background": "light"
     },
     "output_type": "display_data"
    }
   ],
   "source": [
    "#y_hat_avg = test.copy()\n",
    "fit2 = SimpleExpSmoothing(np.asarray(train['Demand'])).fit(smoothing_level=0.6,optimized=False)\n",
    "y_hat['SES'] = fit2.forecast(len(test))\n",
    "plt.figure(figsize=(16,8))\n",
    "plt.plot(train['Demand'], label='Train')\n",
    "plt.plot(test['Demand'], label='Test')\n",
    "plt.plot(y_hat['SES'], label='SES')\n",
    "plt.legend(loc='best')\n",
    "plt.show()"
   ]
  },
  {
   "cell_type": "code",
   "execution_count": 19,
   "metadata": {},
   "outputs": [],
   "source": [
    "error = mean_absolute_error(test.Demand,  y_hat.SES)"
   ]
  },
  {
   "cell_type": "code",
   "execution_count": 20,
   "metadata": {},
   "outputs": [
    {
     "name": "stdout",
     "output_type": "stream",
     "text": [
      "ConsumptionDate\n",
      "2019-05-01    0.004693\n",
      "2019-06-01    0.017789\n",
      "dtype: float64\n"
     ]
    },
    {
     "data": {
      "text/plain": [
       "1.1241403508771854"
      ]
     },
     "execution_count": 20,
     "metadata": {},
     "output_type": "execute_result"
    }
   ],
   "source": [
    "mean_absolute_percentage_error(test.Demand, y_hat.SES)"
   ]
  },
  {
   "cell_type": "code",
   "execution_count": 21,
   "metadata": {},
   "outputs": [
    {
     "name": "stdout",
     "output_type": "stream",
     "text": [
      "2.963635605130954\n"
     ]
    }
   ],
   "source": [
    "rms = sqrt(mean_squared_error(test.Demand, y_hat.SES))\n",
    "print(rms)"
   ]
  },
  {
   "cell_type": "code",
   "execution_count": 22,
   "metadata": {},
   "outputs": [
    {
     "name": "stdout",
     "output_type": "stream",
     "text": [
      "ConsumptionDate\n",
      "2019-05-01    0.004693\n",
      "2019-06-01    0.017789\n",
      "dtype: float64\n"
     ]
    },
    {
     "data": {
      "text/html": [
       "<div>\n",
       "<style scoped>\n",
       "    .dataframe tbody tr th:only-of-type {\n",
       "        vertical-align: middle;\n",
       "    }\n",
       "\n",
       "    .dataframe tbody tr th {\n",
       "        vertical-align: top;\n",
       "    }\n",
       "\n",
       "    .dataframe thead th {\n",
       "        text-align: right;\n",
       "    }\n",
       "</style>\n",
       "<table border=\"1\" class=\"dataframe\">\n",
       "  <thead>\n",
       "    <tr style=\"text-align: right;\">\n",
       "      <th></th>\n",
       "      <th>Feeder</th>\n",
       "      <th>naive-MSE</th>\n",
       "      <th>naive-MAE</th>\n",
       "      <th>naive-MAPE</th>\n",
       "      <th>SimpeAvg-MSE</th>\n",
       "      <th>SimpeAvg-MAE</th>\n",
       "      <th>SimpeAvg-MAPE</th>\n",
       "      <th>MovingAvg-MSE</th>\n",
       "      <th>MovingAvg-MAE</th>\n",
       "      <th>MovingAvg-MAPE</th>\n",
       "      <th>SES-MSE</th>\n",
       "      <th>SES-MAE</th>\n",
       "      <th>SES-MAPE</th>\n",
       "    </tr>\n",
       "    <tr>\n",
       "      <th>ConsumptionDate</th>\n",
       "      <th></th>\n",
       "      <th></th>\n",
       "      <th></th>\n",
       "      <th></th>\n",
       "      <th></th>\n",
       "      <th></th>\n",
       "      <th></th>\n",
       "      <th></th>\n",
       "      <th></th>\n",
       "      <th></th>\n",
       "      <th></th>\n",
       "      <th></th>\n",
       "      <th></th>\n",
       "    </tr>\n",
       "  </thead>\n",
       "  <tbody>\n",
       "    <tr>\n",
       "      <td>2019-05-01</td>\n",
       "      <td>Feeder_75</td>\n",
       "      <td>1562.5</td>\n",
       "      <td>39.5</td>\n",
       "      <td>17.435673</td>\n",
       "      <td>14703.8125</td>\n",
       "      <td>121.25</td>\n",
       "      <td>53.538743</td>\n",
       "      <td>2386.944444</td>\n",
       "      <td>48.833333</td>\n",
       "      <td>21.55653</td>\n",
       "      <td>8.783136</td>\n",
       "      <td>2.556</td>\n",
       "      <td>1.12414</td>\n",
       "    </tr>\n",
       "  </tbody>\n",
       "</table>\n",
       "</div>"
      ],
      "text/plain": [
       "                    Feeder  naive-MSE  naive-MAE  naive-MAPE  SimpeAvg-MSE  \\\n",
       "ConsumptionDate                                                              \n",
       "2019-05-01       Feeder_75     1562.5       39.5   17.435673    14703.8125   \n",
       "\n",
       "                 SimpeAvg-MAE  SimpeAvg-MAPE  MovingAvg-MSE  MovingAvg-MAE  \\\n",
       "ConsumptionDate                                                              \n",
       "2019-05-01             121.25      53.538743    2386.944444      48.833333   \n",
       "\n",
       "                 MovingAvg-MAPE   SES-MSE  SES-MAE  SES-MAPE  \n",
       "ConsumptionDate                                               \n",
       "2019-05-01             21.55653  8.783136    2.556   1.12414  "
      ]
     },
     "execution_count": 22,
     "metadata": {},
     "output_type": "execute_result"
    }
   ],
   "source": [
    "y_Result['SES-MSE'] = mean_squared_error(test.Demand, y_hat.SES)\n",
    "y_Result['SES-MAE'] = mean_absolute_error(test.Demand, y_hat.SES)\n",
    "y_Result['SES-MAPE'] = mean_absolute_percentage_error(test.Demand, y_hat.SES)\n",
    "y_Result"
   ]
  },
  {
   "cell_type": "markdown",
   "metadata": {},
   "source": [
    "### Holt’s Linear Trend method"
   ]
  },
  {
   "cell_type": "code",
   "execution_count": 23,
   "metadata": {},
   "outputs": [
    {
     "data": {
      "text/plain": [
       "<Figure size 1440x720 with 0 Axes>"
      ]
     },
     "execution_count": 23,
     "metadata": {},
     "output_type": "execute_result"
    },
    {
     "data": {
      "image/png": "[encoded data removed]",
      "text/plain": [
       "<Figure size 432x288 with 4 Axes>"
      ]
     },
     "execution_count": 23,
     "metadata": {},
     "output_type": "execute_result"
    },
    {
     "data": {
      "text/plain": [
       "<Figure size 1440x720 with 0 Axes>"
      ]
     },
     "metadata": {},
     "output_type": "display_data"
    },
    {
     "data": {
      "image/png": "[encoded data removed]",
      "text/plain": [
       "<Figure size 432x288 with 4 Axes>"
      ]
     },
     "metadata": {
      "needs_background": "light"
     },
     "output_type": "display_data"
    }
   ],
   "source": [
    "plt.figure(figsize=(20,10))\n",
    "sm.tsa.seasonal_decompose(train.Demand,freq=3).plot()\n",
    "result = sm.tsa.stattools.adfuller(train.Demand)\n",
    "plt.show()"
   ]
  },
  {
   "cell_type": "code",
   "execution_count": 24,
   "metadata": {},
   "outputs": [
    {
     "data": {
      "text/plain": [
       "<Figure size 1152x576 with 0 Axes>"
      ]
     },
     "execution_count": 24,
     "metadata": {},
     "output_type": "execute_result"
    },
    {
     "data": {
      "text/plain": [
       "[<matplotlib.lines.Line2D at 0x253a6001988>]"
      ]
     },
     "execution_count": 24,
     "metadata": {},
     "output_type": "execute_result"
    },
    {
     "data": {
      "text/plain": [
       "[<matplotlib.lines.Line2D at 0x253a5ffb348>]"
      ]
     },
     "execution_count": 24,
     "metadata": {},
     "output_type": "execute_result"
    },
    {
     "data": {
      "text/plain": [
       "[<matplotlib.lines.Line2D at 0x253a601cd88>]"
      ]
     },
     "execution_count": 24,
     "metadata": {},
     "output_type": "execute_result"
    },
    {
     "data": {
      "text/plain": [
       "<matplotlib.legend.Legend at 0x253a6015948>"
      ]
     },
     "execution_count": 24,
     "metadata": {},
     "output_type": "execute_result"
    },
    {
     "data": {
      "image/png": "[encoded data removed]",
      "text/plain": [
       "<Figure size 1152x576 with 1 Axes>"
      ]
     },
     "metadata": {
      "needs_background": "light"
     },
     "output_type": "display_data"
    }
   ],
   "source": [
    "#y_hat_avg = test.copy()\n",
    "\n",
    "fit1 = Holt(np.asarray(train['Demand'])).fit(smoothing_level = 0.3,smoothing_slope = 0.1)\n",
    "y_hat['Holt_linear'] = fit1.forecast(len(test))\n",
    "\n",
    "plt.figure(figsize=(16,8))\n",
    "plt.plot(train['Demand'], label='Train')\n",
    "plt.plot(test['Demand'], label='Test')\n",
    "plt.plot(y_hat['Holt_linear'], label='Holt_linear')\n",
    "plt.legend(loc='best')\n",
    "plt.show()"
   ]
  },
  {
   "cell_type": "code",
   "execution_count": 25,
   "metadata": {},
   "outputs": [
    {
     "name": "stdout",
     "output_type": "stream",
     "text": [
      "ConsumptionDate\n",
      "2019-05-01    0.315428\n",
      "2019-06-01    0.241096\n",
      "dtype: float64\n"
     ]
    },
    {
     "data": {
      "text/plain": [
       "27.8262256851739"
      ]
     },
     "execution_count": 25,
     "metadata": {},
     "output_type": "execute_result"
    },
    {
     "name": "stdout",
     "output_type": "stream",
     "text": [
      "63.476885859350496\n"
     ]
    }
   ],
   "source": [
    "rms = sqrt(mean_squared_error(test.Demand, y_hat.Holt_linear))\n",
    "mean_absolute_percentage_error(test.Demand, y_hat.Holt_linear)\n",
    "print(rms)"
   ]
  },
  {
   "cell_type": "code",
   "execution_count": 26,
   "metadata": {},
   "outputs": [
    {
     "name": "stdout",
     "output_type": "stream",
     "text": [
      "ConsumptionDate\n",
      "2019-05-01    0.315428\n",
      "2019-06-01    0.241096\n",
      "dtype: float64\n"
     ]
    },
    {
     "data": {
      "text/html": [
       "<div>\n",
       "<style scoped>\n",
       "    .dataframe tbody tr th:only-of-type {\n",
       "        vertical-align: middle;\n",
       "    }\n",
       "\n",
       "    .dataframe tbody tr th {\n",
       "        vertical-align: top;\n",
       "    }\n",
       "\n",
       "    .dataframe thead th {\n",
       "        text-align: right;\n",
       "    }\n",
       "</style>\n",
       "<table border=\"1\" class=\"dataframe\">\n",
       "  <thead>\n",
       "    <tr style=\"text-align: right;\">\n",
       "      <th></th>\n",
       "      <th>Feeder</th>\n",
       "      <th>naive-MSE</th>\n",
       "      <th>naive-MAE</th>\n",
       "      <th>naive-MAPE</th>\n",
       "      <th>SimpeAvg-MSE</th>\n",
       "      <th>SimpeAvg-MAE</th>\n",
       "      <th>SimpeAvg-MAPE</th>\n",
       "      <th>MovingAvg-MSE</th>\n",
       "      <th>MovingAvg-MAE</th>\n",
       "      <th>MovingAvg-MAPE</th>\n",
       "      <th>SES-MSE</th>\n",
       "      <th>SES-MAE</th>\n",
       "      <th>SES-MAPE</th>\n",
       "      <th>Holt_linear-MSE</th>\n",
       "      <th>Holt_linear-MAE</th>\n",
       "      <th>Holt_linear-MAPE</th>\n",
       "    </tr>\n",
       "    <tr>\n",
       "      <th>ConsumptionDate</th>\n",
       "      <th></th>\n",
       "      <th></th>\n",
       "      <th></th>\n",
       "      <th></th>\n",
       "      <th></th>\n",
       "      <th></th>\n",
       "      <th></th>\n",
       "      <th></th>\n",
       "      <th></th>\n",
       "      <th></th>\n",
       "      <th></th>\n",
       "      <th></th>\n",
       "      <th></th>\n",
       "      <th></th>\n",
       "      <th></th>\n",
       "      <th></th>\n",
       "    </tr>\n",
       "  </thead>\n",
       "  <tbody>\n",
       "    <tr>\n",
       "      <td>2019-05-01</td>\n",
       "      <td>Feeder_75</td>\n",
       "      <td>1562.5</td>\n",
       "      <td>39.5</td>\n",
       "      <td>17.435673</td>\n",
       "      <td>14703.8125</td>\n",
       "      <td>121.25</td>\n",
       "      <td>53.538743</td>\n",
       "      <td>2386.944444</td>\n",
       "      <td>48.833333</td>\n",
       "      <td>21.55653</td>\n",
       "      <td>8.783136</td>\n",
       "      <td>2.556</td>\n",
       "      <td>1.12414</td>\n",
       "      <td>4029.315038</td>\n",
       "      <td>62.970652</td>\n",
       "      <td>27.826226</td>\n",
       "    </tr>\n",
       "  </tbody>\n",
       "</table>\n",
       "</div>"
      ],
      "text/plain": [
       "                    Feeder  naive-MSE  naive-MAE  naive-MAPE  SimpeAvg-MSE  \\\n",
       "ConsumptionDate                                                              \n",
       "2019-05-01       Feeder_75     1562.5       39.5   17.435673    14703.8125   \n",
       "\n",
       "                 SimpeAvg-MAE  SimpeAvg-MAPE  MovingAvg-MSE  MovingAvg-MAE  \\\n",
       "ConsumptionDate                                                              \n",
       "2019-05-01             121.25      53.538743    2386.944444      48.833333   \n",
       "\n",
       "                 MovingAvg-MAPE   SES-MSE  SES-MAE  SES-MAPE  Holt_linear-MSE  \\\n",
       "ConsumptionDate                                                                 \n",
       "2019-05-01             21.55653  8.783136    2.556   1.12414      4029.315038   \n",
       "\n",
       "                 Holt_linear-MAE  Holt_linear-MAPE  \n",
       "ConsumptionDate                                     \n",
       "2019-05-01             62.970652         27.826226  "
      ]
     },
     "execution_count": 26,
     "metadata": {},
     "output_type": "execute_result"
    }
   ],
   "source": [
    "y_Result['Holt_linear-MSE'] = mean_squared_error(test.Demand, y_hat.Holt_linear)\n",
    "y_Result['Holt_linear-MAE'] = mean_absolute_error(test.Demand, y_hat.Holt_linear)\n",
    "y_Result['Holt_linear-MAPE'] = mean_absolute_percentage_error(test.Demand, y_hat.Holt_linear)\n",
    "y_Result"
   ]
  },
  {
   "cell_type": "markdown",
   "metadata": {},
   "source": [
    "### Holt-Winters method"
   ]
  },
  {
   "cell_type": "code",
   "execution_count": 27,
   "metadata": {},
   "outputs": [
    {
     "data": {
      "text/plain": [
       "<Figure size 1152x576 with 0 Axes>"
      ]
     },
     "execution_count": 27,
     "metadata": {},
     "output_type": "execute_result"
    },
    {
     "data": {
      "text/plain": [
       "[<matplotlib.lines.Line2D at 0x253a5f8aa88>]"
      ]
     },
     "execution_count": 27,
     "metadata": {},
     "output_type": "execute_result"
    },
    {
     "data": {
      "text/plain": [
       "[<matplotlib.lines.Line2D at 0x2539ef0acc8>]"
      ]
     },
     "execution_count": 27,
     "metadata": {},
     "output_type": "execute_result"
    },
    {
     "data": {
      "text/plain": [
       "[<matplotlib.lines.Line2D at 0x253a6048e08>]"
      ]
     },
     "execution_count": 27,
     "metadata": {},
     "output_type": "execute_result"
    },
    {
     "data": {
      "text/plain": [
       "<matplotlib.legend.Legend at 0x253a6096388>"
      ]
     },
     "execution_count": 27,
     "metadata": {},
     "output_type": "execute_result"
    },
    {
     "data": {
      "image/png": "[encoded data removed]",
      "text/plain": [
       "<Figure size 1152x576 with 1 Axes>"
      ]
     },
     "metadata": {
      "needs_background": "light"
     },
     "output_type": "display_data"
    }
   ],
   "source": [
    "#y_hat_avg = test.copy()\n",
    "fit1 = ExponentialSmoothing(np.asarray(train['Demand']) ,seasonal_periods=3 ,trend='add', seasonal='add',).fit()\n",
    "y_hat['Holt_Winter'] = fit1.forecast(len(test))\n",
    "plt.figure(figsize=(16,8))\n",
    "plt.plot( train['Demand'], label='Train')\n",
    "plt.plot(test['Demand'], label='Test')\n",
    "plt.plot(y_hat['Holt_Winter'], label='Holt_Winter')\n",
    "plt.legend(loc='best')\n",
    "plt.show()"
   ]
  },
  {
   "cell_type": "code",
   "execution_count": 28,
   "metadata": {},
   "outputs": [
    {
     "name": "stdout",
     "output_type": "stream",
     "text": [
      "ConsumptionDate\n",
      "2019-05-01    0.356332\n",
      "2019-06-01    0.451902\n",
      "dtype: float64\n"
     ]
    },
    {
     "data": {
      "text/plain": [
       "40.41169092857481"
      ]
     },
     "execution_count": 28,
     "metadata": {},
     "output_type": "execute_result"
    },
    {
     "name": "stdout",
     "output_type": "stream",
     "text": [
      "92.31443061252203\n"
     ]
    }
   ],
   "source": [
    "rms = sqrt(mean_squared_error(test.Demand, y_hat.Holt_Winter))\n",
    "mean_absolute_percentage_error(test.Demand, y_hat.Holt_Winter)\n",
    "print(rms)"
   ]
  },
  {
   "cell_type": "code",
   "execution_count": 29,
   "metadata": {},
   "outputs": [
    {
     "name": "stdout",
     "output_type": "stream",
     "text": [
      "ConsumptionDate\n",
      "2019-05-01    0.356332\n",
      "2019-06-01    0.451902\n",
      "dtype: float64\n"
     ]
    },
    {
     "data": {
      "text/html": [
       "<div>\n",
       "<style scoped>\n",
       "    .dataframe tbody tr th:only-of-type {\n",
       "        vertical-align: middle;\n",
       "    }\n",
       "\n",
       "    .dataframe tbody tr th {\n",
       "        vertical-align: top;\n",
       "    }\n",
       "\n",
       "    .dataframe thead th {\n",
       "        text-align: right;\n",
       "    }\n",
       "</style>\n",
       "<table border=\"1\" class=\"dataframe\">\n",
       "  <thead>\n",
       "    <tr style=\"text-align: right;\">\n",
       "      <th></th>\n",
       "      <th>Feeder</th>\n",
       "      <th>naive-MSE</th>\n",
       "      <th>naive-MAE</th>\n",
       "      <th>naive-MAPE</th>\n",
       "      <th>SimpeAvg-MSE</th>\n",
       "      <th>SimpeAvg-MAE</th>\n",
       "      <th>SimpeAvg-MAPE</th>\n",
       "      <th>MovingAvg-MSE</th>\n",
       "      <th>MovingAvg-MAE</th>\n",
       "      <th>MovingAvg-MAPE</th>\n",
       "      <th>SES-MSE</th>\n",
       "      <th>SES-MAE</th>\n",
       "      <th>SES-MAPE</th>\n",
       "      <th>Holt_linear-MSE</th>\n",
       "      <th>Holt_linear-MAE</th>\n",
       "      <th>Holt_linear-MAPE</th>\n",
       "      <th>Holt_Winter-MSE</th>\n",
       "      <th>Holt_Winter-MAE</th>\n",
       "      <th>Holt_Winter-MAPE</th>\n",
       "    </tr>\n",
       "    <tr>\n",
       "      <th>ConsumptionDate</th>\n",
       "      <th></th>\n",
       "      <th></th>\n",
       "      <th></th>\n",
       "      <th></th>\n",
       "      <th></th>\n",
       "      <th></th>\n",
       "      <th></th>\n",
       "      <th></th>\n",
       "      <th></th>\n",
       "      <th></th>\n",
       "      <th></th>\n",
       "      <th></th>\n",
       "      <th></th>\n",
       "      <th></th>\n",
       "      <th></th>\n",
       "      <th></th>\n",
       "      <th></th>\n",
       "      <th></th>\n",
       "      <th></th>\n",
       "    </tr>\n",
       "  </thead>\n",
       "  <tbody>\n",
       "    <tr>\n",
       "      <td>2019-05-01</td>\n",
       "      <td>Feeder_75</td>\n",
       "      <td>1562.5</td>\n",
       "      <td>39.5</td>\n",
       "      <td>17.435673</td>\n",
       "      <td>14703.8125</td>\n",
       "      <td>121.25</td>\n",
       "      <td>53.538743</td>\n",
       "      <td>2386.944444</td>\n",
       "      <td>48.833333</td>\n",
       "      <td>21.55653</td>\n",
       "      <td>8.783136</td>\n",
       "      <td>2.556</td>\n",
       "      <td>1.12414</td>\n",
       "      <td>4029.315038</td>\n",
       "      <td>62.970652</td>\n",
       "      <td>27.826226</td>\n",
       "      <td>8521.954099</td>\n",
       "      <td>91.604157</td>\n",
       "      <td>40.411691</td>\n",
       "    </tr>\n",
       "  </tbody>\n",
       "</table>\n",
       "</div>"
      ],
      "text/plain": [
       "                    Feeder  naive-MSE  naive-MAE  naive-MAPE  SimpeAvg-MSE  \\\n",
       "ConsumptionDate                                                              \n",
       "2019-05-01       Feeder_75     1562.5       39.5   17.435673    14703.8125   \n",
       "\n",
       "                 SimpeAvg-MAE  SimpeAvg-MAPE  MovingAvg-MSE  MovingAvg-MAE  \\\n",
       "ConsumptionDate                                                              \n",
       "2019-05-01             121.25      53.538743    2386.944444      48.833333   \n",
       "\n",
       "                 MovingAvg-MAPE   SES-MSE  SES-MAE  SES-MAPE  Holt_linear-MSE  \\\n",
       "ConsumptionDate                                                                 \n",
       "2019-05-01             21.55653  8.783136    2.556   1.12414      4029.315038   \n",
       "\n",
       "                 Holt_linear-MAE  Holt_linear-MAPE  Holt_Winter-MSE  \\\n",
       "ConsumptionDate                                                       \n",
       "2019-05-01             62.970652         27.826226      8521.954099   \n",
       "\n",
       "                 Holt_Winter-MAE  Holt_Winter-MAPE  \n",
       "ConsumptionDate                                     \n",
       "2019-05-01             91.604157         40.411691  "
      ]
     },
     "execution_count": 29,
     "metadata": {},
     "output_type": "execute_result"
    }
   ],
   "source": [
    "y_Result['Holt_Winter-MSE'] = mean_squared_error(test.Demand, y_hat.Holt_Winter)\n",
    "y_Result['Holt_Winter-MAE'] = mean_absolute_error(test.Demand, y_hat.Holt_Winter)\n",
    "y_Result['Holt_Winter-MAPE'] = mean_absolute_percentage_error(test.Demand, y_hat.Holt_Winter)\n",
    "y_Result"
   ]
  },
  {
   "cell_type": "markdown",
   "metadata": {},
   "source": [
    "### ARIMA method"
   ]
  },
  {
   "cell_type": "code",
   "execution_count": 30,
   "metadata": {},
   "outputs": [
    {
     "name": "stderr",
     "output_type": "stream",
     "text": [
      "C:\\Users\\kiran\\Anaconda3\\envs\\TimeSeries\\lib\\site-packages\\statsmodels\\tsa\\base\\tsa_model.py:165: ValueWarning: No frequency information was provided, so inferred frequency MS will be used.\n",
      "  % freq, ValueWarning)\n"
     ]
    }
   ],
   "source": [
    "#y_hat = test.copy()\n",
    "fit1 = sm.tsa.statespace.SARIMAX(train.Demand, order=(0, 0, 0)).fit()\n",
    "y_hat['SARIMA'] = fit1.predict(start=\"2019-5-1\", end=\"2019-6-1\", dynamic=True)"
   ]
  },
  {
   "cell_type": "code",
   "execution_count": 31,
   "metadata": {},
   "outputs": [
    {
     "data": {
      "text/html": [
       "<div>\n",
       "<style scoped>\n",
       "    .dataframe tbody tr th:only-of-type {\n",
       "        vertical-align: middle;\n",
       "    }\n",
       "\n",
       "    .dataframe tbody tr th {\n",
       "        vertical-align: top;\n",
       "    }\n",
       "\n",
       "    .dataframe thead th {\n",
       "        text-align: right;\n",
       "    }\n",
       "</style>\n",
       "<table border=\"1\" class=\"dataframe\">\n",
       "  <thead>\n",
       "    <tr style=\"text-align: right;\">\n",
       "      <th></th>\n",
       "      <th>Feeder</th>\n",
       "      <th>Demand</th>\n",
       "      <th>Revenue</th>\n",
       "      <th>naive</th>\n",
       "      <th>avg_forecast</th>\n",
       "      <th>moving_avg_forecast</th>\n",
       "      <th>SES</th>\n",
       "      <th>Holt_linear</th>\n",
       "      <th>Holt_Winter</th>\n",
       "      <th>SARIMA</th>\n",
       "    </tr>\n",
       "    <tr>\n",
       "      <th>ConsumptionDate</th>\n",
       "      <th></th>\n",
       "      <th></th>\n",
       "      <th></th>\n",
       "      <th></th>\n",
       "      <th></th>\n",
       "      <th></th>\n",
       "      <th></th>\n",
       "      <th></th>\n",
       "      <th></th>\n",
       "      <th></th>\n",
       "    </tr>\n",
       "  </thead>\n",
       "  <tbody>\n",
       "    <tr>\n",
       "      <td>2019-05-01</td>\n",
       "      <td>Feeder_75</td>\n",
       "      <td>225</td>\n",
       "      <td>1521</td>\n",
       "      <td>187</td>\n",
       "      <td>347.75</td>\n",
       "      <td>177.666667</td>\n",
       "      <td>223.944</td>\n",
       "      <td>295.971404</td>\n",
       "      <td>144.825299</td>\n",
       "      <td>0.0</td>\n",
       "    </tr>\n",
       "    <tr>\n",
       "      <td>2019-06-01</td>\n",
       "      <td>Feeder_75</td>\n",
       "      <td>228</td>\n",
       "      <td>1772</td>\n",
       "      <td>187</td>\n",
       "      <td>347.75</td>\n",
       "      <td>177.666667</td>\n",
       "      <td>223.944</td>\n",
       "      <td>282.969899</td>\n",
       "      <td>124.966387</td>\n",
       "      <td>0.0</td>\n",
       "    </tr>\n",
       "  </tbody>\n",
       "</table>\n",
       "</div>"
      ],
      "text/plain": [
       "                    Feeder  Demand  Revenue  naive  avg_forecast  \\\n",
       "ConsumptionDate                                                    \n",
       "2019-05-01       Feeder_75     225     1521    187        347.75   \n",
       "2019-06-01       Feeder_75     228     1772    187        347.75   \n",
       "\n",
       "                 moving_avg_forecast      SES  Holt_linear  Holt_Winter  \\\n",
       "ConsumptionDate                                                           \n",
       "2019-05-01                177.666667  223.944   295.971404   144.825299   \n",
       "2019-06-01                177.666667  223.944   282.969899   124.966387   \n",
       "\n",
       "                 SARIMA  \n",
       "ConsumptionDate          \n",
       "2019-05-01          0.0  \n",
       "2019-06-01          0.0  "
      ]
     },
     "execution_count": 31,
     "metadata": {},
     "output_type": "execute_result"
    }
   ],
   "source": [
    "y_hat"
   ]
  },
  {
   "cell_type": "code",
   "execution_count": 32,
   "metadata": {},
   "outputs": [
    {
     "data": {
      "text/plain": [
       "<Figure size 1152x576 with 0 Axes>"
      ]
     },
     "execution_count": 32,
     "metadata": {},
     "output_type": "execute_result"
    },
    {
     "data": {
      "text/plain": [
       "[<matplotlib.lines.Line2D at 0x253a6129bc8>]"
      ]
     },
     "execution_count": 32,
     "metadata": {},
     "output_type": "execute_result"
    },
    {
     "data": {
      "text/plain": [
       "[<matplotlib.lines.Line2D at 0x253a6126148>]"
      ]
     },
     "execution_count": 32,
     "metadata": {},
     "output_type": "execute_result"
    },
    {
     "data": {
      "text/plain": [
       "[<matplotlib.lines.Line2D at 0x253a635ad48>]"
      ]
     },
     "execution_count": 32,
     "metadata": {},
     "output_type": "execute_result"
    },
    {
     "data": {
      "text/plain": [
       "<matplotlib.legend.Legend at 0x253a63557c8>"
      ]
     },
     "execution_count": 32,
     "metadata": {},
     "output_type": "execute_result"
    },
    {
     "data": {
      "image/png": "[encoded data removed]",
      "text/plain": [
       "<Figure size 1152x576 with 1 Axes>"
      ]
     },
     "metadata": {
      "needs_background": "light"
     },
     "output_type": "display_data"
    }
   ],
   "source": [
    "plt.figure(figsize=(16,8))\n",
    "plt.plot( train['Demand'], label='Train')\n",
    "plt.plot(test['Demand'], label='Test')\n",
    "plt.plot(y_hat['SARIMA'], label='SARIMA')\n",
    "plt.legend(loc='best')\n",
    "plt.show()"
   ]
  },
  {
   "cell_type": "code",
   "execution_count": 33,
   "metadata": {},
   "outputs": [
    {
     "name": "stdout",
     "output_type": "stream",
     "text": [
      "ConsumptionDate\n",
      "2019-05-01    1.0\n",
      "2019-06-01    1.0\n",
      "dtype: float64\n"
     ]
    },
    {
     "data": {
      "text/plain": [
       "100.0"
      ]
     },
     "execution_count": 33,
     "metadata": {},
     "output_type": "execute_result"
    },
    {
     "name": "stdout",
     "output_type": "stream",
     "text": [
      "226.50496683295933\n"
     ]
    }
   ],
   "source": [
    "rms = sqrt(mean_squared_error(test.Demand, y_hat.SARIMA))\n",
    "\n",
    "mean_absolute_percentage_error(test.Demand, y_hat.SARIMA)\n",
    "print(rms)"
   ]
  },
  {
   "cell_type": "code",
   "execution_count": 34,
   "metadata": {},
   "outputs": [
    {
     "name": "stdout",
     "output_type": "stream",
     "text": [
      "ConsumptionDate\n",
      "2019-05-01    1.0\n",
      "2019-06-01    1.0\n",
      "dtype: float64\n"
     ]
    },
    {
     "data": {
      "text/html": [
       "<div>\n",
       "<style scoped>\n",
       "    .dataframe tbody tr th:only-of-type {\n",
       "        vertical-align: middle;\n",
       "    }\n",
       "\n",
       "    .dataframe tbody tr th {\n",
       "        vertical-align: top;\n",
       "    }\n",
       "\n",
       "    .dataframe thead th {\n",
       "        text-align: right;\n",
       "    }\n",
       "</style>\n",
       "<table border=\"1\" class=\"dataframe\">\n",
       "  <thead>\n",
       "    <tr style=\"text-align: right;\">\n",
       "      <th></th>\n",
       "      <th>Feeder</th>\n",
       "      <th>naive-MSE</th>\n",
       "      <th>naive-MAE</th>\n",
       "      <th>naive-MAPE</th>\n",
       "      <th>SimpeAvg-MSE</th>\n",
       "      <th>SimpeAvg-MAE</th>\n",
       "      <th>SimpeAvg-MAPE</th>\n",
       "      <th>MovingAvg-MSE</th>\n",
       "      <th>MovingAvg-MAE</th>\n",
       "      <th>MovingAvg-MAPE</th>\n",
       "      <th>...</th>\n",
       "      <th>SES-MAPE</th>\n",
       "      <th>Holt_linear-MSE</th>\n",
       "      <th>Holt_linear-MAE</th>\n",
       "      <th>Holt_linear-MAPE</th>\n",
       "      <th>Holt_Winter-MSE</th>\n",
       "      <th>Holt_Winter-MAE</th>\n",
       "      <th>Holt_Winter-MAPE</th>\n",
       "      <th>SARIMA-MSE</th>\n",
       "      <th>SARIMA-MAE</th>\n",
       "      <th>SARIMA-MAPE</th>\n",
       "    </tr>\n",
       "    <tr>\n",
       "      <th>ConsumptionDate</th>\n",
       "      <th></th>\n",
       "      <th></th>\n",
       "      <th></th>\n",
       "      <th></th>\n",
       "      <th></th>\n",
       "      <th></th>\n",
       "      <th></th>\n",
       "      <th></th>\n",
       "      <th></th>\n",
       "      <th></th>\n",
       "      <th></th>\n",
       "      <th></th>\n",
       "      <th></th>\n",
       "      <th></th>\n",
       "      <th></th>\n",
       "      <th></th>\n",
       "      <th></th>\n",
       "      <th></th>\n",
       "      <th></th>\n",
       "      <th></th>\n",
       "      <th></th>\n",
       "    </tr>\n",
       "  </thead>\n",
       "  <tbody>\n",
       "    <tr>\n",
       "      <td>2019-05-01</td>\n",
       "      <td>Feeder_75</td>\n",
       "      <td>1562.5</td>\n",
       "      <td>39.5</td>\n",
       "      <td>17.435673</td>\n",
       "      <td>14703.8125</td>\n",
       "      <td>121.25</td>\n",
       "      <td>53.538743</td>\n",
       "      <td>2386.944444</td>\n",
       "      <td>48.833333</td>\n",
       "      <td>21.55653</td>\n",
       "      <td>...</td>\n",
       "      <td>1.12414</td>\n",
       "      <td>4029.315038</td>\n",
       "      <td>62.970652</td>\n",
       "      <td>27.826226</td>\n",
       "      <td>8521.954099</td>\n",
       "      <td>91.604157</td>\n",
       "      <td>40.411691</td>\n",
       "      <td>51304.5</td>\n",
       "      <td>226.5</td>\n",
       "      <td>100.0</td>\n",
       "    </tr>\n",
       "  </tbody>\n",
       "</table>\n",
       "<p>1 rows × 22 columns</p>\n",
       "</div>"
      ],
      "text/plain": [
       "                    Feeder  naive-MSE  naive-MAE  naive-MAPE  SimpeAvg-MSE  \\\n",
       "ConsumptionDate                                                              \n",
       "2019-05-01       Feeder_75     1562.5       39.5   17.435673    14703.8125   \n",
       "\n",
       "                 SimpeAvg-MAE  SimpeAvg-MAPE  MovingAvg-MSE  MovingAvg-MAE  \\\n",
       "ConsumptionDate                                                              \n",
       "2019-05-01             121.25      53.538743    2386.944444      48.833333   \n",
       "\n",
       "                 MovingAvg-MAPE  ...  SES-MAPE  Holt_linear-MSE  \\\n",
       "ConsumptionDate                  ...                              \n",
       "2019-05-01             21.55653  ...   1.12414      4029.315038   \n",
       "\n",
       "                 Holt_linear-MAE  Holt_linear-MAPE  Holt_Winter-MSE  \\\n",
       "ConsumptionDate                                                       \n",
       "2019-05-01             62.970652         27.826226      8521.954099   \n",
       "\n",
       "                 Holt_Winter-MAE  Holt_Winter-MAPE  SARIMA-MSE  SARIMA-MAE  \\\n",
       "ConsumptionDate                                                              \n",
       "2019-05-01             91.604157         40.411691     51304.5       226.5   \n",
       "\n",
       "                 SARIMA-MAPE  \n",
       "ConsumptionDate               \n",
       "2019-05-01             100.0  \n",
       "\n",
       "[1 rows x 22 columns]"
      ]
     },
     "execution_count": 34,
     "metadata": {},
     "output_type": "execute_result"
    }
   ],
   "source": [
    "y_Result['SARIMA-MSE'] = mean_squared_error(test.Demand, y_hat.SARIMA)\n",
    "y_Result['SARIMA-MAE'] = mean_absolute_error(test.Demand, y_hat.SARIMA)\n",
    "y_Result['SARIMA-MAPE'] = mean_absolute_percentage_error(test.Demand, y_hat.SARIMA)\n",
    "y_Result"
   ]
  },
  {
   "cell_type": "markdown",
   "metadata": {},
   "source": [
    "### Auto ARIMA method"
   ]
  },
  {
   "cell_type": "code",
   "execution_count": 35,
   "metadata": {},
   "outputs": [
    {
     "name": "stderr",
     "output_type": "stream",
     "text": [
      "C:\\Users\\kiran\\Anaconda3\\envs\\TimeSeries\\lib\\site-packages\\sklearn\\externals\\six.py:31: DeprecationWarning: The module is deprecated in version 0.21 and will be removed in version 0.23 since we've dropped support for Python 2.7. Please rely on the official version of six (https://pypi.org/project/six/).\n",
      "  \"(https://pypi.org/project/six/).\", DeprecationWarning)\n",
      "C:\\Users\\kiran\\Anaconda3\\envs\\TimeSeries\\lib\\site-packages\\sklearn\\externals\\joblib\\__init__.py:15: DeprecationWarning: sklearn.externals.joblib is deprecated in 0.21 and will be removed in 0.23. Please import this functionality directly from joblib, which can be installed with: pip install joblib. If this warning is raised when loading pickled models, you may need to re-serialize those models with scikit-learn 0.21+.\n",
      "  warnings.warn(msg, category=DeprecationWarning)\n"
     ]
    }
   ],
   "source": [
    "import pmdarima as pm"
   ]
  },
  {
   "cell_type": "code",
   "execution_count": 36,
   "metadata": {},
   "outputs": [
    {
     "name": "stderr",
     "output_type": "stream",
     "text": [
      "C:\\Users\\kiran\\Anaconda3\\envs\\TimeSeries\\lib\\site-packages\\statsmodels\\tsa\\ar_model.py:763: RuntimeWarning: divide by zero encountered in log\n",
      "  return np.log(self.sigma2) + (1 + self.df_model) * np.log(nobs)/nobs\n",
      "C:\\Users\\kiran\\Anaconda3\\envs\\TimeSeries\\lib\\site-packages\\statsmodels\\tsa\\tsatools.py:695: RuntimeWarning: divide by zero encountered in log\n",
      "  invmacoefs = -np.log((1-macoefs)/(1+macoefs))\n",
      "C:\\Users\\kiran\\Anaconda3\\envs\\TimeSeries\\lib\\site-packages\\statsmodels\\tools\\numdiff.py:243: RuntimeWarning: invalid value encountered in subtract\n",
      "  **kwargs)).imag/2./hess[i, j]\n",
      "C:\\Users\\kiran\\Anaconda3\\envs\\TimeSeries\\lib\\site-packages\\statsmodels\\tsa\\tsatools.py:668: RuntimeWarning: invalid value encountered in true_divide\n",
      "  newparams = ((1-np.exp(-params))/(1+np.exp(-params))).copy()\n",
      "C:\\Users\\kiran\\Anaconda3\\envs\\TimeSeries\\lib\\site-packages\\statsmodels\\tsa\\tsatools.py:669: RuntimeWarning: invalid value encountered in true_divide\n",
      "  tmp = ((1-np.exp(-params))/(1+np.exp(-params))).copy()\n",
      "C:\\Users\\kiran\\Anaconda3\\envs\\TimeSeries\\lib\\site-packages\\statsmodels\\tsa\\kalmanf\\kalmanfilter.py:225: RuntimeWarning: invalid value encountered in log\n",
      "  Z_mat.astype(complex), R_mat, T_mat)\n",
      "C:\\Users\\kiran\\Anaconda3\\envs\\TimeSeries\\lib\\site-packages\\statsmodels\\tsa\\kalmanf\\kalmanfilter.py:225: RuntimeWarning: invalid value encountered in true_divide\n",
      "  Z_mat.astype(complex), R_mat, T_mat)\n",
      "C:\\Users\\kiran\\Anaconda3\\envs\\TimeSeries\\lib\\site-packages\\statsmodels\\tools\\numdiff.py:243: RuntimeWarning: invalid value encountered in multiply\n",
      "  **kwargs)).imag/2./hess[i, j]\n",
      "C:\\Users\\kiran\\Anaconda3\\envs\\TimeSeries\\lib\\site-packages\\statsmodels\\base\\model.py:492: HessianInversionWarning: Inverting hessian failed, no bse or cov_params available\n",
      "  'available', HessianInversionWarning)\n",
      "C:\\Users\\kiran\\Anaconda3\\envs\\TimeSeries\\lib\\site-packages\\statsmodels\\base\\model.py:512: ConvergenceWarning: Maximum Likelihood optimization failed to converge. Check mle_retvals\n",
      "  \"Check mle_retvals\", ConvergenceWarning)\n"
     ]
    }
   ],
   "source": [
    "# Fit your model\n",
    "model = pm.auto_arima(train.Demand, seasonal=False)"
   ]
  },
  {
   "cell_type": "code",
   "execution_count": 37,
   "metadata": {},
   "outputs": [
    {
     "data": {
      "text/plain": [
       "2"
      ]
     },
     "execution_count": 37,
     "metadata": {},
     "output_type": "execute_result"
    }
   ],
   "source": [
    "# make your forecasts\n",
    "test.shape[0]"
   ]
  },
  {
   "cell_type": "code",
   "execution_count": 38,
   "metadata": {},
   "outputs": [],
   "source": [
    "forecasts = model.predict(test.shape[0])  # predict N steps into the future"
   ]
  },
  {
   "cell_type": "code",
   "execution_count": 39,
   "metadata": {},
   "outputs": [
    {
     "data": {
      "text/plain": [
       "array([0, 1, 2, 3, 4])"
      ]
     },
     "execution_count": 39,
     "metadata": {},
     "output_type": "execute_result"
    }
   ],
   "source": [
    "# Visualize the forecasts (blue=train, green=forecasts)\n",
    "x = np.arange(dfFeederData.shape[0]-1)\n",
    "x"
   ]
  },
  {
   "cell_type": "code",
   "execution_count": 40,
   "metadata": {},
   "outputs": [],
   "source": [
    "forecasts = pd.DataFrame(forecasts,index = test.index,columns=['Prediction'])\n",
    "y_hat['AutoARIMA'] = forecasts"
   ]
  },
  {
   "cell_type": "code",
   "execution_count": 41,
   "metadata": {},
   "outputs": [
    {
     "data": {
      "text/plain": [
       "<Figure size 1440x720 with 0 Axes>"
      ]
     },
     "execution_count": 41,
     "metadata": {},
     "output_type": "execute_result"
    },
    {
     "data": {
      "text/plain": [
       "<matplotlib.axes._subplots.AxesSubplot at 0x253a8126648>"
      ]
     },
     "execution_count": 41,
     "metadata": {},
     "output_type": "execute_result"
    },
    {
     "data": {
      "text/plain": [
       "<matplotlib.axes._subplots.AxesSubplot at 0x253a817f788>"
      ]
     },
     "execution_count": 41,
     "metadata": {},
     "output_type": "execute_result"
    },
    {
     "data": {
      "text/plain": [
       "<Figure size 1440x720 with 0 Axes>"
      ]
     },
     "metadata": {},
     "output_type": "display_data"
    },
    {
     "data": {
      "image/png": "[encoded data removed]",
      "text/plain": [
       "<Figure size 432x288 with 1 Axes>"
      ]
     },
     "metadata": {
      "needs_background": "light"
     },
     "output_type": "display_data"
    },
    {
     "data": {
      "image/png": "[encoded data removed]",
      "text/plain": [
       "<Figure size 432x288 with 1 Axes>"
      ]
     },
     "metadata": {
      "needs_background": "light"
     },
     "output_type": "display_data"
    }
   ],
   "source": [
    "#plt.plot(test.Demand, c='blue')\n",
    "#plt.plot(forecasts, c='green')\n",
    "plt.figure(figsize = (20,10))\n",
    "pd.DataFrame(test.Demand).plot()\n",
    "pd.DataFrame(forecasts).plot()\n",
    "plt.show()"
   ]
  },
  {
   "cell_type": "code",
   "execution_count": 42,
   "metadata": {},
   "outputs": [
    {
     "name": "stdout",
     "output_type": "stream",
     "text": [
      "ConsumptionDate\n",
      "2019-05-01    0.545556\n",
      "2019-06-01    0.525219\n",
      "dtype: float64\n"
     ]
    },
    {
     "data": {
      "text/plain": [
       "53.538742690058484"
      ]
     },
     "execution_count": 42,
     "metadata": {},
     "output_type": "execute_result"
    },
    {
     "data": {
      "text/plain": [
       "121.25927799554144"
      ]
     },
     "execution_count": 42,
     "metadata": {},
     "output_type": "execute_result"
    }
   ],
   "source": [
    "rms=np.sqrt(np.mean(np.power((np.array(test.Demand)-np.array(forecasts['Prediction'])),2)))\n",
    "mean_absolute_percentage_error(test.Demand, forecasts['Prediction'])\n",
    "rms"
   ]
  },
  {
   "cell_type": "code",
   "execution_count": 43,
   "metadata": {},
   "outputs": [
    {
     "name": "stdout",
     "output_type": "stream",
     "text": [
      "ConsumptionDate\n",
      "2019-05-01    0.545556\n",
      "2019-06-01    0.525219\n",
      "dtype: float64\n"
     ]
    },
    {
     "data": {
      "text/html": [
       "<div>\n",
       "<style scoped>\n",
       "    .dataframe tbody tr th:only-of-type {\n",
       "        vertical-align: middle;\n",
       "    }\n",
       "\n",
       "    .dataframe tbody tr th {\n",
       "        vertical-align: top;\n",
       "    }\n",
       "\n",
       "    .dataframe thead th {\n",
       "        text-align: right;\n",
       "    }\n",
       "</style>\n",
       "<table border=\"1\" class=\"dataframe\">\n",
       "  <thead>\n",
       "    <tr style=\"text-align: right;\">\n",
       "      <th></th>\n",
       "      <th>Feeder</th>\n",
       "      <th>naive-MSE</th>\n",
       "      <th>naive-MAE</th>\n",
       "      <th>naive-MAPE</th>\n",
       "      <th>SimpeAvg-MSE</th>\n",
       "      <th>SimpeAvg-MAE</th>\n",
       "      <th>SimpeAvg-MAPE</th>\n",
       "      <th>MovingAvg-MSE</th>\n",
       "      <th>MovingAvg-MAE</th>\n",
       "      <th>MovingAvg-MAPE</th>\n",
       "      <th>...</th>\n",
       "      <th>Holt_linear-MAPE</th>\n",
       "      <th>Holt_Winter-MSE</th>\n",
       "      <th>Holt_Winter-MAE</th>\n",
       "      <th>Holt_Winter-MAPE</th>\n",
       "      <th>SARIMA-MSE</th>\n",
       "      <th>SARIMA-MAE</th>\n",
       "      <th>SARIMA-MAPE</th>\n",
       "      <th>AutoARIMA-MSE</th>\n",
       "      <th>AutoARIMA-MAE</th>\n",
       "      <th>AutoARIMA-MAPE</th>\n",
       "    </tr>\n",
       "    <tr>\n",
       "      <th>ConsumptionDate</th>\n",
       "      <th></th>\n",
       "      <th></th>\n",
       "      <th></th>\n",
       "      <th></th>\n",
       "      <th></th>\n",
       "      <th></th>\n",
       "      <th></th>\n",
       "      <th></th>\n",
       "      <th></th>\n",
       "      <th></th>\n",
       "      <th></th>\n",
       "      <th></th>\n",
       "      <th></th>\n",
       "      <th></th>\n",
       "      <th></th>\n",
       "      <th></th>\n",
       "      <th></th>\n",
       "      <th></th>\n",
       "      <th></th>\n",
       "      <th></th>\n",
       "      <th></th>\n",
       "    </tr>\n",
       "  </thead>\n",
       "  <tbody>\n",
       "    <tr>\n",
       "      <td>2019-05-01</td>\n",
       "      <td>Feeder_75</td>\n",
       "      <td>1562.5</td>\n",
       "      <td>39.5</td>\n",
       "      <td>17.435673</td>\n",
       "      <td>14703.8125</td>\n",
       "      <td>121.25</td>\n",
       "      <td>53.538743</td>\n",
       "      <td>2386.944444</td>\n",
       "      <td>48.833333</td>\n",
       "      <td>21.55653</td>\n",
       "      <td>...</td>\n",
       "      <td>27.826226</td>\n",
       "      <td>8521.954099</td>\n",
       "      <td>91.604157</td>\n",
       "      <td>40.411691</td>\n",
       "      <td>51304.5</td>\n",
       "      <td>226.5</td>\n",
       "      <td>100.0</td>\n",
       "      <td>14703.8125</td>\n",
       "      <td>121.25</td>\n",
       "      <td>53.538743</td>\n",
       "    </tr>\n",
       "  </tbody>\n",
       "</table>\n",
       "<p>1 rows × 25 columns</p>\n",
       "</div>"
      ],
      "text/plain": [
       "                    Feeder  naive-MSE  naive-MAE  naive-MAPE  SimpeAvg-MSE  \\\n",
       "ConsumptionDate                                                              \n",
       "2019-05-01       Feeder_75     1562.5       39.5   17.435673    14703.8125   \n",
       "\n",
       "                 SimpeAvg-MAE  SimpeAvg-MAPE  MovingAvg-MSE  MovingAvg-MAE  \\\n",
       "ConsumptionDate                                                              \n",
       "2019-05-01             121.25      53.538743    2386.944444      48.833333   \n",
       "\n",
       "                 MovingAvg-MAPE  ...  Holt_linear-MAPE  Holt_Winter-MSE  \\\n",
       "ConsumptionDate                  ...                                      \n",
       "2019-05-01             21.55653  ...         27.826226      8521.954099   \n",
       "\n",
       "                 Holt_Winter-MAE  Holt_Winter-MAPE  SARIMA-MSE  SARIMA-MAE  \\\n",
       "ConsumptionDate                                                              \n",
       "2019-05-01             91.604157         40.411691     51304.5       226.5   \n",
       "\n",
       "                 SARIMA-MAPE  AutoARIMA-MSE  AutoARIMA-MAE  AutoARIMA-MAPE  \n",
       "ConsumptionDate                                                             \n",
       "2019-05-01             100.0     14703.8125         121.25       53.538743  \n",
       "\n",
       "[1 rows x 25 columns]"
      ]
     },
     "execution_count": 43,
     "metadata": {},
     "output_type": "execute_result"
    }
   ],
   "source": [
    "y_Result['AutoARIMA-MSE'] = mean_squared_error(test.Demand, y_hat.AutoARIMA)\n",
    "y_Result['AutoARIMA-MAE'] = mean_absolute_error(test.Demand, y_hat.AutoARIMA)\n",
    "y_Result['AutoARIMA-MAPE'] = mean_absolute_percentage_error(test.Demand, y_hat.AutoARIMA)\n",
    "y_Result"
   ]
  },
  {
   "cell_type": "code",
   "execution_count": 44,
   "metadata": {},
   "outputs": [
    {
     "data": {
      "text/plain": [
       "<Figure size 1440x576 with 0 Axes>"
      ]
     },
     "execution_count": 44,
     "metadata": {},
     "output_type": "execute_result"
    },
    {
     "data": {
      "text/plain": [
       "[<matplotlib.lines.Line2D at 0x253a8242348>]"
      ]
     },
     "execution_count": 44,
     "metadata": {},
     "output_type": "execute_result"
    },
    {
     "data": {
      "text/plain": [
       "[<matplotlib.lines.Line2D at 0x253a81ff648>]"
      ]
     },
     "execution_count": 44,
     "metadata": {},
     "output_type": "execute_result"
    },
    {
     "data": {
      "text/plain": [
       "[<matplotlib.lines.Line2D at 0x253a8264f48>]"
      ]
     },
     "execution_count": 44,
     "metadata": {},
     "output_type": "execute_result"
    },
    {
     "data": {
      "text/plain": [
       "[<matplotlib.lines.Line2D at 0x253a826fd48>]"
      ]
     },
     "execution_count": 44,
     "metadata": {},
     "output_type": "execute_result"
    },
    {
     "data": {
      "text/plain": [
       "[<matplotlib.lines.Line2D at 0x253a8275fc8>]"
      ]
     },
     "execution_count": 44,
     "metadata": {},
     "output_type": "execute_result"
    },
    {
     "data": {
      "text/plain": [
       "[<matplotlib.lines.Line2D at 0x253a827c088>]"
      ]
     },
     "execution_count": 44,
     "metadata": {},
     "output_type": "execute_result"
    },
    {
     "data": {
      "text/plain": [
       "[<matplotlib.lines.Line2D at 0x253a827c1c8>]"
      ]
     },
     "execution_count": 44,
     "metadata": {},
     "output_type": "execute_result"
    },
    {
     "data": {
      "text/plain": [
       "[<matplotlib.lines.Line2D at 0x253a8278488>]"
      ]
     },
     "execution_count": 44,
     "metadata": {},
     "output_type": "execute_result"
    },
    {
     "data": {
      "text/plain": [
       "[<matplotlib.lines.Line2D at 0x253a8275748>]"
      ]
     },
     "execution_count": 44,
     "metadata": {},
     "output_type": "execute_result"
    },
    {
     "data": {
      "text/plain": [
       "<matplotlib.legend.Legend at 0x253a8278c48>"
      ]
     },
     "execution_count": 44,
     "metadata": {},
     "output_type": "execute_result"
    },
    {
     "data": {
      "image/png": "[encoded data removed]",
      "text/plain": [
       "<Figure size 1440x576 with 1 Axes>"
      ]
     },
     "metadata": {
      "needs_background": "light"
     },
     "output_type": "display_data"
    }
   ],
   "source": [
    "plt.figure(figsize=(20,8))\n",
    "plt.plot( train['Demand'], label='Train')\n",
    "plt.plot(test['Demand'], label='Test')\n",
    "plt.plot(y_hat['SARIMA'], label='SARIMA')\n",
    "plt.plot(y_hat['Holt_Winter'], label='Holt_Winter')\n",
    "plt.plot(y_hat['Holt_linear'], label='Holt_linear')\n",
    "plt.plot(y_hat['SES'], label='SES')\n",
    "plt.plot(y_hat['moving_avg_forecast'], label='Moving Average Forecast')\n",
    "plt.plot(y_hat['avg_forecast'], label='Average Forecast')\n",
    "plt.plot(y_hat.index,y_hat['naive'], label='Naive Forecast')\n",
    "\n",
    "plt.legend(loc='best')\n",
    "plt.show()"
   ]
  },
  {
   "cell_type": "code",
   "execution_count": 45,
   "metadata": {},
   "outputs": [],
   "source": [
    "y_Result.to_csv('Feeder_75.csv')"
   ]
  },
  {
   "cell_type": "code",
   "execution_count": null,
   "metadata": {},
   "outputs": [],
   "source": []
  },
  {
   "cell_type": "code",
   "execution_count": null,
   "metadata": {},
   "outputs": [],
   "source": []
  }
 ],
 "metadata": {
  "kernelspec": {
   "display_name": "Python 3",
   "language": "python",
   "name": "python3"
  },
  "language_info": {
   "codemirror_mode": {
    "name": "ipython",
    "version": 3
   },
   "file_extension": ".py",
   "mimetype": "text/x-python",
   "name": "python",
   "nbconvert_exporter": "python",
   "pygments_lexer": "ipython3",
   "version": "3.7.4"
  }
 },
 "nbformat": 4,
 "nbformat_minor": 2
}
