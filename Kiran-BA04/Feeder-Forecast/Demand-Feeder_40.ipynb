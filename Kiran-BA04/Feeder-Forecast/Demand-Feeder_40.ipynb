{
 "cells": [
  {
   "cell_type": "code",
   "execution_count": 1,
   "metadata": {},
   "outputs": [],
   "source": [
    "import pandas as pd\n",
    "import numpy as np\n",
    "import seaborn as sns\n",
    "import matplotlib.pyplot as plt\n",
    "import pandas_profiling as pdf\n",
    "from sklearn.utils import check_array \n",
    "from sklearn import preprocessing \n",
    "from sklearn.metrics import mean_squared_error, mean_absolute_error\n",
    "from math import sqrt\n",
    "from statsmodels.tsa.api import ExponentialSmoothing, SimpleExpSmoothing, Holt\n",
    "import statsmodels.api as sm"
   ]
  },
  {
   "cell_type": "code",
   "execution_count": 2,
   "metadata": {},
   "outputs": [],
   "source": [
    "#print multiple statements in same line\n",
    "from IPython.core.interactiveshell import InteractiveShell\n",
    "InteractiveShell.ast_node_interactivity =\"all\"\n",
    "%matplotlib inline"
   ]
  },
  {
   "cell_type": "code",
   "execution_count": 3,
   "metadata": {},
   "outputs": [
    {
     "name": "stdout",
     "output_type": "stream",
     "text": [
      "\n",
      " Parsed Data:\n"
     ]
    },
    {
     "data": {
      "text/html": [
       "<div>\n",
       "<style scoped>\n",
       "    .dataframe tbody tr th:only-of-type {\n",
       "        vertical-align: middle;\n",
       "    }\n",
       "\n",
       "    .dataframe tbody tr th {\n",
       "        vertical-align: top;\n",
       "    }\n",
       "\n",
       "    .dataframe thead th {\n",
       "        text-align: right;\n",
       "    }\n",
       "</style>\n",
       "<table border=\"1\" class=\"dataframe\">\n",
       "  <thead>\n",
       "    <tr style=\"text-align: right;\">\n",
       "      <th></th>\n",
       "      <th>Feeder</th>\n",
       "      <th>Demand</th>\n",
       "      <th>Revenue</th>\n",
       "    </tr>\n",
       "    <tr>\n",
       "      <th>ConsumptionDate</th>\n",
       "      <th></th>\n",
       "      <th></th>\n",
       "      <th></th>\n",
       "    </tr>\n",
       "  </thead>\n",
       "  <tbody>\n",
       "    <tr>\n",
       "      <td>2019-01-01</td>\n",
       "      <td>Feeder_40</td>\n",
       "      <td>163626</td>\n",
       "      <td>1131403.79</td>\n",
       "    </tr>\n",
       "    <tr>\n",
       "      <td>2019-02-01</td>\n",
       "      <td>Feeder_40</td>\n",
       "      <td>145540</td>\n",
       "      <td>1051194.12</td>\n",
       "    </tr>\n",
       "    <tr>\n",
       "      <td>2019-03-01</td>\n",
       "      <td>Feeder_40</td>\n",
       "      <td>135927</td>\n",
       "      <td>949335.35</td>\n",
       "    </tr>\n",
       "    <tr>\n",
       "      <td>2019-04-01</td>\n",
       "      <td>Feeder_40</td>\n",
       "      <td>237519</td>\n",
       "      <td>1536194.98</td>\n",
       "    </tr>\n",
       "    <tr>\n",
       "      <td>2019-05-01</td>\n",
       "      <td>Feeder_40</td>\n",
       "      <td>155266</td>\n",
       "      <td>1096483.49</td>\n",
       "    </tr>\n",
       "  </tbody>\n",
       "</table>\n",
       "</div>"
      ],
      "text/plain": [
       "                    Feeder  Demand     Revenue\n",
       "ConsumptionDate                               \n",
       "2019-01-01       Feeder_40  163626  1131403.79\n",
       "2019-02-01       Feeder_40  145540  1051194.12\n",
       "2019-03-01       Feeder_40  135927   949335.35\n",
       "2019-04-01       Feeder_40  237519  1536194.98\n",
       "2019-05-01       Feeder_40  155266  1096483.49"
      ]
     },
     "execution_count": 3,
     "metadata": {},
     "output_type": "execute_result"
    }
   ],
   "source": [
    "dateparse = lambda dates: pd.datetime.strptime(dates, '%Y-%m')\n",
    "dfFeederData = pd.read_csv('Train_Feeder_40.csv', parse_dates=['ConsumptionDate'], index_col='ConsumptionDate',date_parser=dateparse)\n",
    "print ('\\n Parsed Data:')\n",
    "dfFeederData.head()"
   ]
  },
  {
   "cell_type": "code",
   "execution_count": 4,
   "metadata": {},
   "outputs": [
    {
     "data": {
      "text/plain": [
       "4"
      ]
     },
     "execution_count": 4,
     "metadata": {},
     "output_type": "execute_result"
    }
   ],
   "source": [
    "size = int(len(dfFeederData)*.8)\n",
    "size"
   ]
  },
  {
   "cell_type": "code",
   "execution_count": 5,
   "metadata": {},
   "outputs": [],
   "source": [
    "train = dfFeederData.iloc[:size]\n",
    "test = dfFeederData.iloc[size:]"
   ]
  },
  {
   "cell_type": "code",
   "execution_count": 6,
   "metadata": {},
   "outputs": [
    {
     "data": {
      "text/html": [
       "<div>\n",
       "<style scoped>\n",
       "    .dataframe tbody tr th:only-of-type {\n",
       "        vertical-align: middle;\n",
       "    }\n",
       "\n",
       "    .dataframe tbody tr th {\n",
       "        vertical-align: top;\n",
       "    }\n",
       "\n",
       "    .dataframe thead th {\n",
       "        text-align: right;\n",
       "    }\n",
       "</style>\n",
       "<table border=\"1\" class=\"dataframe\">\n",
       "  <thead>\n",
       "    <tr style=\"text-align: right;\">\n",
       "      <th></th>\n",
       "      <th>Feeder</th>\n",
       "      <th>Demand</th>\n",
       "      <th>Revenue</th>\n",
       "    </tr>\n",
       "    <tr>\n",
       "      <th>ConsumptionDate</th>\n",
       "      <th></th>\n",
       "      <th></th>\n",
       "      <th></th>\n",
       "    </tr>\n",
       "  </thead>\n",
       "  <tbody>\n",
       "    <tr>\n",
       "      <td>2019-01-01</td>\n",
       "      <td>Feeder_40</td>\n",
       "      <td>163626</td>\n",
       "      <td>1131403.79</td>\n",
       "    </tr>\n",
       "    <tr>\n",
       "      <td>2019-02-01</td>\n",
       "      <td>Feeder_40</td>\n",
       "      <td>145540</td>\n",
       "      <td>1051194.12</td>\n",
       "    </tr>\n",
       "    <tr>\n",
       "      <td>2019-03-01</td>\n",
       "      <td>Feeder_40</td>\n",
       "      <td>135927</td>\n",
       "      <td>949335.35</td>\n",
       "    </tr>\n",
       "    <tr>\n",
       "      <td>2019-04-01</td>\n",
       "      <td>Feeder_40</td>\n",
       "      <td>237519</td>\n",
       "      <td>1536194.98</td>\n",
       "    </tr>\n",
       "  </tbody>\n",
       "</table>\n",
       "</div>"
      ],
      "text/plain": [
       "                    Feeder  Demand     Revenue\n",
       "ConsumptionDate                               \n",
       "2019-01-01       Feeder_40  163626  1131403.79\n",
       "2019-02-01       Feeder_40  145540  1051194.12\n",
       "2019-03-01       Feeder_40  135927   949335.35\n",
       "2019-04-01       Feeder_40  237519  1536194.98"
      ]
     },
     "execution_count": 6,
     "metadata": {},
     "output_type": "execute_result"
    },
    {
     "data": {
      "text/html": [
       "<div>\n",
       "<style scoped>\n",
       "    .dataframe tbody tr th:only-of-type {\n",
       "        vertical-align: middle;\n",
       "    }\n",
       "\n",
       "    .dataframe tbody tr th {\n",
       "        vertical-align: top;\n",
       "    }\n",
       "\n",
       "    .dataframe thead th {\n",
       "        text-align: right;\n",
       "    }\n",
       "</style>\n",
       "<table border=\"1\" class=\"dataframe\">\n",
       "  <thead>\n",
       "    <tr style=\"text-align: right;\">\n",
       "      <th></th>\n",
       "      <th>Feeder</th>\n",
       "      <th>Demand</th>\n",
       "      <th>Revenue</th>\n",
       "    </tr>\n",
       "    <tr>\n",
       "      <th>ConsumptionDate</th>\n",
       "      <th></th>\n",
       "      <th></th>\n",
       "      <th></th>\n",
       "    </tr>\n",
       "  </thead>\n",
       "  <tbody>\n",
       "    <tr>\n",
       "      <td>2019-01-01</td>\n",
       "      <td>Feeder_40</td>\n",
       "      <td>163626</td>\n",
       "      <td>1131403.79</td>\n",
       "    </tr>\n",
       "    <tr>\n",
       "      <td>2019-02-01</td>\n",
       "      <td>Feeder_40</td>\n",
       "      <td>145540</td>\n",
       "      <td>1051194.12</td>\n",
       "    </tr>\n",
       "    <tr>\n",
       "      <td>2019-03-01</td>\n",
       "      <td>Feeder_40</td>\n",
       "      <td>135927</td>\n",
       "      <td>949335.35</td>\n",
       "    </tr>\n",
       "    <tr>\n",
       "      <td>2019-04-01</td>\n",
       "      <td>Feeder_40</td>\n",
       "      <td>237519</td>\n",
       "      <td>1536194.98</td>\n",
       "    </tr>\n",
       "  </tbody>\n",
       "</table>\n",
       "</div>"
      ],
      "text/plain": [
       "                    Feeder  Demand     Revenue\n",
       "ConsumptionDate                               \n",
       "2019-01-01       Feeder_40  163626  1131403.79\n",
       "2019-02-01       Feeder_40  145540  1051194.12\n",
       "2019-03-01       Feeder_40  135927   949335.35\n",
       "2019-04-01       Feeder_40  237519  1536194.98"
      ]
     },
     "execution_count": 6,
     "metadata": {},
     "output_type": "execute_result"
    },
    {
     "data": {
      "text/html": [
       "<div>\n",
       "<style scoped>\n",
       "    .dataframe tbody tr th:only-of-type {\n",
       "        vertical-align: middle;\n",
       "    }\n",
       "\n",
       "    .dataframe tbody tr th {\n",
       "        vertical-align: top;\n",
       "    }\n",
       "\n",
       "    .dataframe thead th {\n",
       "        text-align: right;\n",
       "    }\n",
       "</style>\n",
       "<table border=\"1\" class=\"dataframe\">\n",
       "  <thead>\n",
       "    <tr style=\"text-align: right;\">\n",
       "      <th></th>\n",
       "      <th>Feeder</th>\n",
       "      <th>Demand</th>\n",
       "      <th>Revenue</th>\n",
       "    </tr>\n",
       "    <tr>\n",
       "      <th>ConsumptionDate</th>\n",
       "      <th></th>\n",
       "      <th></th>\n",
       "      <th></th>\n",
       "    </tr>\n",
       "  </thead>\n",
       "  <tbody>\n",
       "    <tr>\n",
       "      <td>2019-05-01</td>\n",
       "      <td>Feeder_40</td>\n",
       "      <td>155266</td>\n",
       "      <td>1096483.49</td>\n",
       "    </tr>\n",
       "    <tr>\n",
       "      <td>2019-06-01</td>\n",
       "      <td>Feeder_40</td>\n",
       "      <td>162268</td>\n",
       "      <td>1294863.47</td>\n",
       "    </tr>\n",
       "  </tbody>\n",
       "</table>\n",
       "</div>"
      ],
      "text/plain": [
       "                    Feeder  Demand     Revenue\n",
       "ConsumptionDate                               \n",
       "2019-05-01       Feeder_40  155266  1096483.49\n",
       "2019-06-01       Feeder_40  162268  1294863.47"
      ]
     },
     "execution_count": 6,
     "metadata": {},
     "output_type": "execute_result"
    },
    {
     "data": {
      "text/html": [
       "<div>\n",
       "<style scoped>\n",
       "    .dataframe tbody tr th:only-of-type {\n",
       "        vertical-align: middle;\n",
       "    }\n",
       "\n",
       "    .dataframe tbody tr th {\n",
       "        vertical-align: top;\n",
       "    }\n",
       "\n",
       "    .dataframe thead th {\n",
       "        text-align: right;\n",
       "    }\n",
       "</style>\n",
       "<table border=\"1\" class=\"dataframe\">\n",
       "  <thead>\n",
       "    <tr style=\"text-align: right;\">\n",
       "      <th></th>\n",
       "      <th>Feeder</th>\n",
       "      <th>Demand</th>\n",
       "      <th>Revenue</th>\n",
       "    </tr>\n",
       "    <tr>\n",
       "      <th>ConsumptionDate</th>\n",
       "      <th></th>\n",
       "      <th></th>\n",
       "      <th></th>\n",
       "    </tr>\n",
       "  </thead>\n",
       "  <tbody>\n",
       "    <tr>\n",
       "      <td>2019-05-01</td>\n",
       "      <td>Feeder_40</td>\n",
       "      <td>155266</td>\n",
       "      <td>1096483.49</td>\n",
       "    </tr>\n",
       "    <tr>\n",
       "      <td>2019-06-01</td>\n",
       "      <td>Feeder_40</td>\n",
       "      <td>162268</td>\n",
       "      <td>1294863.47</td>\n",
       "    </tr>\n",
       "  </tbody>\n",
       "</table>\n",
       "</div>"
      ],
      "text/plain": [
       "                    Feeder  Demand     Revenue\n",
       "ConsumptionDate                               \n",
       "2019-05-01       Feeder_40  155266  1096483.49\n",
       "2019-06-01       Feeder_40  162268  1294863.47"
      ]
     },
     "execution_count": 6,
     "metadata": {},
     "output_type": "execute_result"
    }
   ],
   "source": [
    "train.head(10)\n",
    "train.tail(10)\n",
    "test.head(10)\n",
    "test.tail(10)"
   ]
  },
  {
   "cell_type": "code",
   "execution_count": 7,
   "metadata": {},
   "outputs": [],
   "source": [
    "def mean_absolute_percentage_error(y_true, y_pred): \n",
    "    y_true\n",
    "    y_pred\n",
    "   #    y_true, y_pred = check_array(y_true, y_pred)\n",
    "   \n",
    "    ## Note: does not handle mix 1d representation\n",
    "    #if _is_1d(y_true): \n",
    "    #    y_true, y_pred = _check_1d_array(y_true, y_pred)\n",
    "    print(np.abs((y_true - y_pred) / y_true))\n",
    "    return np.mean(np.abs((y_true - y_pred) / y_true)) * 100"
   ]
  },
  {
   "cell_type": "code",
   "execution_count": 8,
   "metadata": {},
   "outputs": [
    {
     "data": {
      "text/html": [
       "<div>\n",
       "<style scoped>\n",
       "    .dataframe tbody tr th:only-of-type {\n",
       "        vertical-align: middle;\n",
       "    }\n",
       "\n",
       "    .dataframe tbody tr th {\n",
       "        vertical-align: top;\n",
       "    }\n",
       "\n",
       "    .dataframe thead th {\n",
       "        text-align: right;\n",
       "    }\n",
       "</style>\n",
       "<table border=\"1\" class=\"dataframe\">\n",
       "  <thead>\n",
       "    <tr style=\"text-align: right;\">\n",
       "      <th></th>\n",
       "      <th>Feeder</th>\n",
       "    </tr>\n",
       "    <tr>\n",
       "      <th>ConsumptionDate</th>\n",
       "      <th></th>\n",
       "    </tr>\n",
       "  </thead>\n",
       "  <tbody>\n",
       "    <tr>\n",
       "      <td>2019-05-01</td>\n",
       "      <td>Feeder_40</td>\n",
       "    </tr>\n",
       "  </tbody>\n",
       "</table>\n",
       "</div>"
      ],
      "text/plain": [
       "                    Feeder\n",
       "ConsumptionDate           \n",
       "2019-05-01       Feeder_40"
      ]
     },
     "execution_count": 8,
     "metadata": {},
     "output_type": "execute_result"
    }
   ],
   "source": [
    "y_Result = test.copy()\n",
    "y_Result = y_Result.iloc[0:1]\n",
    "y_Result = y_Result.drop(['Revenue','Demand'], axis = 1)\n",
    "\n",
    "y_Result"
   ]
  },
  {
   "cell_type": "markdown",
   "metadata": {},
   "source": [
    "### Naive Approach"
   ]
  },
  {
   "cell_type": "code",
   "execution_count": 9,
   "metadata": {},
   "outputs": [],
   "source": [
    "dd= np.asarray(train.Demand)\n",
    "y_hat = test.copy()\n",
    "y_hat['naive'] = dd[len(dd)-1]\n"
   ]
  },
  {
   "cell_type": "code",
   "execution_count": 10,
   "metadata": {},
   "outputs": [
    {
     "data": {
      "text/plain": [
       "<Figure size 864x576 with 0 Axes>"
      ]
     },
     "execution_count": 10,
     "metadata": {},
     "output_type": "execute_result"
    },
    {
     "data": {
      "text/plain": [
       "[<matplotlib.lines.Line2D at 0x1eb6138c788>]"
      ]
     },
     "execution_count": 10,
     "metadata": {},
     "output_type": "execute_result"
    },
    {
     "data": {
      "text/plain": [
       "[<matplotlib.lines.Line2D at 0x1eb613f2c48>]"
      ]
     },
     "execution_count": 10,
     "metadata": {},
     "output_type": "execute_result"
    },
    {
     "data": {
      "text/plain": [
       "[<matplotlib.lines.Line2D at 0x1eb613f93c8>]"
      ]
     },
     "execution_count": 10,
     "metadata": {},
     "output_type": "execute_result"
    },
    {
     "data": {
      "text/plain": [
       "<matplotlib.legend.Legend at 0x1eb613d3408>"
      ]
     },
     "execution_count": 10,
     "metadata": {},
     "output_type": "execute_result"
    },
    {
     "data": {
      "text/plain": [
       "Text(0.5, 1.0, 'Naive Forecast')"
      ]
     },
     "execution_count": 10,
     "metadata": {},
     "output_type": "execute_result"
    },
    {
     "data": {
      "image/png": "[encoded data removed]",
      "text/plain": [
       "<Figure size 864x576 with 1 Axes>"
      ]
     },
     "metadata": {
      "needs_background": "light"
     },
     "output_type": "display_data"
    }
   ],
   "source": [
    "plt.figure(figsize=(12,8))\n",
    "plt.plot(train.index, train['Demand'], label='Train')\n",
    "plt.plot(test.index,test['Demand'], label='Test')\n",
    "plt.plot(y_hat.index,y_hat['naive'], label='Naive Forecast')\n",
    "plt.legend(loc='best')\n",
    "plt.title(\"Naive Forecast\")\n",
    "plt.show()"
   ]
  },
  {
   "cell_type": "code",
   "execution_count": 11,
   "metadata": {},
   "outputs": [
    {
     "name": "stdout",
     "output_type": "stream",
     "text": [
      "ConsumptionDate\n",
      "2019-05-01    0.529755\n",
      "2019-06-01    0.463745\n",
      "dtype: float64\n",
      "RMSE with naive approach : \n"
     ]
    },
    {
     "data": {
      "text/html": [
       "<div>\n",
       "<style scoped>\n",
       "    .dataframe tbody tr th:only-of-type {\n",
       "        vertical-align: middle;\n",
       "    }\n",
       "\n",
       "    .dataframe tbody tr th {\n",
       "        vertical-align: top;\n",
       "    }\n",
       "\n",
       "    .dataframe thead th {\n",
       "        text-align: right;\n",
       "    }\n",
       "</style>\n",
       "<table border=\"1\" class=\"dataframe\">\n",
       "  <thead>\n",
       "    <tr style=\"text-align: right;\">\n",
       "      <th></th>\n",
       "      <th>Feeder</th>\n",
       "      <th>naive-MSE</th>\n",
       "      <th>naive-MAE</th>\n",
       "      <th>naive-MAPE</th>\n",
       "    </tr>\n",
       "    <tr>\n",
       "      <th>ConsumptionDate</th>\n",
       "      <th></th>\n",
       "      <th></th>\n",
       "      <th></th>\n",
       "      <th></th>\n",
       "    </tr>\n",
       "  </thead>\n",
       "  <tbody>\n",
       "    <tr>\n",
       "      <td>2019-05-01</td>\n",
       "      <td>Feeder_40</td>\n",
       "      <td>6.214135e+09</td>\n",
       "      <td>78752.0</td>\n",
       "      <td>49.675027</td>\n",
       "    </tr>\n",
       "  </tbody>\n",
       "</table>\n",
       "</div>"
      ],
      "text/plain": [
       "                    Feeder     naive-MSE  naive-MAE  naive-MAPE\n",
       "ConsumptionDate                                                \n",
       "2019-05-01       Feeder_40  6.214135e+09    78752.0   49.675027"
      ]
     },
     "execution_count": 11,
     "metadata": {},
     "output_type": "execute_result"
    }
   ],
   "source": [
    "y_Result['naive-MSE'] = mean_squared_error(test.Demand, y_hat.naive)\n",
    "y_Result['naive-MAE'] = mean_absolute_error(test.Demand, y_hat.naive)\n",
    "y_Result['naive-MAPE'] = mean_absolute_percentage_error(test.Demand, y_hat.naive)\n",
    "print('RMSE with naive approach : ')\n",
    "y_Result"
   ]
  },
  {
   "cell_type": "markdown",
   "metadata": {},
   "source": [
    "### Simple Average"
   ]
  },
  {
   "cell_type": "code",
   "execution_count": 12,
   "metadata": {},
   "outputs": [
    {
     "data": {
      "text/plain": [
       "<Figure size 864x576 with 0 Axes>"
      ]
     },
     "execution_count": 12,
     "metadata": {},
     "output_type": "execute_result"
    },
    {
     "data": {
      "text/plain": [
       "[<matplotlib.lines.Line2D at 0x1eb67d70908>]"
      ]
     },
     "execution_count": 12,
     "metadata": {},
     "output_type": "execute_result"
    },
    {
     "data": {
      "text/plain": [
       "[<matplotlib.lines.Line2D at 0x1eb6137e7c8>]"
      ]
     },
     "execution_count": 12,
     "metadata": {},
     "output_type": "execute_result"
    },
    {
     "data": {
      "text/plain": [
       "[<matplotlib.lines.Line2D at 0x1eb67da2108>]"
      ]
     },
     "execution_count": 12,
     "metadata": {},
     "output_type": "execute_result"
    },
    {
     "data": {
      "text/plain": [
       "<matplotlib.legend.Legend at 0x1eb614abc48>"
      ]
     },
     "execution_count": 12,
     "metadata": {},
     "output_type": "execute_result"
    },
    {
     "data": {
      "image/png": "[encoded data removed]",
      "text/plain": [
       "<Figure size 864x576 with 1 Axes>"
      ]
     },
     "metadata": {
      "needs_background": "light"
     },
     "output_type": "display_data"
    }
   ],
   "source": [
    "#y_hat = test.copy()\n",
    "y_hat['avg_forecast'] = train['Demand'].mean()\n",
    "plt.figure(figsize=(12,8))\n",
    "plt.plot(train['Demand'], label='Train')\n",
    "plt.plot(test['Demand'], label='Test')\n",
    "plt.plot(y_hat['avg_forecast'], label='Average Forecast')\n",
    "plt.legend(loc='best')\n",
    "plt.show()"
   ]
  },
  {
   "cell_type": "code",
   "execution_count": 13,
   "metadata": {},
   "outputs": [
    {
     "name": "stdout",
     "output_type": "stream",
     "text": [
      "ConsumptionDate\n",
      "2019-05-01    0.099101\n",
      "2019-06-01    0.051674\n",
      "dtype: float64\n"
     ]
    },
    {
     "data": {
      "text/plain": [
       "7.538733603204004"
      ]
     },
     "execution_count": 13,
     "metadata": {},
     "output_type": "execute_result"
    },
    {
     "name": "stdout",
     "output_type": "stream",
     "text": [
      "ConsumptionDate\n",
      "2019-05-01    0.099101\n",
      "2019-06-01    0.051674\n",
      "dtype: float64\n",
      "RMSE with Simple Average approach :  12390.883624665354\n"
     ]
    },
    {
     "data": {
      "text/html": [
       "<div>\n",
       "<style scoped>\n",
       "    .dataframe tbody tr th:only-of-type {\n",
       "        vertical-align: middle;\n",
       "    }\n",
       "\n",
       "    .dataframe tbody tr th {\n",
       "        vertical-align: top;\n",
       "    }\n",
       "\n",
       "    .dataframe thead th {\n",
       "        text-align: right;\n",
       "    }\n",
       "</style>\n",
       "<table border=\"1\" class=\"dataframe\">\n",
       "  <thead>\n",
       "    <tr style=\"text-align: right;\">\n",
       "      <th></th>\n",
       "      <th>Feeder</th>\n",
       "      <th>naive-MSE</th>\n",
       "      <th>naive-MAE</th>\n",
       "      <th>naive-MAPE</th>\n",
       "      <th>SimpeAvg-MSE</th>\n",
       "      <th>SimpeAvg-MAE</th>\n",
       "      <th>SimpeAvg-MAPE</th>\n",
       "    </tr>\n",
       "    <tr>\n",
       "      <th>ConsumptionDate</th>\n",
       "      <th></th>\n",
       "      <th></th>\n",
       "      <th></th>\n",
       "      <th></th>\n",
       "      <th></th>\n",
       "      <th></th>\n",
       "      <th></th>\n",
       "    </tr>\n",
       "  </thead>\n",
       "  <tbody>\n",
       "    <tr>\n",
       "      <td>2019-05-01</td>\n",
       "      <td>Feeder_40</td>\n",
       "      <td>6.214135e+09</td>\n",
       "      <td>78752.0</td>\n",
       "      <td>49.675027</td>\n",
       "      <td>153533997.0</td>\n",
       "      <td>11886.0</td>\n",
       "      <td>7.538734</td>\n",
       "    </tr>\n",
       "  </tbody>\n",
       "</table>\n",
       "</div>"
      ],
      "text/plain": [
       "                    Feeder     naive-MSE  naive-MAE  naive-MAPE  SimpeAvg-MSE  \\\n",
       "ConsumptionDate                                                                 \n",
       "2019-05-01       Feeder_40  6.214135e+09    78752.0   49.675027   153533997.0   \n",
       "\n",
       "                 SimpeAvg-MAE  SimpeAvg-MAPE  \n",
       "ConsumptionDate                               \n",
       "2019-05-01            11886.0       7.538734  "
      ]
     },
     "execution_count": 13,
     "metadata": {},
     "output_type": "execute_result"
    }
   ],
   "source": [
    "rms = sqrt(mean_squared_error(test.Demand, y_hat.avg_forecast))\n",
    "mean_absolute_percentage_error(test.Demand, y_hat.avg_forecast)\n",
    "y_Result['SimpeAvg-MSE'] = mean_squared_error(test.Demand, y_hat.avg_forecast)\n",
    "y_Result['SimpeAvg-MAE'] = mean_absolute_error(test.Demand, y_hat.avg_forecast)\n",
    "y_Result['SimpeAvg-MAPE'] = mean_absolute_percentage_error(test.Demand, y_hat.avg_forecast)\n",
    "print('RMSE with Simple Average approach : ', rms)\n",
    "y_Result"
   ]
  },
  {
   "cell_type": "markdown",
   "metadata": {},
   "source": [
    "### Moving Average"
   ]
  },
  {
   "cell_type": "code",
   "execution_count": 14,
   "metadata": {},
   "outputs": [],
   "source": [
    "#y_hat = test.copy()\n",
    "y_hat['moving_avg_forecast'] = train['Demand'].rolling(3).mean().iloc[-1]"
   ]
  },
  {
   "cell_type": "code",
   "execution_count": 15,
   "metadata": {},
   "outputs": [
    {
     "data": {
      "text/html": [
       "<div>\n",
       "<style scoped>\n",
       "    .dataframe tbody tr th:only-of-type {\n",
       "        vertical-align: middle;\n",
       "    }\n",
       "\n",
       "    .dataframe tbody tr th {\n",
       "        vertical-align: top;\n",
       "    }\n",
       "\n",
       "    .dataframe thead th {\n",
       "        text-align: right;\n",
       "    }\n",
       "</style>\n",
       "<table border=\"1\" class=\"dataframe\">\n",
       "  <thead>\n",
       "    <tr style=\"text-align: right;\">\n",
       "      <th></th>\n",
       "      <th>Feeder</th>\n",
       "      <th>Demand</th>\n",
       "      <th>Revenue</th>\n",
       "      <th>naive</th>\n",
       "      <th>avg_forecast</th>\n",
       "      <th>moving_avg_forecast</th>\n",
       "    </tr>\n",
       "    <tr>\n",
       "      <th>ConsumptionDate</th>\n",
       "      <th></th>\n",
       "      <th></th>\n",
       "      <th></th>\n",
       "      <th></th>\n",
       "      <th></th>\n",
       "      <th></th>\n",
       "    </tr>\n",
       "  </thead>\n",
       "  <tbody>\n",
       "    <tr>\n",
       "      <td>2019-05-01</td>\n",
       "      <td>Feeder_40</td>\n",
       "      <td>155266</td>\n",
       "      <td>1096483.49</td>\n",
       "      <td>237519</td>\n",
       "      <td>170653.0</td>\n",
       "      <td>172995.333333</td>\n",
       "    </tr>\n",
       "    <tr>\n",
       "      <td>2019-06-01</td>\n",
       "      <td>Feeder_40</td>\n",
       "      <td>162268</td>\n",
       "      <td>1294863.47</td>\n",
       "      <td>237519</td>\n",
       "      <td>170653.0</td>\n",
       "      <td>172995.333333</td>\n",
       "    </tr>\n",
       "  </tbody>\n",
       "</table>\n",
       "</div>"
      ],
      "text/plain": [
       "                    Feeder  Demand     Revenue   naive  avg_forecast  \\\n",
       "ConsumptionDate                                                        \n",
       "2019-05-01       Feeder_40  155266  1096483.49  237519      170653.0   \n",
       "2019-06-01       Feeder_40  162268  1294863.47  237519      170653.0   \n",
       "\n",
       "                 moving_avg_forecast  \n",
       "ConsumptionDate                       \n",
       "2019-05-01             172995.333333  \n",
       "2019-06-01             172995.333333  "
      ]
     },
     "execution_count": 15,
     "metadata": {},
     "output_type": "execute_result"
    }
   ],
   "source": [
    "y_hat"
   ]
  },
  {
   "cell_type": "code",
   "execution_count": 16,
   "metadata": {},
   "outputs": [
    {
     "data": {
      "text/plain": [
       "<Figure size 1152x576 with 0 Axes>"
      ]
     },
     "execution_count": 16,
     "metadata": {},
     "output_type": "execute_result"
    },
    {
     "data": {
      "text/plain": [
       "[<matplotlib.lines.Line2D at 0x1eb67d632c8>]"
      ]
     },
     "execution_count": 16,
     "metadata": {},
     "output_type": "execute_result"
    },
    {
     "data": {
      "text/plain": [
       "[<matplotlib.lines.Line2D at 0x1eb67d9f308>]"
      ]
     },
     "execution_count": 16,
     "metadata": {},
     "output_type": "execute_result"
    },
    {
     "data": {
      "text/plain": [
       "[<matplotlib.lines.Line2D at 0x1eb67e35288>]"
      ]
     },
     "execution_count": 16,
     "metadata": {},
     "output_type": "execute_result"
    },
    {
     "data": {
      "text/plain": [
       "<matplotlib.legend.Legend at 0x1eb67e072c8>"
      ]
     },
     "execution_count": 16,
     "metadata": {},
     "output_type": "execute_result"
    },
    {
     "data": {
      "image/png": "[encoded data removed]",
      "text/plain": [
       "<Figure size 1152x576 with 1 Axes>"
      ]
     },
     "metadata": {
      "needs_background": "light"
     },
     "output_type": "display_data"
    }
   ],
   "source": [
    "plt.figure(figsize=(16,8))\n",
    "plt.plot(train['Demand'], label='Train')\n",
    "plt.plot(test['Demand'], label='Test')\n",
    "plt.plot(y_hat['moving_avg_forecast'], label='Moving Average Forecast')\n",
    "plt.legend(loc='best')\n",
    "plt.show()"
   ]
  },
  {
   "cell_type": "code",
   "execution_count": 17,
   "metadata": {},
   "outputs": [
    {
     "name": "stdout",
     "output_type": "stream",
     "text": [
      "ConsumptionDate\n",
      "2019-05-01    0.114187\n",
      "2019-06-01    0.066109\n",
      "dtype: float64\n"
     ]
    },
    {
     "data": {
      "text/plain": [
       "9.014778913531037"
      ]
     },
     "execution_count": 17,
     "metadata": {},
     "output_type": "execute_result"
    },
    {
     "name": "stdout",
     "output_type": "stream",
     "text": [
      "RMSE with Moving Average approach :  14652.729112504767\n",
      "ConsumptionDate\n",
      "2019-05-01    0.114187\n",
      "2019-06-01    0.066109\n",
      "dtype: float64\n"
     ]
    },
    {
     "data": {
      "text/html": [
       "<div>\n",
       "<style scoped>\n",
       "    .dataframe tbody tr th:only-of-type {\n",
       "        vertical-align: middle;\n",
       "    }\n",
       "\n",
       "    .dataframe tbody tr th {\n",
       "        vertical-align: top;\n",
       "    }\n",
       "\n",
       "    .dataframe thead th {\n",
       "        text-align: right;\n",
       "    }\n",
       "</style>\n",
       "<table border=\"1\" class=\"dataframe\">\n",
       "  <thead>\n",
       "    <tr style=\"text-align: right;\">\n",
       "      <th></th>\n",
       "      <th>Feeder</th>\n",
       "      <th>naive-MSE</th>\n",
       "      <th>naive-MAE</th>\n",
       "      <th>naive-MAPE</th>\n",
       "      <th>SimpeAvg-MSE</th>\n",
       "      <th>SimpeAvg-MAE</th>\n",
       "      <th>SimpeAvg-MAPE</th>\n",
       "      <th>MovingAvg-MSE</th>\n",
       "      <th>MovingAvg-MAE</th>\n",
       "      <th>MovingAvg-MAPE</th>\n",
       "    </tr>\n",
       "    <tr>\n",
       "      <th>ConsumptionDate</th>\n",
       "      <th></th>\n",
       "      <th></th>\n",
       "      <th></th>\n",
       "      <th></th>\n",
       "      <th></th>\n",
       "      <th></th>\n",
       "      <th></th>\n",
       "      <th></th>\n",
       "      <th></th>\n",
       "      <th></th>\n",
       "    </tr>\n",
       "  </thead>\n",
       "  <tbody>\n",
       "    <tr>\n",
       "      <td>2019-05-01</td>\n",
       "      <td>Feeder_40</td>\n",
       "      <td>6.214135e+09</td>\n",
       "      <td>78752.0</td>\n",
       "      <td>49.675027</td>\n",
       "      <td>153533997.0</td>\n",
       "      <td>11886.0</td>\n",
       "      <td>7.538734</td>\n",
       "      <td>2.147025e+08</td>\n",
       "      <td>14228.333333</td>\n",
       "      <td>9.014779</td>\n",
       "    </tr>\n",
       "  </tbody>\n",
       "</table>\n",
       "</div>"
      ],
      "text/plain": [
       "                    Feeder     naive-MSE  naive-MAE  naive-MAPE  SimpeAvg-MSE  \\\n",
       "ConsumptionDate                                                                 \n",
       "2019-05-01       Feeder_40  6.214135e+09    78752.0   49.675027   153533997.0   \n",
       "\n",
       "                 SimpeAvg-MAE  SimpeAvg-MAPE  MovingAvg-MSE  MovingAvg-MAE  \\\n",
       "ConsumptionDate                                                              \n",
       "2019-05-01            11886.0       7.538734   2.147025e+08   14228.333333   \n",
       "\n",
       "                 MovingAvg-MAPE  \n",
       "ConsumptionDate                  \n",
       "2019-05-01             9.014779  "
      ]
     },
     "execution_count": 17,
     "metadata": {},
     "output_type": "execute_result"
    }
   ],
   "source": [
    "rms = sqrt(mean_squared_error(test.Demand, y_hat.moving_avg_forecast))\n",
    "mean_absolute_percentage_error(test.Demand, y_hat.moving_avg_forecast)\n",
    "print('RMSE with Moving Average approach : ', rms)\n",
    "y_Result['MovingAvg-MSE'] = mean_squared_error(test.Demand, y_hat.moving_avg_forecast)\n",
    "y_Result['MovingAvg-MAE'] = mean_absolute_error(test.Demand, y_hat.moving_avg_forecast)\n",
    "y_Result['MovingAvg-MAPE'] = mean_absolute_percentage_error(test.Demand, y_hat.moving_avg_forecast)\n",
    "y_Result"
   ]
  },
  {
   "cell_type": "markdown",
   "metadata": {},
   "source": [
    "### Simple Exponential Smoothing"
   ]
  },
  {
   "cell_type": "code",
   "execution_count": 18,
   "metadata": {},
   "outputs": [
    {
     "data": {
      "text/plain": [
       "<Figure size 1152x576 with 0 Axes>"
      ]
     },
     "execution_count": 18,
     "metadata": {},
     "output_type": "execute_result"
    },
    {
     "data": {
      "text/plain": [
       "[<matplotlib.lines.Line2D at 0x1eb67e86e48>]"
      ]
     },
     "execution_count": 18,
     "metadata": {},
     "output_type": "execute_result"
    },
    {
     "data": {
      "text/plain": [
       "[<matplotlib.lines.Line2D at 0x1eb67e78b08>]"
      ]
     },
     "execution_count": 18,
     "metadata": {},
     "output_type": "execute_result"
    },
    {
     "data": {
      "text/plain": [
       "[<matplotlib.lines.Line2D at 0x1eb67ec2ec8>]"
      ]
     },
     "execution_count": 18,
     "metadata": {},
     "output_type": "execute_result"
    },
    {
     "data": {
      "text/plain": [
       "<matplotlib.legend.Legend at 0x1eb67dd5148>"
      ]
     },
     "execution_count": 18,
     "metadata": {},
     "output_type": "execute_result"
    },
    {
     "data": {
      "image/png": "[encoded data removed]",
      "text/plain": [
       "<Figure size 1152x576 with 1 Axes>"
      ]
     },
     "metadata": {
      "needs_background": "light"
     },
     "output_type": "display_data"
    }
   ],
   "source": [
    "#y_hat_avg = test.copy()\n",
    "fit2 = SimpleExpSmoothing(np.asarray(train['Demand'])).fit(smoothing_level=0.6,optimized=False)\n",
    "y_hat['SES'] = fit2.forecast(len(test))\n",
    "plt.figure(figsize=(16,8))\n",
    "plt.plot(train['Demand'], label='Train')\n",
    "plt.plot(test['Demand'], label='Test')\n",
    "plt.plot(y_hat['SES'], label='SES')\n",
    "plt.legend(loc='best')\n",
    "plt.show()"
   ]
  },
  {
   "cell_type": "code",
   "execution_count": 19,
   "metadata": {},
   "outputs": [],
   "source": [
    "error = mean_absolute_error(test.Demand,  y_hat.SES)"
   ]
  },
  {
   "cell_type": "code",
   "execution_count": 20,
   "metadata": {},
   "outputs": [
    {
     "name": "stdout",
     "output_type": "stream",
     "text": [
      "ConsumptionDate\n",
      "2019-05-01    0.285393\n",
      "2019-06-01    0.229927\n",
      "dtype: float64\n"
     ]
    },
    {
     "data": {
      "text/plain": [
       "25.76598211982086"
      ]
     },
     "execution_count": 20,
     "metadata": {},
     "output_type": "execute_result"
    }
   ],
   "source": [
    "mean_absolute_percentage_error(test.Demand, y_hat.SES)"
   ]
  },
  {
   "cell_type": "code",
   "execution_count": 21,
   "metadata": {},
   "outputs": [
    {
     "name": "stdout",
     "output_type": "stream",
     "text": [
      "40960.6773832496\n"
     ]
    }
   ],
   "source": [
    "rms = sqrt(mean_squared_error(test.Demand, y_hat.SES))\n",
    "print(rms)"
   ]
  },
  {
   "cell_type": "code",
   "execution_count": 22,
   "metadata": {},
   "outputs": [
    {
     "name": "stdout",
     "output_type": "stream",
     "text": [
      "ConsumptionDate\n",
      "2019-05-01    0.285393\n",
      "2019-06-01    0.229927\n",
      "dtype: float64\n"
     ]
    },
    {
     "data": {
      "text/html": [
       "<div>\n",
       "<style scoped>\n",
       "    .dataframe tbody tr th:only-of-type {\n",
       "        vertical-align: middle;\n",
       "    }\n",
       "\n",
       "    .dataframe tbody tr th {\n",
       "        vertical-align: top;\n",
       "    }\n",
       "\n",
       "    .dataframe thead th {\n",
       "        text-align: right;\n",
       "    }\n",
       "</style>\n",
       "<table border=\"1\" class=\"dataframe\">\n",
       "  <thead>\n",
       "    <tr style=\"text-align: right;\">\n",
       "      <th></th>\n",
       "      <th>Feeder</th>\n",
       "      <th>naive-MSE</th>\n",
       "      <th>naive-MAE</th>\n",
       "      <th>naive-MAPE</th>\n",
       "      <th>SimpeAvg-MSE</th>\n",
       "      <th>SimpeAvg-MAE</th>\n",
       "      <th>SimpeAvg-MAPE</th>\n",
       "      <th>MovingAvg-MSE</th>\n",
       "      <th>MovingAvg-MAE</th>\n",
       "      <th>MovingAvg-MAPE</th>\n",
       "      <th>SES-MSE</th>\n",
       "      <th>SES-MAE</th>\n",
       "      <th>SES-MAPE</th>\n",
       "    </tr>\n",
       "    <tr>\n",
       "      <th>ConsumptionDate</th>\n",
       "      <th></th>\n",
       "      <th></th>\n",
       "      <th></th>\n",
       "      <th></th>\n",
       "      <th></th>\n",
       "      <th></th>\n",
       "      <th></th>\n",
       "      <th></th>\n",
       "      <th></th>\n",
       "      <th></th>\n",
       "      <th></th>\n",
       "      <th></th>\n",
       "      <th></th>\n",
       "    </tr>\n",
       "  </thead>\n",
       "  <tbody>\n",
       "    <tr>\n",
       "      <td>2019-05-01</td>\n",
       "      <td>Feeder_40</td>\n",
       "      <td>6.214135e+09</td>\n",
       "      <td>78752.0</td>\n",
       "      <td>49.675027</td>\n",
       "      <td>153533997.0</td>\n",
       "      <td>11886.0</td>\n",
       "      <td>7.538734</td>\n",
       "      <td>2.147025e+08</td>\n",
       "      <td>14228.333333</td>\n",
       "      <td>9.014779</td>\n",
       "      <td>1.677777e+09</td>\n",
       "      <td>40810.784</td>\n",
       "      <td>25.765982</td>\n",
       "    </tr>\n",
       "  </tbody>\n",
       "</table>\n",
       "</div>"
      ],
      "text/plain": [
       "                    Feeder     naive-MSE  naive-MAE  naive-MAPE  SimpeAvg-MSE  \\\n",
       "ConsumptionDate                                                                 \n",
       "2019-05-01       Feeder_40  6.214135e+09    78752.0   49.675027   153533997.0   \n",
       "\n",
       "                 SimpeAvg-MAE  SimpeAvg-MAPE  MovingAvg-MSE  MovingAvg-MAE  \\\n",
       "ConsumptionDate                                                              \n",
       "2019-05-01            11886.0       7.538734   2.147025e+08   14228.333333   \n",
       "\n",
       "                 MovingAvg-MAPE       SES-MSE    SES-MAE   SES-MAPE  \n",
       "ConsumptionDate                                                      \n",
       "2019-05-01             9.014779  1.677777e+09  40810.784  25.765982  "
      ]
     },
     "execution_count": 22,
     "metadata": {},
     "output_type": "execute_result"
    }
   ],
   "source": [
    "y_Result['SES-MSE'] = mean_squared_error(test.Demand, y_hat.SES)\n",
    "y_Result['SES-MAE'] = mean_absolute_error(test.Demand, y_hat.SES)\n",
    "y_Result['SES-MAPE'] = mean_absolute_percentage_error(test.Demand, y_hat.SES)\n",
    "y_Result"
   ]
  },
  {
   "cell_type": "markdown",
   "metadata": {},
   "source": [
    "### Holt’s Linear Trend method"
   ]
  },
  {
   "cell_type": "code",
   "execution_count": 23,
   "metadata": {},
   "outputs": [
    {
     "data": {
      "text/plain": [
       "<Figure size 1440x720 with 0 Axes>"
      ]
     },
     "execution_count": 23,
     "metadata": {},
     "output_type": "execute_result"
    },
    {
     "data": {
      "image/png": "[encoded data removed]",
      "text/plain": [
       "<Figure size 432x288 with 4 Axes>"
      ]
     },
     "execution_count": 23,
     "metadata": {},
     "output_type": "execute_result"
    },
    {
     "data": {
      "text/plain": [
       "<Figure size 1440x720 with 0 Axes>"
      ]
     },
     "metadata": {},
     "output_type": "display_data"
    },
    {
     "data": {
      "image/png": "[encoded data removed]",
      "text/plain": [
       "<Figure size 432x288 with 4 Axes>"
      ]
     },
     "metadata": {
      "needs_background": "light"
     },
     "output_type": "display_data"
    }
   ],
   "source": [
    "plt.figure(figsize=(20,10))\n",
    "sm.tsa.seasonal_decompose(train.Demand,freq=3).plot()\n",
    "result = sm.tsa.stattools.adfuller(train.Demand)\n",
    "plt.show()"
   ]
  },
  {
   "cell_type": "code",
   "execution_count": 24,
   "metadata": {},
   "outputs": [
    {
     "data": {
      "text/plain": [
       "<Figure size 1152x576 with 0 Axes>"
      ]
     },
     "execution_count": 24,
     "metadata": {},
     "output_type": "execute_result"
    },
    {
     "data": {
      "text/plain": [
       "[<matplotlib.lines.Line2D at 0x1eb68501388>]"
      ]
     },
     "execution_count": 24,
     "metadata": {},
     "output_type": "execute_result"
    },
    {
     "data": {
      "text/plain": [
       "[<matplotlib.lines.Line2D at 0x1eb68405348>]"
      ]
     },
     "execution_count": 24,
     "metadata": {},
     "output_type": "execute_result"
    },
    {
     "data": {
      "text/plain": [
       "[<matplotlib.lines.Line2D at 0x1eb68559048>]"
      ]
     },
     "execution_count": 24,
     "metadata": {},
     "output_type": "execute_result"
    },
    {
     "data": {
      "text/plain": [
       "<matplotlib.legend.Legend at 0x1eb68518988>"
      ]
     },
     "execution_count": 24,
     "metadata": {},
     "output_type": "execute_result"
    },
    {
     "data": {
      "image/png": "[encoded data removed]",
      "text/plain": [
       "<Figure size 1152x576 with 1 Axes>"
      ]
     },
     "metadata": {
      "needs_background": "light"
     },
     "output_type": "display_data"
    }
   ],
   "source": [
    "#y_hat_avg = test.copy()\n",
    "\n",
    "fit1 = Holt(np.asarray(train['Demand'])).fit(smoothing_level = 0.3,smoothing_slope = 0.1)\n",
    "y_hat['Holt_linear'] = fit1.forecast(len(test))\n",
    "\n",
    "plt.figure(figsize=(16,8))\n",
    "plt.plot(train['Demand'], label='Train')\n",
    "plt.plot(test['Demand'], label='Test')\n",
    "plt.plot(y_hat['Holt_linear'], label='Holt_linear')\n",
    "plt.legend(loc='best')\n",
    "plt.show()"
   ]
  },
  {
   "cell_type": "code",
   "execution_count": 25,
   "metadata": {},
   "outputs": [
    {
     "name": "stdout",
     "output_type": "stream",
     "text": [
      "ConsumptionDate\n",
      "2019-05-01    0.446699\n",
      "2019-06-01    0.515410\n",
      "dtype: float64\n"
     ]
    },
    {
     "data": {
      "text/plain": [
       "48.1054114853812"
      ]
     },
     "execution_count": 25,
     "metadata": {},
     "output_type": "execute_result"
    },
    {
     "name": "stdout",
     "output_type": "stream",
     "text": [
      "76828.17011539782\n"
     ]
    }
   ],
   "source": [
    "rms = sqrt(mean_squared_error(test.Demand, y_hat.Holt_linear))\n",
    "mean_absolute_percentage_error(test.Demand, y_hat.Holt_linear)\n",
    "print(rms)"
   ]
  },
  {
   "cell_type": "code",
   "execution_count": 26,
   "metadata": {},
   "outputs": [
    {
     "name": "stdout",
     "output_type": "stream",
     "text": [
      "ConsumptionDate\n",
      "2019-05-01    0.446699\n",
      "2019-06-01    0.515410\n",
      "dtype: float64\n"
     ]
    },
    {
     "data": {
      "text/html": [
       "<div>\n",
       "<style scoped>\n",
       "    .dataframe tbody tr th:only-of-type {\n",
       "        vertical-align: middle;\n",
       "    }\n",
       "\n",
       "    .dataframe tbody tr th {\n",
       "        vertical-align: top;\n",
       "    }\n",
       "\n",
       "    .dataframe thead th {\n",
       "        text-align: right;\n",
       "    }\n",
       "</style>\n",
       "<table border=\"1\" class=\"dataframe\">\n",
       "  <thead>\n",
       "    <tr style=\"text-align: right;\">\n",
       "      <th></th>\n",
       "      <th>Feeder</th>\n",
       "      <th>naive-MSE</th>\n",
       "      <th>naive-MAE</th>\n",
       "      <th>naive-MAPE</th>\n",
       "      <th>SimpeAvg-MSE</th>\n",
       "      <th>SimpeAvg-MAE</th>\n",
       "      <th>SimpeAvg-MAPE</th>\n",
       "      <th>MovingAvg-MSE</th>\n",
       "      <th>MovingAvg-MAE</th>\n",
       "      <th>MovingAvg-MAPE</th>\n",
       "      <th>SES-MSE</th>\n",
       "      <th>SES-MAE</th>\n",
       "      <th>SES-MAPE</th>\n",
       "      <th>Holt_linear-MSE</th>\n",
       "      <th>Holt_linear-MAE</th>\n",
       "      <th>Holt_linear-MAPE</th>\n",
       "    </tr>\n",
       "    <tr>\n",
       "      <th>ConsumptionDate</th>\n",
       "      <th></th>\n",
       "      <th></th>\n",
       "      <th></th>\n",
       "      <th></th>\n",
       "      <th></th>\n",
       "      <th></th>\n",
       "      <th></th>\n",
       "      <th></th>\n",
       "      <th></th>\n",
       "      <th></th>\n",
       "      <th></th>\n",
       "      <th></th>\n",
       "      <th></th>\n",
       "      <th></th>\n",
       "      <th></th>\n",
       "      <th></th>\n",
       "    </tr>\n",
       "  </thead>\n",
       "  <tbody>\n",
       "    <tr>\n",
       "      <td>2019-05-01</td>\n",
       "      <td>Feeder_40</td>\n",
       "      <td>6.214135e+09</td>\n",
       "      <td>78752.0</td>\n",
       "      <td>49.675027</td>\n",
       "      <td>153533997.0</td>\n",
       "      <td>11886.0</td>\n",
       "      <td>7.538734</td>\n",
       "      <td>2.147025e+08</td>\n",
       "      <td>14228.333333</td>\n",
       "      <td>9.014779</td>\n",
       "      <td>1.677777e+09</td>\n",
       "      <td>40810.784</td>\n",
       "      <td>25.765982</td>\n",
       "      <td>5.902568e+09</td>\n",
       "      <td>76495.797044</td>\n",
       "      <td>48.105411</td>\n",
       "    </tr>\n",
       "  </tbody>\n",
       "</table>\n",
       "</div>"
      ],
      "text/plain": [
       "                    Feeder     naive-MSE  naive-MAE  naive-MAPE  SimpeAvg-MSE  \\\n",
       "ConsumptionDate                                                                 \n",
       "2019-05-01       Feeder_40  6.214135e+09    78752.0   49.675027   153533997.0   \n",
       "\n",
       "                 SimpeAvg-MAE  SimpeAvg-MAPE  MovingAvg-MSE  MovingAvg-MAE  \\\n",
       "ConsumptionDate                                                              \n",
       "2019-05-01            11886.0       7.538734   2.147025e+08   14228.333333   \n",
       "\n",
       "                 MovingAvg-MAPE       SES-MSE    SES-MAE   SES-MAPE  \\\n",
       "ConsumptionDate                                                       \n",
       "2019-05-01             9.014779  1.677777e+09  40810.784  25.765982   \n",
       "\n",
       "                 Holt_linear-MSE  Holt_linear-MAE  Holt_linear-MAPE  \n",
       "ConsumptionDate                                                      \n",
       "2019-05-01          5.902568e+09     76495.797044         48.105411  "
      ]
     },
     "execution_count": 26,
     "metadata": {},
     "output_type": "execute_result"
    }
   ],
   "source": [
    "y_Result['Holt_linear-MSE'] = mean_squared_error(test.Demand, y_hat.Holt_linear)\n",
    "y_Result['Holt_linear-MAE'] = mean_absolute_error(test.Demand, y_hat.Holt_linear)\n",
    "y_Result['Holt_linear-MAPE'] = mean_absolute_percentage_error(test.Demand, y_hat.Holt_linear)\n",
    "y_Result"
   ]
  },
  {
   "cell_type": "markdown",
   "metadata": {},
   "source": [
    "### Holt-Winters method"
   ]
  },
  {
   "cell_type": "code",
   "execution_count": 27,
   "metadata": {},
   "outputs": [
    {
     "name": "stderr",
     "output_type": "stream",
     "text": [
      "C:\\Users\\kiran\\Anaconda3\\envs\\TimeSeries\\lib\\site-packages\\statsmodels\\tsa\\holtwinters.py:712: ConvergenceWarning: Optimization failed to converge. Check mle_retvals.\n",
      "  ConvergenceWarning)\n"
     ]
    },
    {
     "data": {
      "text/plain": [
       "<Figure size 1152x576 with 0 Axes>"
      ]
     },
     "execution_count": 27,
     "metadata": {},
     "output_type": "execute_result"
    },
    {
     "data": {
      "text/plain": [
       "[<matplotlib.lines.Line2D at 0x1eb685c1488>]"
      ]
     },
     "execution_count": 27,
     "metadata": {},
     "output_type": "execute_result"
    },
    {
     "data": {
      "text/plain": [
       "[<matplotlib.lines.Line2D at 0x1eb685bdb08>]"
      ]
     },
     "execution_count": 27,
     "metadata": {},
     "output_type": "execute_result"
    },
    {
     "data": {
      "text/plain": [
       "[<matplotlib.lines.Line2D at 0x1eb685f0c08>]"
      ]
     },
     "execution_count": 27,
     "metadata": {},
     "output_type": "execute_result"
    },
    {
     "data": {
      "text/plain": [
       "<matplotlib.legend.Legend at 0x1eb685bdb88>"
      ]
     },
     "execution_count": 27,
     "metadata": {},
     "output_type": "execute_result"
    },
    {
     "data": {
      "image/png": "[encoded data removed]",
      "text/plain": [
       "<Figure size 1152x576 with 1 Axes>"
      ]
     },
     "metadata": {
      "needs_background": "light"
     },
     "output_type": "display_data"
    }
   ],
   "source": [
    "#y_hat_avg = test.copy()\n",
    "fit1 = ExponentialSmoothing(np.asarray(train['Demand']) ,seasonal_periods=3 ,trend='add', seasonal='add',).fit()\n",
    "y_hat['Holt_Winter'] = fit1.forecast(len(test))\n",
    "plt.figure(figsize=(16,8))\n",
    "plt.plot( train['Demand'], label='Train')\n",
    "plt.plot(test['Demand'], label='Test')\n",
    "plt.plot(y_hat['Holt_Winter'], label='Holt_Winter')\n",
    "plt.legend(loc='best')\n",
    "plt.show()"
   ]
  },
  {
   "cell_type": "code",
   "execution_count": 28,
   "metadata": {},
   "outputs": [
    {
     "name": "stdout",
     "output_type": "stream",
     "text": [
      "ConsumptionDate\n",
      "2019-05-01    0.441090\n",
      "2019-06-01    0.276708\n",
      "dtype: float64\n"
     ]
    },
    {
     "data": {
      "text/plain": [
       "35.88992072815041"
      ]
     },
     "execution_count": 28,
     "metadata": {},
     "output_type": "execute_result"
    },
    {
     "name": "stdout",
     "output_type": "stream",
     "text": [
      "57907.094983451425\n"
     ]
    }
   ],
   "source": [
    "rms = sqrt(mean_squared_error(test.Demand, y_hat.Holt_Winter))\n",
    "mean_absolute_percentage_error(test.Demand, y_hat.Holt_Winter)\n",
    "print(rms)"
   ]
  },
  {
   "cell_type": "code",
   "execution_count": 29,
   "metadata": {},
   "outputs": [
    {
     "name": "stdout",
     "output_type": "stream",
     "text": [
      "ConsumptionDate\n",
      "2019-05-01    0.441090\n",
      "2019-06-01    0.276708\n",
      "dtype: float64\n"
     ]
    },
    {
     "data": {
      "text/html": [
       "<div>\n",
       "<style scoped>\n",
       "    .dataframe tbody tr th:only-of-type {\n",
       "        vertical-align: middle;\n",
       "    }\n",
       "\n",
       "    .dataframe tbody tr th {\n",
       "        vertical-align: top;\n",
       "    }\n",
       "\n",
       "    .dataframe thead th {\n",
       "        text-align: right;\n",
       "    }\n",
       "</style>\n",
       "<table border=\"1\" class=\"dataframe\">\n",
       "  <thead>\n",
       "    <tr style=\"text-align: right;\">\n",
       "      <th></th>\n",
       "      <th>Feeder</th>\n",
       "      <th>naive-MSE</th>\n",
       "      <th>naive-MAE</th>\n",
       "      <th>naive-MAPE</th>\n",
       "      <th>SimpeAvg-MSE</th>\n",
       "      <th>SimpeAvg-MAE</th>\n",
       "      <th>SimpeAvg-MAPE</th>\n",
       "      <th>MovingAvg-MSE</th>\n",
       "      <th>MovingAvg-MAE</th>\n",
       "      <th>MovingAvg-MAPE</th>\n",
       "      <th>SES-MSE</th>\n",
       "      <th>SES-MAE</th>\n",
       "      <th>SES-MAPE</th>\n",
       "      <th>Holt_linear-MSE</th>\n",
       "      <th>Holt_linear-MAE</th>\n",
       "      <th>Holt_linear-MAPE</th>\n",
       "      <th>Holt_Winter-MSE</th>\n",
       "      <th>Holt_Winter-MAE</th>\n",
       "      <th>Holt_Winter-MAPE</th>\n",
       "    </tr>\n",
       "    <tr>\n",
       "      <th>ConsumptionDate</th>\n",
       "      <th></th>\n",
       "      <th></th>\n",
       "      <th></th>\n",
       "      <th></th>\n",
       "      <th></th>\n",
       "      <th></th>\n",
       "      <th></th>\n",
       "      <th></th>\n",
       "      <th></th>\n",
       "      <th></th>\n",
       "      <th></th>\n",
       "      <th></th>\n",
       "      <th></th>\n",
       "      <th></th>\n",
       "      <th></th>\n",
       "      <th></th>\n",
       "      <th></th>\n",
       "      <th></th>\n",
       "      <th></th>\n",
       "    </tr>\n",
       "  </thead>\n",
       "  <tbody>\n",
       "    <tr>\n",
       "      <td>2019-05-01</td>\n",
       "      <td>Feeder_40</td>\n",
       "      <td>6.214135e+09</td>\n",
       "      <td>78752.0</td>\n",
       "      <td>49.675027</td>\n",
       "      <td>153533997.0</td>\n",
       "      <td>11886.0</td>\n",
       "      <td>7.538734</td>\n",
       "      <td>2.147025e+08</td>\n",
       "      <td>14228.333333</td>\n",
       "      <td>9.014779</td>\n",
       "      <td>1.677777e+09</td>\n",
       "      <td>40810.784</td>\n",
       "      <td>25.765982</td>\n",
       "      <td>5.902568e+09</td>\n",
       "      <td>76495.797044</td>\n",
       "      <td>48.105411</td>\n",
       "      <td>3.353232e+09</td>\n",
       "      <td>56693.600451</td>\n",
       "      <td>35.889921</td>\n",
       "    </tr>\n",
       "  </tbody>\n",
       "</table>\n",
       "</div>"
      ],
      "text/plain": [
       "                    Feeder     naive-MSE  naive-MAE  naive-MAPE  SimpeAvg-MSE  \\\n",
       "ConsumptionDate                                                                 \n",
       "2019-05-01       Feeder_40  6.214135e+09    78752.0   49.675027   153533997.0   \n",
       "\n",
       "                 SimpeAvg-MAE  SimpeAvg-MAPE  MovingAvg-MSE  MovingAvg-MAE  \\\n",
       "ConsumptionDate                                                              \n",
       "2019-05-01            11886.0       7.538734   2.147025e+08   14228.333333   \n",
       "\n",
       "                 MovingAvg-MAPE       SES-MSE    SES-MAE   SES-MAPE  \\\n",
       "ConsumptionDate                                                       \n",
       "2019-05-01             9.014779  1.677777e+09  40810.784  25.765982   \n",
       "\n",
       "                 Holt_linear-MSE  Holt_linear-MAE  Holt_linear-MAPE  \\\n",
       "ConsumptionDate                                                       \n",
       "2019-05-01          5.902568e+09     76495.797044         48.105411   \n",
       "\n",
       "                 Holt_Winter-MSE  Holt_Winter-MAE  Holt_Winter-MAPE  \n",
       "ConsumptionDate                                                      \n",
       "2019-05-01          3.353232e+09     56693.600451         35.889921  "
      ]
     },
     "execution_count": 29,
     "metadata": {},
     "output_type": "execute_result"
    }
   ],
   "source": [
    "y_Result['Holt_Winter-MSE'] = mean_squared_error(test.Demand, y_hat.Holt_Winter)\n",
    "y_Result['Holt_Winter-MAE'] = mean_absolute_error(test.Demand, y_hat.Holt_Winter)\n",
    "y_Result['Holt_Winter-MAPE'] = mean_absolute_percentage_error(test.Demand, y_hat.Holt_Winter)\n",
    "y_Result"
   ]
  },
  {
   "cell_type": "markdown",
   "metadata": {},
   "source": [
    "### ARIMA method"
   ]
  },
  {
   "cell_type": "code",
   "execution_count": 30,
   "metadata": {},
   "outputs": [
    {
     "name": "stderr",
     "output_type": "stream",
     "text": [
      "C:\\Users\\kiran\\Anaconda3\\envs\\TimeSeries\\lib\\site-packages\\statsmodels\\tsa\\base\\tsa_model.py:165: ValueWarning: No frequency information was provided, so inferred frequency MS will be used.\n",
      "  % freq, ValueWarning)\n"
     ]
    }
   ],
   "source": [
    "#y_hat = test.copy()\n",
    "fit1 = sm.tsa.statespace.SARIMAX(train.Demand, order=(0, 0, 0)).fit()\n",
    "y_hat['SARIMA'] = fit1.predict(start=\"2019-5-1\", end=\"2019-6-1\", dynamic=True)"
   ]
  },
  {
   "cell_type": "code",
   "execution_count": 31,
   "metadata": {},
   "outputs": [
    {
     "data": {
      "text/html": [
       "<div>\n",
       "<style scoped>\n",
       "    .dataframe tbody tr th:only-of-type {\n",
       "        vertical-align: middle;\n",
       "    }\n",
       "\n",
       "    .dataframe tbody tr th {\n",
       "        vertical-align: top;\n",
       "    }\n",
       "\n",
       "    .dataframe thead th {\n",
       "        text-align: right;\n",
       "    }\n",
       "</style>\n",
       "<table border=\"1\" class=\"dataframe\">\n",
       "  <thead>\n",
       "    <tr style=\"text-align: right;\">\n",
       "      <th></th>\n",
       "      <th>Feeder</th>\n",
       "      <th>Demand</th>\n",
       "      <th>Revenue</th>\n",
       "      <th>naive</th>\n",
       "      <th>avg_forecast</th>\n",
       "      <th>moving_avg_forecast</th>\n",
       "      <th>SES</th>\n",
       "      <th>Holt_linear</th>\n",
       "      <th>Holt_Winter</th>\n",
       "      <th>SARIMA</th>\n",
       "    </tr>\n",
       "    <tr>\n",
       "      <th>ConsumptionDate</th>\n",
       "      <th></th>\n",
       "      <th></th>\n",
       "      <th></th>\n",
       "      <th></th>\n",
       "      <th></th>\n",
       "      <th></th>\n",
       "      <th></th>\n",
       "      <th></th>\n",
       "      <th></th>\n",
       "      <th></th>\n",
       "    </tr>\n",
       "  </thead>\n",
       "  <tbody>\n",
       "    <tr>\n",
       "      <td>2019-05-01</td>\n",
       "      <td>Feeder_40</td>\n",
       "      <td>155266</td>\n",
       "      <td>1096483.49</td>\n",
       "      <td>237519</td>\n",
       "      <td>170653.0</td>\n",
       "      <td>172995.333333</td>\n",
       "      <td>199577.784</td>\n",
       "      <td>224623.116643</td>\n",
       "      <td>223752.281120</td>\n",
       "      <td>0.0</td>\n",
       "    </tr>\n",
       "    <tr>\n",
       "      <td>2019-06-01</td>\n",
       "      <td>Feeder_40</td>\n",
       "      <td>162268</td>\n",
       "      <td>1294863.47</td>\n",
       "      <td>237519</td>\n",
       "      <td>170653.0</td>\n",
       "      <td>172995.333333</td>\n",
       "      <td>199577.784</td>\n",
       "      <td>245902.477445</td>\n",
       "      <td>207168.919781</td>\n",
       "      <td>0.0</td>\n",
       "    </tr>\n",
       "  </tbody>\n",
       "</table>\n",
       "</div>"
      ],
      "text/plain": [
       "                    Feeder  Demand     Revenue   naive  avg_forecast  \\\n",
       "ConsumptionDate                                                        \n",
       "2019-05-01       Feeder_40  155266  1096483.49  237519      170653.0   \n",
       "2019-06-01       Feeder_40  162268  1294863.47  237519      170653.0   \n",
       "\n",
       "                 moving_avg_forecast         SES    Holt_linear  \\\n",
       "ConsumptionDate                                                   \n",
       "2019-05-01             172995.333333  199577.784  224623.116643   \n",
       "2019-06-01             172995.333333  199577.784  245902.477445   \n",
       "\n",
       "                   Holt_Winter  SARIMA  \n",
       "ConsumptionDate                         \n",
       "2019-05-01       223752.281120     0.0  \n",
       "2019-06-01       207168.919781     0.0  "
      ]
     },
     "execution_count": 31,
     "metadata": {},
     "output_type": "execute_result"
    }
   ],
   "source": [
    "y_hat"
   ]
  },
  {
   "cell_type": "code",
   "execution_count": 32,
   "metadata": {},
   "outputs": [
    {
     "data": {
      "text/plain": [
       "<Figure size 1152x576 with 0 Axes>"
      ]
     },
     "execution_count": 32,
     "metadata": {},
     "output_type": "execute_result"
    },
    {
     "data": {
      "text/plain": [
       "[<matplotlib.lines.Line2D at 0x1eb6866f4c8>]"
      ]
     },
     "execution_count": 32,
     "metadata": {},
     "output_type": "execute_result"
    },
    {
     "data": {
      "text/plain": [
       "[<matplotlib.lines.Line2D at 0x1eb69842ec8>]"
      ]
     },
     "execution_count": 32,
     "metadata": {},
     "output_type": "execute_result"
    },
    {
     "data": {
      "text/plain": [
       "[<matplotlib.lines.Line2D at 0x1eb6984cd88>]"
      ]
     },
     "execution_count": 32,
     "metadata": {},
     "output_type": "execute_result"
    },
    {
     "data": {
      "text/plain": [
       "<matplotlib.legend.Legend at 0x1eb68668bc8>"
      ]
     },
     "execution_count": 32,
     "metadata": {},
     "output_type": "execute_result"
    },
    {
     "data": {
      "image/png": "[encoded data removed]",
      "text/plain": [
       "<Figure size 1152x576 with 1 Axes>"
      ]
     },
     "metadata": {
      "needs_background": "light"
     },
     "output_type": "display_data"
    }
   ],
   "source": [
    "plt.figure(figsize=(16,8))\n",
    "plt.plot( train['Demand'], label='Train')\n",
    "plt.plot(test['Demand'], label='Test')\n",
    "plt.plot(y_hat['SARIMA'], label='SARIMA')\n",
    "plt.legend(loc='best')\n",
    "plt.show()"
   ]
  },
  {
   "cell_type": "code",
   "execution_count": 33,
   "metadata": {},
   "outputs": [
    {
     "name": "stdout",
     "output_type": "stream",
     "text": [
      "ConsumptionDate\n",
      "2019-05-01    1.0\n",
      "2019-06-01    1.0\n",
      "dtype: float64\n"
     ]
    },
    {
     "data": {
      "text/plain": [
       "100.0"
      ]
     },
     "execution_count": 33,
     "metadata": {},
     "output_type": "execute_result"
    },
    {
     "name": "stdout",
     "output_type": "stream",
     "text": [
      "158805.59590266334\n"
     ]
    }
   ],
   "source": [
    "rms = sqrt(mean_squared_error(test.Demand, y_hat.SARIMA))\n",
    "\n",
    "mean_absolute_percentage_error(test.Demand, y_hat.SARIMA)\n",
    "print(rms)"
   ]
  },
  {
   "cell_type": "code",
   "execution_count": 34,
   "metadata": {},
   "outputs": [
    {
     "name": "stdout",
     "output_type": "stream",
     "text": [
      "ConsumptionDate\n",
      "2019-05-01    1.0\n",
      "2019-06-01    1.0\n",
      "dtype: float64\n"
     ]
    },
    {
     "data": {
      "text/html": [
       "<div>\n",
       "<style scoped>\n",
       "    .dataframe tbody tr th:only-of-type {\n",
       "        vertical-align: middle;\n",
       "    }\n",
       "\n",
       "    .dataframe tbody tr th {\n",
       "        vertical-align: top;\n",
       "    }\n",
       "\n",
       "    .dataframe thead th {\n",
       "        text-align: right;\n",
       "    }\n",
       "</style>\n",
       "<table border=\"1\" class=\"dataframe\">\n",
       "  <thead>\n",
       "    <tr style=\"text-align: right;\">\n",
       "      <th></th>\n",
       "      <th>Feeder</th>\n",
       "      <th>naive-MSE</th>\n",
       "      <th>naive-MAE</th>\n",
       "      <th>naive-MAPE</th>\n",
       "      <th>SimpeAvg-MSE</th>\n",
       "      <th>SimpeAvg-MAE</th>\n",
       "      <th>SimpeAvg-MAPE</th>\n",
       "      <th>MovingAvg-MSE</th>\n",
       "      <th>MovingAvg-MAE</th>\n",
       "      <th>MovingAvg-MAPE</th>\n",
       "      <th>...</th>\n",
       "      <th>SES-MAPE</th>\n",
       "      <th>Holt_linear-MSE</th>\n",
       "      <th>Holt_linear-MAE</th>\n",
       "      <th>Holt_linear-MAPE</th>\n",
       "      <th>Holt_Winter-MSE</th>\n",
       "      <th>Holt_Winter-MAE</th>\n",
       "      <th>Holt_Winter-MAPE</th>\n",
       "      <th>SARIMA-MSE</th>\n",
       "      <th>SARIMA-MAE</th>\n",
       "      <th>SARIMA-MAPE</th>\n",
       "    </tr>\n",
       "    <tr>\n",
       "      <th>ConsumptionDate</th>\n",
       "      <th></th>\n",
       "      <th></th>\n",
       "      <th></th>\n",
       "      <th></th>\n",
       "      <th></th>\n",
       "      <th></th>\n",
       "      <th></th>\n",
       "      <th></th>\n",
       "      <th></th>\n",
       "      <th></th>\n",
       "      <th></th>\n",
       "      <th></th>\n",
       "      <th></th>\n",
       "      <th></th>\n",
       "      <th></th>\n",
       "      <th></th>\n",
       "      <th></th>\n",
       "      <th></th>\n",
       "      <th></th>\n",
       "      <th></th>\n",
       "      <th></th>\n",
       "    </tr>\n",
       "  </thead>\n",
       "  <tbody>\n",
       "    <tr>\n",
       "      <td>2019-05-01</td>\n",
       "      <td>Feeder_40</td>\n",
       "      <td>6.214135e+09</td>\n",
       "      <td>78752.0</td>\n",
       "      <td>49.675027</td>\n",
       "      <td>153533997.0</td>\n",
       "      <td>11886.0</td>\n",
       "      <td>7.538734</td>\n",
       "      <td>2.147025e+08</td>\n",
       "      <td>14228.333333</td>\n",
       "      <td>9.014779</td>\n",
       "      <td>...</td>\n",
       "      <td>25.765982</td>\n",
       "      <td>5.902568e+09</td>\n",
       "      <td>76495.797044</td>\n",
       "      <td>48.105411</td>\n",
       "      <td>3.353232e+09</td>\n",
       "      <td>56693.600451</td>\n",
       "      <td>35.889921</td>\n",
       "      <td>2.521922e+10</td>\n",
       "      <td>158767.0</td>\n",
       "      <td>100.0</td>\n",
       "    </tr>\n",
       "  </tbody>\n",
       "</table>\n",
       "<p>1 rows × 22 columns</p>\n",
       "</div>"
      ],
      "text/plain": [
       "                    Feeder     naive-MSE  naive-MAE  naive-MAPE  SimpeAvg-MSE  \\\n",
       "ConsumptionDate                                                                 \n",
       "2019-05-01       Feeder_40  6.214135e+09    78752.0   49.675027   153533997.0   \n",
       "\n",
       "                 SimpeAvg-MAE  SimpeAvg-MAPE  MovingAvg-MSE  MovingAvg-MAE  \\\n",
       "ConsumptionDate                                                              \n",
       "2019-05-01            11886.0       7.538734   2.147025e+08   14228.333333   \n",
       "\n",
       "                 MovingAvg-MAPE  ...   SES-MAPE  Holt_linear-MSE  \\\n",
       "ConsumptionDate                  ...                               \n",
       "2019-05-01             9.014779  ...  25.765982     5.902568e+09   \n",
       "\n",
       "                 Holt_linear-MAE  Holt_linear-MAPE  Holt_Winter-MSE  \\\n",
       "ConsumptionDate                                                       \n",
       "2019-05-01          76495.797044         48.105411     3.353232e+09   \n",
       "\n",
       "                 Holt_Winter-MAE  Holt_Winter-MAPE    SARIMA-MSE  SARIMA-MAE  \\\n",
       "ConsumptionDate                                                                \n",
       "2019-05-01          56693.600451         35.889921  2.521922e+10    158767.0   \n",
       "\n",
       "                 SARIMA-MAPE  \n",
       "ConsumptionDate               \n",
       "2019-05-01             100.0  \n",
       "\n",
       "[1 rows x 22 columns]"
      ]
     },
     "execution_count": 34,
     "metadata": {},
     "output_type": "execute_result"
    }
   ],
   "source": [
    "y_Result['SARIMA-MSE'] = mean_squared_error(test.Demand, y_hat.SARIMA)\n",
    "y_Result['SARIMA-MAE'] = mean_absolute_error(test.Demand, y_hat.SARIMA)\n",
    "y_Result['SARIMA-MAPE'] = mean_absolute_percentage_error(test.Demand, y_hat.SARIMA)\n",
    "y_Result"
   ]
  },
  {
   "cell_type": "markdown",
   "metadata": {},
   "source": [
    "### Auto ARIMA method"
   ]
  },
  {
   "cell_type": "code",
   "execution_count": 35,
   "metadata": {},
   "outputs": [
    {
     "name": "stderr",
     "output_type": "stream",
     "text": [
      "C:\\Users\\kiran\\Anaconda3\\envs\\TimeSeries\\lib\\site-packages\\sklearn\\externals\\six.py:31: DeprecationWarning: The module is deprecated in version 0.21 and will be removed in version 0.23 since we've dropped support for Python 2.7. Please rely on the official version of six (https://pypi.org/project/six/).\n",
      "  \"(https://pypi.org/project/six/).\", DeprecationWarning)\n",
      "C:\\Users\\kiran\\Anaconda3\\envs\\TimeSeries\\lib\\site-packages\\sklearn\\externals\\joblib\\__init__.py:15: DeprecationWarning: sklearn.externals.joblib is deprecated in 0.21 and will be removed in 0.23. Please import this functionality directly from joblib, which can be installed with: pip install joblib. If this warning is raised when loading pickled models, you may need to re-serialize those models with scikit-learn 0.21+.\n",
      "  warnings.warn(msg, category=DeprecationWarning)\n"
     ]
    }
   ],
   "source": [
    "import pmdarima as pm"
   ]
  },
  {
   "cell_type": "code",
   "execution_count": 36,
   "metadata": {},
   "outputs": [
    {
     "name": "stderr",
     "output_type": "stream",
     "text": [
      "C:\\Users\\kiran\\Anaconda3\\envs\\TimeSeries\\lib\\site-packages\\statsmodels\\tsa\\ar_model.py:763: RuntimeWarning: divide by zero encountered in log\n",
      "  return np.log(self.sigma2) + (1 + self.df_model) * np.log(nobs)/nobs\n",
      "C:\\Users\\kiran\\Anaconda3\\envs\\TimeSeries\\lib\\site-packages\\pmdarima\\arima\\_auto_solvers.py:207: ModelFitWarning: Unable to fit ARIMA for order=(1, 0, 1); data is likely non-stationary. (if you do not want to see these warnings, run with error_action=\"ignore\")\n",
      "  ModelFitWarning)\n",
      "C:\\Users\\kiran\\Anaconda3\\envs\\TimeSeries\\lib\\site-packages\\statsmodels\\base\\model.py:492: HessianInversionWarning: Inverting hessian failed, no bse or cov_params available\n",
      "  'available', HessianInversionWarning)\n"
     ]
    }
   ],
   "source": [
    "# Fit your model\n",
    "model = pm.auto_arima(train.Demand, seasonal=False)"
   ]
  },
  {
   "cell_type": "code",
   "execution_count": 37,
   "metadata": {},
   "outputs": [
    {
     "data": {
      "text/plain": [
       "2"
      ]
     },
     "execution_count": 37,
     "metadata": {},
     "output_type": "execute_result"
    }
   ],
   "source": [
    "# make your forecasts\n",
    "test.shape[0]"
   ]
  },
  {
   "cell_type": "code",
   "execution_count": 38,
   "metadata": {},
   "outputs": [],
   "source": [
    "forecasts = model.predict(test.shape[0])  # predict N steps into the future"
   ]
  },
  {
   "cell_type": "code",
   "execution_count": 39,
   "metadata": {},
   "outputs": [
    {
     "data": {
      "text/plain": [
       "array([0, 1, 2, 3, 4])"
      ]
     },
     "execution_count": 39,
     "metadata": {},
     "output_type": "execute_result"
    }
   ],
   "source": [
    "# Visualize the forecasts (blue=train, green=forecasts)\n",
    "x = np.arange(dfFeederData.shape[0]-1)\n",
    "x"
   ]
  },
  {
   "cell_type": "code",
   "execution_count": 40,
   "metadata": {},
   "outputs": [],
   "source": [
    "forecasts = pd.DataFrame(forecasts,index = test.index,columns=['Prediction'])\n",
    "y_hat['AutoARIMA'] = forecasts"
   ]
  },
  {
   "cell_type": "code",
   "execution_count": 41,
   "metadata": {},
   "outputs": [
    {
     "data": {
      "text/plain": [
       "<Figure size 1440x720 with 0 Axes>"
      ]
     },
     "execution_count": 41,
     "metadata": {},
     "output_type": "execute_result"
    },
    {
     "data": {
      "text/plain": [
       "<matplotlib.axes._subplots.AxesSubplot at 0x1eb69a36f48>"
      ]
     },
     "execution_count": 41,
     "metadata": {},
     "output_type": "execute_result"
    },
    {
     "data": {
      "text/plain": [
       "<matplotlib.axes._subplots.AxesSubplot at 0x1eb69b52048>"
      ]
     },
     "execution_count": 41,
     "metadata": {},
     "output_type": "execute_result"
    },
    {
     "data": {
      "text/plain": [
       "<Figure size 1440x720 with 0 Axes>"
      ]
     },
     "metadata": {},
     "output_type": "display_data"
    },
    {
     "data": {
      "image/png": "[encoded data removed]",
      "text/plain": [
       "<Figure size 432x288 with 1 Axes>"
      ]
     },
     "metadata": {
      "needs_background": "light"
     },
     "output_type": "display_data"
    },
    {
     "data": {
      "image/png": "[encoded data removed]",
      "text/plain": [
       "<Figure size 432x288 with 1 Axes>"
      ]
     },
     "metadata": {
      "needs_background": "light"
     },
     "output_type": "display_data"
    }
   ],
   "source": [
    "#plt.plot(test.Demand, c='blue')\n",
    "#plt.plot(forecasts, c='green')\n",
    "plt.figure(figsize = (20,10))\n",
    "pd.DataFrame(test.Demand).plot()\n",
    "pd.DataFrame(forecasts).plot()\n",
    "plt.show()"
   ]
  },
  {
   "cell_type": "code",
   "execution_count": 42,
   "metadata": {},
   "outputs": [
    {
     "name": "stdout",
     "output_type": "stream",
     "text": [
      "ConsumptionDate\n",
      "2019-05-01    0.099101\n",
      "2019-06-01    0.051674\n",
      "dtype: float64\n"
     ]
    },
    {
     "data": {
      "text/plain": [
       "7.538733603204004"
      ]
     },
     "execution_count": 42,
     "metadata": {},
     "output_type": "execute_result"
    },
    {
     "data": {
      "text/plain": [
       "12390.883624665354"
      ]
     },
     "execution_count": 42,
     "metadata": {},
     "output_type": "execute_result"
    }
   ],
   "source": [
    "rms=np.sqrt(np.mean(np.power((np.array(test.Demand)-np.array(forecasts['Prediction'])),2)))\n",
    "mean_absolute_percentage_error(test.Demand, forecasts['Prediction'])\n",
    "rms"
   ]
  },
  {
   "cell_type": "code",
   "execution_count": 43,
   "metadata": {},
   "outputs": [
    {
     "name": "stdout",
     "output_type": "stream",
     "text": [
      "ConsumptionDate\n",
      "2019-05-01    0.099101\n",
      "2019-06-01    0.051674\n",
      "dtype: float64\n"
     ]
    },
    {
     "data": {
      "text/html": [
       "<div>\n",
       "<style scoped>\n",
       "    .dataframe tbody tr th:only-of-type {\n",
       "        vertical-align: middle;\n",
       "    }\n",
       "\n",
       "    .dataframe tbody tr th {\n",
       "        vertical-align: top;\n",
       "    }\n",
       "\n",
       "    .dataframe thead th {\n",
       "        text-align: right;\n",
       "    }\n",
       "</style>\n",
       "<table border=\"1\" class=\"dataframe\">\n",
       "  <thead>\n",
       "    <tr style=\"text-align: right;\">\n",
       "      <th></th>\n",
       "      <th>Feeder</th>\n",
       "      <th>naive-MSE</th>\n",
       "      <th>naive-MAE</th>\n",
       "      <th>naive-MAPE</th>\n",
       "      <th>SimpeAvg-MSE</th>\n",
       "      <th>SimpeAvg-MAE</th>\n",
       "      <th>SimpeAvg-MAPE</th>\n",
       "      <th>MovingAvg-MSE</th>\n",
       "      <th>MovingAvg-MAE</th>\n",
       "      <th>MovingAvg-MAPE</th>\n",
       "      <th>...</th>\n",
       "      <th>Holt_linear-MAPE</th>\n",
       "      <th>Holt_Winter-MSE</th>\n",
       "      <th>Holt_Winter-MAE</th>\n",
       "      <th>Holt_Winter-MAPE</th>\n",
       "      <th>SARIMA-MSE</th>\n",
       "      <th>SARIMA-MAE</th>\n",
       "      <th>SARIMA-MAPE</th>\n",
       "      <th>AutoARIMA-MSE</th>\n",
       "      <th>AutoARIMA-MAE</th>\n",
       "      <th>AutoARIMA-MAPE</th>\n",
       "    </tr>\n",
       "    <tr>\n",
       "      <th>ConsumptionDate</th>\n",
       "      <th></th>\n",
       "      <th></th>\n",
       "      <th></th>\n",
       "      <th></th>\n",
       "      <th></th>\n",
       "      <th></th>\n",
       "      <th></th>\n",
       "      <th></th>\n",
       "      <th></th>\n",
       "      <th></th>\n",
       "      <th></th>\n",
       "      <th></th>\n",
       "      <th></th>\n",
       "      <th></th>\n",
       "      <th></th>\n",
       "      <th></th>\n",
       "      <th></th>\n",
       "      <th></th>\n",
       "      <th></th>\n",
       "      <th></th>\n",
       "      <th></th>\n",
       "    </tr>\n",
       "  </thead>\n",
       "  <tbody>\n",
       "    <tr>\n",
       "      <td>2019-05-01</td>\n",
       "      <td>Feeder_40</td>\n",
       "      <td>6.214135e+09</td>\n",
       "      <td>78752.0</td>\n",
       "      <td>49.675027</td>\n",
       "      <td>153533997.0</td>\n",
       "      <td>11886.0</td>\n",
       "      <td>7.538734</td>\n",
       "      <td>2.147025e+08</td>\n",
       "      <td>14228.333333</td>\n",
       "      <td>9.014779</td>\n",
       "      <td>...</td>\n",
       "      <td>48.105411</td>\n",
       "      <td>3.353232e+09</td>\n",
       "      <td>56693.600451</td>\n",
       "      <td>35.889921</td>\n",
       "      <td>2.521922e+10</td>\n",
       "      <td>158767.0</td>\n",
       "      <td>100.0</td>\n",
       "      <td>153533997.0</td>\n",
       "      <td>11886.0</td>\n",
       "      <td>7.538734</td>\n",
       "    </tr>\n",
       "  </tbody>\n",
       "</table>\n",
       "<p>1 rows × 25 columns</p>\n",
       "</div>"
      ],
      "text/plain": [
       "                    Feeder     naive-MSE  naive-MAE  naive-MAPE  SimpeAvg-MSE  \\\n",
       "ConsumptionDate                                                                 \n",
       "2019-05-01       Feeder_40  6.214135e+09    78752.0   49.675027   153533997.0   \n",
       "\n",
       "                 SimpeAvg-MAE  SimpeAvg-MAPE  MovingAvg-MSE  MovingAvg-MAE  \\\n",
       "ConsumptionDate                                                              \n",
       "2019-05-01            11886.0       7.538734   2.147025e+08   14228.333333   \n",
       "\n",
       "                 MovingAvg-MAPE  ...  Holt_linear-MAPE  Holt_Winter-MSE  \\\n",
       "ConsumptionDate                  ...                                      \n",
       "2019-05-01             9.014779  ...         48.105411     3.353232e+09   \n",
       "\n",
       "                 Holt_Winter-MAE  Holt_Winter-MAPE    SARIMA-MSE  SARIMA-MAE  \\\n",
       "ConsumptionDate                                                                \n",
       "2019-05-01          56693.600451         35.889921  2.521922e+10    158767.0   \n",
       "\n",
       "                 SARIMA-MAPE  AutoARIMA-MSE  AutoARIMA-MAE  AutoARIMA-MAPE  \n",
       "ConsumptionDate                                                             \n",
       "2019-05-01             100.0    153533997.0        11886.0        7.538734  \n",
       "\n",
       "[1 rows x 25 columns]"
      ]
     },
     "execution_count": 43,
     "metadata": {},
     "output_type": "execute_result"
    }
   ],
   "source": [
    "y_Result['AutoARIMA-MSE'] = mean_squared_error(test.Demand, y_hat.AutoARIMA)\n",
    "y_Result['AutoARIMA-MAE'] = mean_absolute_error(test.Demand, y_hat.AutoARIMA)\n",
    "y_Result['AutoARIMA-MAPE'] = mean_absolute_percentage_error(test.Demand, y_hat.AutoARIMA)\n",
    "y_Result"
   ]
  },
  {
   "cell_type": "code",
   "execution_count": 44,
   "metadata": {},
   "outputs": [
    {
     "data": {
      "text/plain": [
       "<Figure size 1440x576 with 0 Axes>"
      ]
     },
     "execution_count": 44,
     "metadata": {},
     "output_type": "execute_result"
    },
    {
     "data": {
      "text/plain": [
       "[<matplotlib.lines.Line2D at 0x1eb69c20f08>]"
      ]
     },
     "execution_count": 44,
     "metadata": {},
     "output_type": "execute_result"
    },
    {
     "data": {
      "text/plain": [
       "[<matplotlib.lines.Line2D at 0x1eb69c0a588>]"
      ]
     },
     "execution_count": 44,
     "metadata": {},
     "output_type": "execute_result"
    },
    {
     "data": {
      "text/plain": [
       "[<matplotlib.lines.Line2D at 0x1eb69a6c508>]"
      ]
     },
     "execution_count": 44,
     "metadata": {},
     "output_type": "execute_result"
    },
    {
     "data": {
      "text/plain": [
       "[<matplotlib.lines.Line2D at 0x1eb6a7c2488>]"
      ]
     },
     "execution_count": 44,
     "metadata": {},
     "output_type": "execute_result"
    },
    {
     "data": {
      "text/plain": [
       "[<matplotlib.lines.Line2D at 0x1eb6a7c33c8>]"
      ]
     },
     "execution_count": 44,
     "metadata": {},
     "output_type": "execute_result"
    },
    {
     "data": {
      "text/plain": [
       "[<matplotlib.lines.Line2D at 0x1eb6a7c3bc8>]"
      ]
     },
     "execution_count": 44,
     "metadata": {},
     "output_type": "execute_result"
    },
    {
     "data": {
      "text/plain": [
       "[<matplotlib.lines.Line2D at 0x1eb6a7cc688>]"
      ]
     },
     "execution_count": 44,
     "metadata": {},
     "output_type": "execute_result"
    },
    {
     "data": {
      "text/plain": [
       "[<matplotlib.lines.Line2D at 0x1eb6a7ccd48>]"
      ]
     },
     "execution_count": 44,
     "metadata": {},
     "output_type": "execute_result"
    },
    {
     "data": {
      "text/plain": [
       "[<matplotlib.lines.Line2D at 0x1eb6a7b8c48>]"
      ]
     },
     "execution_count": 44,
     "metadata": {},
     "output_type": "execute_result"
    },
    {
     "data": {
      "text/plain": [
       "<matplotlib.legend.Legend at 0x1eb69a451c8>"
      ]
     },
     "execution_count": 44,
     "metadata": {},
     "output_type": "execute_result"
    },
    {
     "data": {
      "image/png": "[encoded data removed]",
      "text/plain": [
       "<Figure size 1440x576 with 1 Axes>"
      ]
     },
     "metadata": {
      "needs_background": "light"
     },
     "output_type": "display_data"
    }
   ],
   "source": [
    "plt.figure(figsize=(20,8))\n",
    "plt.plot( train['Demand'], label='Train')\n",
    "plt.plot(test['Demand'], label='Test')\n",
    "plt.plot(y_hat['SARIMA'], label='SARIMA')\n",
    "plt.plot(y_hat['Holt_Winter'], label='Holt_Winter')\n",
    "plt.plot(y_hat['Holt_linear'], label='Holt_linear')\n",
    "plt.plot(y_hat['SES'], label='SES')\n",
    "plt.plot(y_hat['moving_avg_forecast'], label='Moving Average Forecast')\n",
    "plt.plot(y_hat['avg_forecast'], label='Average Forecast')\n",
    "plt.plot(y_hat.index,y_hat['naive'], label='Naive Forecast')\n",
    "\n",
    "plt.legend(loc='best')\n",
    "plt.show()"
   ]
  },
  {
   "cell_type": "code",
   "execution_count": 45,
   "metadata": {},
   "outputs": [],
   "source": [
    "y_Result.to_csv('Feeder_40.csv')"
   ]
  },
  {
   "cell_type": "code",
   "execution_count": null,
   "metadata": {},
   "outputs": [],
   "source": []
  }
 ],
 "metadata": {
  "kernelspec": {
   "display_name": "Python 3",
   "language": "python",
   "name": "python3"
  },
  "language_info": {
   "codemirror_mode": {
    "name": "ipython",
    "version": 3
   },
   "file_extension": ".py",
   "mimetype": "text/x-python",
   "name": "python",
   "nbconvert_exporter": "python",
   "pygments_lexer": "ipython3",
   "version": "3.7.4"
  }
 },
 "nbformat": 4,
 "nbformat_minor": 2
}
