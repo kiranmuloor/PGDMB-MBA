{
 "cells": [
  {
   "cell_type": "code",
   "execution_count": 1,
   "metadata": {},
   "outputs": [],
   "source": [
    "import pandas as pd\n",
    "import numpy as np\n",
    "import seaborn as sns\n",
    "import matplotlib.pyplot as plt\n",
    "import pandas_profiling as pdf\n",
    "from sklearn.utils import check_array \n",
    "from sklearn import preprocessing \n",
    "from sklearn.metrics import mean_squared_error, mean_absolute_error\n",
    "from math import sqrt\n",
    "from statsmodels.tsa.api import ExponentialSmoothing, SimpleExpSmoothing, Holt\n",
    "import statsmodels.api as sm"
   ]
  },
  {
   "cell_type": "code",
   "execution_count": 2,
   "metadata": {},
   "outputs": [],
   "source": [
    "#print multiple statements in same line\n",
    "from IPython.core.interactiveshell import InteractiveShell\n",
    "InteractiveShell.ast_node_interactivity =\"all\"\n",
    "%matplotlib inline"
   ]
  },
  {
   "cell_type": "code",
   "execution_count": 3,
   "metadata": {},
   "outputs": [
    {
     "name": "stdout",
     "output_type": "stream",
     "text": [
      "\n",
      " Parsed Data:\n"
     ]
    },
    {
     "data": {
      "text/html": [
       "<div>\n",
       "<style scoped>\n",
       "    .dataframe tbody tr th:only-of-type {\n",
       "        vertical-align: middle;\n",
       "    }\n",
       "\n",
       "    .dataframe tbody tr th {\n",
       "        vertical-align: top;\n",
       "    }\n",
       "\n",
       "    .dataframe thead th {\n",
       "        text-align: right;\n",
       "    }\n",
       "</style>\n",
       "<table border=\"1\" class=\"dataframe\">\n",
       "  <thead>\n",
       "    <tr style=\"text-align: right;\">\n",
       "      <th></th>\n",
       "      <th>Feeder</th>\n",
       "      <th>Demand</th>\n",
       "      <th>Revenue</th>\n",
       "    </tr>\n",
       "    <tr>\n",
       "      <th>ConsumptionDate</th>\n",
       "      <th></th>\n",
       "      <th></th>\n",
       "      <th></th>\n",
       "    </tr>\n",
       "  </thead>\n",
       "  <tbody>\n",
       "    <tr>\n",
       "      <td>2019-01-01</td>\n",
       "      <td>Feeder_1</td>\n",
       "      <td>624159.0</td>\n",
       "      <td>4985411.96</td>\n",
       "    </tr>\n",
       "    <tr>\n",
       "      <td>2019-02-01</td>\n",
       "      <td>Feeder_1</td>\n",
       "      <td>606149.5</td>\n",
       "      <td>4872530.70</td>\n",
       "    </tr>\n",
       "    <tr>\n",
       "      <td>2019-03-01</td>\n",
       "      <td>Feeder_1</td>\n",
       "      <td>637723.5</td>\n",
       "      <td>5203000.43</td>\n",
       "    </tr>\n",
       "    <tr>\n",
       "      <td>2019-04-01</td>\n",
       "      <td>Feeder_1</td>\n",
       "      <td>718271.5</td>\n",
       "      <td>5617795.97</td>\n",
       "    </tr>\n",
       "    <tr>\n",
       "      <td>2019-05-01</td>\n",
       "      <td>Feeder_1</td>\n",
       "      <td>705281.5</td>\n",
       "      <td>5566052.72</td>\n",
       "    </tr>\n",
       "  </tbody>\n",
       "</table>\n",
       "</div>"
      ],
      "text/plain": [
       "                   Feeder    Demand     Revenue\n",
       "ConsumptionDate                                \n",
       "2019-01-01       Feeder_1  624159.0  4985411.96\n",
       "2019-02-01       Feeder_1  606149.5  4872530.70\n",
       "2019-03-01       Feeder_1  637723.5  5203000.43\n",
       "2019-04-01       Feeder_1  718271.5  5617795.97\n",
       "2019-05-01       Feeder_1  705281.5  5566052.72"
      ]
     },
     "execution_count": 3,
     "metadata": {},
     "output_type": "execute_result"
    }
   ],
   "source": [
    "dateparse = lambda dates: pd.datetime.strptime(dates, '%Y-%m')\n",
    "dfFeederData = pd.read_csv('Train_Feeder_1.csv', parse_dates=['ConsumptionDate'], index_col='ConsumptionDate',date_parser=dateparse)\n",
    "print ('\\n Parsed Data:')\n",
    "dfFeederData.head()"
   ]
  },
  {
   "cell_type": "code",
   "execution_count": 4,
   "metadata": {},
   "outputs": [
    {
     "data": {
      "text/plain": [
       "4"
      ]
     },
     "execution_count": 4,
     "metadata": {},
     "output_type": "execute_result"
    }
   ],
   "source": [
    "size = int(len(dfFeederData)*.8)\n",
    "size"
   ]
  },
  {
   "cell_type": "code",
   "execution_count": 5,
   "metadata": {},
   "outputs": [],
   "source": [
    "train = dfFeederData.iloc[:size]\n",
    "test = dfFeederData.iloc[size:]"
   ]
  },
  {
   "cell_type": "code",
   "execution_count": 6,
   "metadata": {},
   "outputs": [
    {
     "data": {
      "text/html": [
       "<div>\n",
       "<style scoped>\n",
       "    .dataframe tbody tr th:only-of-type {\n",
       "        vertical-align: middle;\n",
       "    }\n",
       "\n",
       "    .dataframe tbody tr th {\n",
       "        vertical-align: top;\n",
       "    }\n",
       "\n",
       "    .dataframe thead th {\n",
       "        text-align: right;\n",
       "    }\n",
       "</style>\n",
       "<table border=\"1\" class=\"dataframe\">\n",
       "  <thead>\n",
       "    <tr style=\"text-align: right;\">\n",
       "      <th></th>\n",
       "      <th>Feeder</th>\n",
       "      <th>Demand</th>\n",
       "      <th>Revenue</th>\n",
       "    </tr>\n",
       "    <tr>\n",
       "      <th>ConsumptionDate</th>\n",
       "      <th></th>\n",
       "      <th></th>\n",
       "      <th></th>\n",
       "    </tr>\n",
       "  </thead>\n",
       "  <tbody>\n",
       "    <tr>\n",
       "      <td>2019-01-01</td>\n",
       "      <td>Feeder_1</td>\n",
       "      <td>624159.0</td>\n",
       "      <td>4985411.96</td>\n",
       "    </tr>\n",
       "    <tr>\n",
       "      <td>2019-02-01</td>\n",
       "      <td>Feeder_1</td>\n",
       "      <td>606149.5</td>\n",
       "      <td>4872530.70</td>\n",
       "    </tr>\n",
       "    <tr>\n",
       "      <td>2019-03-01</td>\n",
       "      <td>Feeder_1</td>\n",
       "      <td>637723.5</td>\n",
       "      <td>5203000.43</td>\n",
       "    </tr>\n",
       "    <tr>\n",
       "      <td>2019-04-01</td>\n",
       "      <td>Feeder_1</td>\n",
       "      <td>718271.5</td>\n",
       "      <td>5617795.97</td>\n",
       "    </tr>\n",
       "  </tbody>\n",
       "</table>\n",
       "</div>"
      ],
      "text/plain": [
       "                   Feeder    Demand     Revenue\n",
       "ConsumptionDate                                \n",
       "2019-01-01       Feeder_1  624159.0  4985411.96\n",
       "2019-02-01       Feeder_1  606149.5  4872530.70\n",
       "2019-03-01       Feeder_1  637723.5  5203000.43\n",
       "2019-04-01       Feeder_1  718271.5  5617795.97"
      ]
     },
     "execution_count": 6,
     "metadata": {},
     "output_type": "execute_result"
    },
    {
     "data": {
      "text/html": [
       "<div>\n",
       "<style scoped>\n",
       "    .dataframe tbody tr th:only-of-type {\n",
       "        vertical-align: middle;\n",
       "    }\n",
       "\n",
       "    .dataframe tbody tr th {\n",
       "        vertical-align: top;\n",
       "    }\n",
       "\n",
       "    .dataframe thead th {\n",
       "        text-align: right;\n",
       "    }\n",
       "</style>\n",
       "<table border=\"1\" class=\"dataframe\">\n",
       "  <thead>\n",
       "    <tr style=\"text-align: right;\">\n",
       "      <th></th>\n",
       "      <th>Feeder</th>\n",
       "      <th>Demand</th>\n",
       "      <th>Revenue</th>\n",
       "    </tr>\n",
       "    <tr>\n",
       "      <th>ConsumptionDate</th>\n",
       "      <th></th>\n",
       "      <th></th>\n",
       "      <th></th>\n",
       "    </tr>\n",
       "  </thead>\n",
       "  <tbody>\n",
       "    <tr>\n",
       "      <td>2019-01-01</td>\n",
       "      <td>Feeder_1</td>\n",
       "      <td>624159.0</td>\n",
       "      <td>4985411.96</td>\n",
       "    </tr>\n",
       "    <tr>\n",
       "      <td>2019-02-01</td>\n",
       "      <td>Feeder_1</td>\n",
       "      <td>606149.5</td>\n",
       "      <td>4872530.70</td>\n",
       "    </tr>\n",
       "    <tr>\n",
       "      <td>2019-03-01</td>\n",
       "      <td>Feeder_1</td>\n",
       "      <td>637723.5</td>\n",
       "      <td>5203000.43</td>\n",
       "    </tr>\n",
       "    <tr>\n",
       "      <td>2019-04-01</td>\n",
       "      <td>Feeder_1</td>\n",
       "      <td>718271.5</td>\n",
       "      <td>5617795.97</td>\n",
       "    </tr>\n",
       "  </tbody>\n",
       "</table>\n",
       "</div>"
      ],
      "text/plain": [
       "                   Feeder    Demand     Revenue\n",
       "ConsumptionDate                                \n",
       "2019-01-01       Feeder_1  624159.0  4985411.96\n",
       "2019-02-01       Feeder_1  606149.5  4872530.70\n",
       "2019-03-01       Feeder_1  637723.5  5203000.43\n",
       "2019-04-01       Feeder_1  718271.5  5617795.97"
      ]
     },
     "execution_count": 6,
     "metadata": {},
     "output_type": "execute_result"
    },
    {
     "data": {
      "text/html": [
       "<div>\n",
       "<style scoped>\n",
       "    .dataframe tbody tr th:only-of-type {\n",
       "        vertical-align: middle;\n",
       "    }\n",
       "\n",
       "    .dataframe tbody tr th {\n",
       "        vertical-align: top;\n",
       "    }\n",
       "\n",
       "    .dataframe thead th {\n",
       "        text-align: right;\n",
       "    }\n",
       "</style>\n",
       "<table border=\"1\" class=\"dataframe\">\n",
       "  <thead>\n",
       "    <tr style=\"text-align: right;\">\n",
       "      <th></th>\n",
       "      <th>Feeder</th>\n",
       "      <th>Demand</th>\n",
       "      <th>Revenue</th>\n",
       "    </tr>\n",
       "    <tr>\n",
       "      <th>ConsumptionDate</th>\n",
       "      <th></th>\n",
       "      <th></th>\n",
       "      <th></th>\n",
       "    </tr>\n",
       "  </thead>\n",
       "  <tbody>\n",
       "    <tr>\n",
       "      <td>2019-05-01</td>\n",
       "      <td>Feeder_1</td>\n",
       "      <td>705281.5</td>\n",
       "      <td>5566052.72</td>\n",
       "    </tr>\n",
       "    <tr>\n",
       "      <td>2019-06-01</td>\n",
       "      <td>Feeder_1</td>\n",
       "      <td>715699.5</td>\n",
       "      <td>6126206.23</td>\n",
       "    </tr>\n",
       "  </tbody>\n",
       "</table>\n",
       "</div>"
      ],
      "text/plain": [
       "                   Feeder    Demand     Revenue\n",
       "ConsumptionDate                                \n",
       "2019-05-01       Feeder_1  705281.5  5566052.72\n",
       "2019-06-01       Feeder_1  715699.5  6126206.23"
      ]
     },
     "execution_count": 6,
     "metadata": {},
     "output_type": "execute_result"
    },
    {
     "data": {
      "text/html": [
       "<div>\n",
       "<style scoped>\n",
       "    .dataframe tbody tr th:only-of-type {\n",
       "        vertical-align: middle;\n",
       "    }\n",
       "\n",
       "    .dataframe tbody tr th {\n",
       "        vertical-align: top;\n",
       "    }\n",
       "\n",
       "    .dataframe thead th {\n",
       "        text-align: right;\n",
       "    }\n",
       "</style>\n",
       "<table border=\"1\" class=\"dataframe\">\n",
       "  <thead>\n",
       "    <tr style=\"text-align: right;\">\n",
       "      <th></th>\n",
       "      <th>Feeder</th>\n",
       "      <th>Demand</th>\n",
       "      <th>Revenue</th>\n",
       "    </tr>\n",
       "    <tr>\n",
       "      <th>ConsumptionDate</th>\n",
       "      <th></th>\n",
       "      <th></th>\n",
       "      <th></th>\n",
       "    </tr>\n",
       "  </thead>\n",
       "  <tbody>\n",
       "    <tr>\n",
       "      <td>2019-05-01</td>\n",
       "      <td>Feeder_1</td>\n",
       "      <td>705281.5</td>\n",
       "      <td>5566052.72</td>\n",
       "    </tr>\n",
       "    <tr>\n",
       "      <td>2019-06-01</td>\n",
       "      <td>Feeder_1</td>\n",
       "      <td>715699.5</td>\n",
       "      <td>6126206.23</td>\n",
       "    </tr>\n",
       "  </tbody>\n",
       "</table>\n",
       "</div>"
      ],
      "text/plain": [
       "                   Feeder    Demand     Revenue\n",
       "ConsumptionDate                                \n",
       "2019-05-01       Feeder_1  705281.5  5566052.72\n",
       "2019-06-01       Feeder_1  715699.5  6126206.23"
      ]
     },
     "execution_count": 6,
     "metadata": {},
     "output_type": "execute_result"
    }
   ],
   "source": [
    "train.head(10)\n",
    "train.tail(10)\n",
    "test.head(10)\n",
    "test.tail(10)"
   ]
  },
  {
   "cell_type": "code",
   "execution_count": 7,
   "metadata": {},
   "outputs": [
    {
     "data": {
      "text/plain": [
       "<Figure size 864x576 with 0 Axes>"
      ]
     },
     "execution_count": 7,
     "metadata": {},
     "output_type": "execute_result"
    },
    {
     "data": {
      "text/plain": [
       "[<matplotlib.lines.Line2D at 0x239d4acd148>]"
      ]
     },
     "execution_count": 7,
     "metadata": {},
     "output_type": "execute_result"
    },
    {
     "name": "stderr",
     "output_type": "stream",
     "text": [
      "No handles with labels found to put in legend.\n"
     ]
    },
    {
     "data": {
      "text/plain": [
       "<matplotlib.legend.Legend at 0x239d4b11988>"
      ]
     },
     "execution_count": 7,
     "metadata": {},
     "output_type": "execute_result"
    },
    {
     "data": {
      "text/plain": [
       "Text(0.5, 1.0, 'Demand Per Month - Feeder_1')"
      ]
     },
     "execution_count": 7,
     "metadata": {},
     "output_type": "execute_result"
    },
    {
     "data": {
      "image/png": "[encoded data removed]",
      "text/plain": [
       "<Figure size 864x576 with 1 Axes>"
      ]
     },
     "metadata": {
      "needs_background": "light"
     },
     "output_type": "display_data"
    }
   ],
   "source": [
    "plt.figure(figsize=(12,8))\n",
    "plt.plot(dfFeederData.index, dfFeederData['Demand'], label='')\n",
    "#plt.plot(dfFeederData.index,dfFeederData['Revenue'], label='Test')\n",
    "plt.legend(loc='best')\n",
    "plt.title(\"Demand Per Month - Feeder_1\")\n",
    "plt.show()"
   ]
  },
  {
   "cell_type": "code",
   "execution_count": 8,
   "metadata": {},
   "outputs": [],
   "source": [
    "def mean_absolute_percentage_error(y_true, y_pred): \n",
    "   # y_true\n",
    "   # y_pred\n",
    "   #    y_true, y_pred = check_array(y_true, y_pred)\n",
    "   \n",
    "    ## Note: does not handle mix 1d representation\n",
    "    #if _is_1d(y_true): \n",
    "    #    y_true, y_pred = _check_1d_array(y_true, y_pred)\n",
    "    print(np.abs((y_true - y_pred) / y_true))\n",
    "    return np.mean(np.abs((y_true - y_pred) / y_true)) * 100"
   ]
  },
  {
   "cell_type": "code",
   "execution_count": 9,
   "metadata": {},
   "outputs": [
    {
     "data": {
      "text/html": [
       "<div>\n",
       "<style scoped>\n",
       "    .dataframe tbody tr th:only-of-type {\n",
       "        vertical-align: middle;\n",
       "    }\n",
       "\n",
       "    .dataframe tbody tr th {\n",
       "        vertical-align: top;\n",
       "    }\n",
       "\n",
       "    .dataframe thead th {\n",
       "        text-align: right;\n",
       "    }\n",
       "</style>\n",
       "<table border=\"1\" class=\"dataframe\">\n",
       "  <thead>\n",
       "    <tr style=\"text-align: right;\">\n",
       "      <th></th>\n",
       "      <th>Feeder</th>\n",
       "    </tr>\n",
       "    <tr>\n",
       "      <th>ConsumptionDate</th>\n",
       "      <th></th>\n",
       "    </tr>\n",
       "  </thead>\n",
       "  <tbody>\n",
       "    <tr>\n",
       "      <td>2019-05-01</td>\n",
       "      <td>Feeder_1</td>\n",
       "    </tr>\n",
       "  </tbody>\n",
       "</table>\n",
       "</div>"
      ],
      "text/plain": [
       "                   Feeder\n",
       "ConsumptionDate          \n",
       "2019-05-01       Feeder_1"
      ]
     },
     "execution_count": 9,
     "metadata": {},
     "output_type": "execute_result"
    }
   ],
   "source": [
    "y_Result = test.copy()\n",
    "y_Result = y_Result.iloc[0:1]\n",
    "y_Result = y_Result.drop(['Revenue','Demand'], axis = 1)\n",
    "\n",
    "y_Result"
   ]
  },
  {
   "cell_type": "markdown",
   "metadata": {},
   "source": [
    "### Naive Approach"
   ]
  },
  {
   "cell_type": "code",
   "execution_count": 10,
   "metadata": {},
   "outputs": [],
   "source": [
    "dd= np.asarray(train.Demand)\n",
    "y_hat = test.copy()\n",
    "y_hat['naive'] = dd[len(dd)-1]\n"
   ]
  },
  {
   "cell_type": "code",
   "execution_count": 11,
   "metadata": {},
   "outputs": [
    {
     "data": {
      "text/plain": [
       "<Figure size 864x576 with 0 Axes>"
      ]
     },
     "execution_count": 11,
     "metadata": {},
     "output_type": "execute_result"
    },
    {
     "data": {
      "text/plain": [
       "[<matplotlib.lines.Line2D at 0x239d4bc3e88>]"
      ]
     },
     "execution_count": 11,
     "metadata": {},
     "output_type": "execute_result"
    },
    {
     "data": {
      "text/plain": [
       "[<matplotlib.lines.Line2D at 0x239d4befe08>]"
      ]
     },
     "execution_count": 11,
     "metadata": {},
     "output_type": "execute_result"
    },
    {
     "data": {
      "text/plain": [
       "[<matplotlib.lines.Line2D at 0x239d4bf6988>]"
      ]
     },
     "execution_count": 11,
     "metadata": {},
     "output_type": "execute_result"
    },
    {
     "data": {
      "text/plain": [
       "<matplotlib.legend.Legend at 0x239d4bf4c88>"
      ]
     },
     "execution_count": 11,
     "metadata": {},
     "output_type": "execute_result"
    },
    {
     "data": {
      "text/plain": [
       "Text(0.5, 1.0, 'Naive Forecast')"
      ]
     },
     "execution_count": 11,
     "metadata": {},
     "output_type": "execute_result"
    },
    {
     "data": {
      "image/png": "[encoded data removed]",
      "text/plain": [
       "<Figure size 864x576 with 1 Axes>"
      ]
     },
     "metadata": {
      "needs_background": "light"
     },
     "output_type": "display_data"
    }
   ],
   "source": [
    "plt.figure(figsize=(12,8))\n",
    "plt.plot(train.index, train['Demand'], label='Train')\n",
    "plt.plot(test.index,test['Demand'], label='Test')\n",
    "plt.plot(y_hat.index,y_hat['naive'], label='Naive Forecast')\n",
    "plt.legend(loc='best')\n",
    "plt.title(\"Naive Forecast\")\n",
    "plt.show()"
   ]
  },
  {
   "cell_type": "code",
   "execution_count": 12,
   "metadata": {},
   "outputs": [
    {
     "name": "stdout",
     "output_type": "stream",
     "text": [
      "ConsumptionDate\n",
      "2019-05-01    0.018418\n",
      "2019-06-01    0.003594\n",
      "dtype: float64\n",
      "RMSE with naive approach : \n"
     ]
    },
    {
     "data": {
      "text/html": [
       "<div>\n",
       "<style scoped>\n",
       "    .dataframe tbody tr th:only-of-type {\n",
       "        vertical-align: middle;\n",
       "    }\n",
       "\n",
       "    .dataframe tbody tr th {\n",
       "        vertical-align: top;\n",
       "    }\n",
       "\n",
       "    .dataframe thead th {\n",
       "        text-align: right;\n",
       "    }\n",
       "</style>\n",
       "<table border=\"1\" class=\"dataframe\">\n",
       "  <thead>\n",
       "    <tr style=\"text-align: right;\">\n",
       "      <th></th>\n",
       "      <th>Feeder</th>\n",
       "      <th>naive-MSE</th>\n",
       "      <th>naive-MAE</th>\n",
       "      <th>naive-MAPE</th>\n",
       "    </tr>\n",
       "    <tr>\n",
       "      <th>ConsumptionDate</th>\n",
       "      <th></th>\n",
       "      <th></th>\n",
       "      <th></th>\n",
       "      <th></th>\n",
       "    </tr>\n",
       "  </thead>\n",
       "  <tbody>\n",
       "    <tr>\n",
       "      <td>2019-05-01</td>\n",
       "      <td>Feeder_1</td>\n",
       "      <td>87677642.0</td>\n",
       "      <td>7781.0</td>\n",
       "      <td>1.100593</td>\n",
       "    </tr>\n",
       "  </tbody>\n",
       "</table>\n",
       "</div>"
      ],
      "text/plain": [
       "                   Feeder   naive-MSE  naive-MAE  naive-MAPE\n",
       "ConsumptionDate                                             \n",
       "2019-05-01       Feeder_1  87677642.0     7781.0    1.100593"
      ]
     },
     "execution_count": 12,
     "metadata": {},
     "output_type": "execute_result"
    }
   ],
   "source": [
    "y_Result['naive-MSE'] = mean_squared_error(test.Demand, y_hat.naive)\n",
    "y_Result['naive-MAE'] = mean_absolute_error(test.Demand, y_hat.naive)\n",
    "y_Result['naive-MAPE'] = mean_absolute_percentage_error(test.Demand, y_hat.naive)\n",
    "print('RMSE with naive approach : ')\n",
    "y_Result"
   ]
  },
  {
   "cell_type": "markdown",
   "metadata": {},
   "source": [
    "### Simple Average"
   ]
  },
  {
   "cell_type": "code",
   "execution_count": 13,
   "metadata": {},
   "outputs": [
    {
     "data": {
      "text/plain": [
       "<Figure size 864x576 with 0 Axes>"
      ]
     },
     "execution_count": 13,
     "metadata": {},
     "output_type": "execute_result"
    },
    {
     "data": {
      "text/plain": [
       "[<matplotlib.lines.Line2D at 0x239db7e6308>]"
      ]
     },
     "execution_count": 13,
     "metadata": {},
     "output_type": "execute_result"
    },
    {
     "data": {
      "text/plain": [
       "[<matplotlib.lines.Line2D at 0x239db7d8d08>]"
      ]
     },
     "execution_count": 13,
     "metadata": {},
     "output_type": "execute_result"
    },
    {
     "data": {
      "text/plain": [
       "[<matplotlib.lines.Line2D at 0x239db815388>]"
      ]
     },
     "execution_count": 13,
     "metadata": {},
     "output_type": "execute_result"
    },
    {
     "data": {
      "text/plain": [
       "<matplotlib.legend.Legend at 0x239db80df08>"
      ]
     },
     "execution_count": 13,
     "metadata": {},
     "output_type": "execute_result"
    },
    {
     "data": {
      "image/png": "[encoded data removed]",
      "text/plain": [
       "<Figure size 864x576 with 1 Axes>"
      ]
     },
     "metadata": {
      "needs_background": "light"
     },
     "output_type": "display_data"
    }
   ],
   "source": [
    "#y_hat = test.copy()\n",
    "y_hat['avg_forecast'] = train['Demand'].mean()\n",
    "plt.figure(figsize=(12,8))\n",
    "plt.plot(train['Demand'], label='Train')\n",
    "plt.plot(test['Demand'], label='Test')\n",
    "plt.plot(y_hat['avg_forecast'], label='Average Forecast')\n",
    "plt.legend(loc='best')\n",
    "plt.show()"
   ]
  },
  {
   "cell_type": "code",
   "execution_count": 14,
   "metadata": {},
   "outputs": [
    {
     "name": "stdout",
     "output_type": "stream",
     "text": [
      "ConsumptionDate\n",
      "2019-05-01    0.083237\n",
      "2019-06-01    0.096582\n",
      "dtype: float64\n"
     ]
    },
    {
     "data": {
      "text/plain": [
       "8.9909532333682"
      ]
     },
     "execution_count": 14,
     "metadata": {},
     "output_type": "execute_result"
    },
    {
     "name": "stdout",
     "output_type": "stream",
     "text": [
      "ConsumptionDate\n",
      "2019-05-01    0.083237\n",
      "2019-06-01    0.096582\n",
      "dtype: float64\n",
      "RMSE with Simple Average approach :  64126.53873312222\n"
     ]
    },
    {
     "data": {
      "text/html": [
       "<div>\n",
       "<style scoped>\n",
       "    .dataframe tbody tr th:only-of-type {\n",
       "        vertical-align: middle;\n",
       "    }\n",
       "\n",
       "    .dataframe tbody tr th {\n",
       "        vertical-align: top;\n",
       "    }\n",
       "\n",
       "    .dataframe thead th {\n",
       "        text-align: right;\n",
       "    }\n",
       "</style>\n",
       "<table border=\"1\" class=\"dataframe\">\n",
       "  <thead>\n",
       "    <tr style=\"text-align: right;\">\n",
       "      <th></th>\n",
       "      <th>Feeder</th>\n",
       "      <th>naive-MSE</th>\n",
       "      <th>naive-MAE</th>\n",
       "      <th>naive-MAPE</th>\n",
       "      <th>SimpeAvg-MSE</th>\n",
       "      <th>SimpeAvg-MAE</th>\n",
       "      <th>SimpeAvg-MAPE</th>\n",
       "    </tr>\n",
       "    <tr>\n",
       "      <th>ConsumptionDate</th>\n",
       "      <th></th>\n",
       "      <th></th>\n",
       "      <th></th>\n",
       "      <th></th>\n",
       "      <th></th>\n",
       "      <th></th>\n",
       "      <th></th>\n",
       "    </tr>\n",
       "  </thead>\n",
       "  <tbody>\n",
       "    <tr>\n",
       "      <td>2019-05-01</td>\n",
       "      <td>Feeder_1</td>\n",
       "      <td>87677642.0</td>\n",
       "      <td>7781.0</td>\n",
       "      <td>1.100593</td>\n",
       "      <td>4.112213e+09</td>\n",
       "      <td>63914.625</td>\n",
       "      <td>8.990953</td>\n",
       "    </tr>\n",
       "  </tbody>\n",
       "</table>\n",
       "</div>"
      ],
      "text/plain": [
       "                   Feeder   naive-MSE  naive-MAE  naive-MAPE  SimpeAvg-MSE  \\\n",
       "ConsumptionDate                                                              \n",
       "2019-05-01       Feeder_1  87677642.0     7781.0    1.100593  4.112213e+09   \n",
       "\n",
       "                 SimpeAvg-MAE  SimpeAvg-MAPE  \n",
       "ConsumptionDate                               \n",
       "2019-05-01          63914.625       8.990953  "
      ]
     },
     "execution_count": 14,
     "metadata": {},
     "output_type": "execute_result"
    }
   ],
   "source": [
    "rms = sqrt(mean_squared_error(test.Demand, y_hat.avg_forecast))\n",
    "mean_absolute_percentage_error(test.Demand, y_hat.avg_forecast)\n",
    "y_Result['SimpeAvg-MSE'] = mean_squared_error(test.Demand, y_hat.avg_forecast)\n",
    "y_Result['SimpeAvg-MAE'] = mean_absolute_error(test.Demand, y_hat.avg_forecast)\n",
    "y_Result['SimpeAvg-MAPE'] = mean_absolute_percentage_error(test.Demand, y_hat.avg_forecast)\n",
    "print('RMSE with Simple Average approach : ', rms)\n",
    "y_Result"
   ]
  },
  {
   "cell_type": "markdown",
   "metadata": {},
   "source": [
    "### Moving Average"
   ]
  },
  {
   "cell_type": "code",
   "execution_count": 15,
   "metadata": {},
   "outputs": [],
   "source": [
    "#y_hat = test.copy()\n",
    "y_hat['moving_avg_forecast'] = train['Demand'].rolling(3).mean().iloc[-1]"
   ]
  },
  {
   "cell_type": "code",
   "execution_count": 16,
   "metadata": {},
   "outputs": [
    {
     "data": {
      "text/html": [
       "<div>\n",
       "<style scoped>\n",
       "    .dataframe tbody tr th:only-of-type {\n",
       "        vertical-align: middle;\n",
       "    }\n",
       "\n",
       "    .dataframe tbody tr th {\n",
       "        vertical-align: top;\n",
       "    }\n",
       "\n",
       "    .dataframe thead th {\n",
       "        text-align: right;\n",
       "    }\n",
       "</style>\n",
       "<table border=\"1\" class=\"dataframe\">\n",
       "  <thead>\n",
       "    <tr style=\"text-align: right;\">\n",
       "      <th></th>\n",
       "      <th>Feeder</th>\n",
       "      <th>Demand</th>\n",
       "      <th>Revenue</th>\n",
       "      <th>naive</th>\n",
       "      <th>avg_forecast</th>\n",
       "      <th>moving_avg_forecast</th>\n",
       "    </tr>\n",
       "    <tr>\n",
       "      <th>ConsumptionDate</th>\n",
       "      <th></th>\n",
       "      <th></th>\n",
       "      <th></th>\n",
       "      <th></th>\n",
       "      <th></th>\n",
       "      <th></th>\n",
       "    </tr>\n",
       "  </thead>\n",
       "  <tbody>\n",
       "    <tr>\n",
       "      <td>2019-05-01</td>\n",
       "      <td>Feeder_1</td>\n",
       "      <td>705281.5</td>\n",
       "      <td>5566052.72</td>\n",
       "      <td>718271.5</td>\n",
       "      <td>646575.875</td>\n",
       "      <td>654048.166667</td>\n",
       "    </tr>\n",
       "    <tr>\n",
       "      <td>2019-06-01</td>\n",
       "      <td>Feeder_1</td>\n",
       "      <td>715699.5</td>\n",
       "      <td>6126206.23</td>\n",
       "      <td>718271.5</td>\n",
       "      <td>646575.875</td>\n",
       "      <td>654048.166667</td>\n",
       "    </tr>\n",
       "  </tbody>\n",
       "</table>\n",
       "</div>"
      ],
      "text/plain": [
       "                   Feeder    Demand     Revenue     naive  avg_forecast  \\\n",
       "ConsumptionDate                                                           \n",
       "2019-05-01       Feeder_1  705281.5  5566052.72  718271.5    646575.875   \n",
       "2019-06-01       Feeder_1  715699.5  6126206.23  718271.5    646575.875   \n",
       "\n",
       "                 moving_avg_forecast  \n",
       "ConsumptionDate                       \n",
       "2019-05-01             654048.166667  \n",
       "2019-06-01             654048.166667  "
      ]
     },
     "execution_count": 16,
     "metadata": {},
     "output_type": "execute_result"
    }
   ],
   "source": [
    "y_hat"
   ]
  },
  {
   "cell_type": "code",
   "execution_count": 17,
   "metadata": {},
   "outputs": [
    {
     "data": {
      "text/plain": [
       "<Figure size 1152x576 with 0 Axes>"
      ]
     },
     "execution_count": 17,
     "metadata": {},
     "output_type": "execute_result"
    },
    {
     "data": {
      "text/plain": [
       "[<matplotlib.lines.Line2D at 0x239d4bab908>]"
      ]
     },
     "execution_count": 17,
     "metadata": {},
     "output_type": "execute_result"
    },
    {
     "data": {
      "text/plain": [
       "[<matplotlib.lines.Line2D at 0x239dba4bdc8>]"
      ]
     },
     "execution_count": 17,
     "metadata": {},
     "output_type": "execute_result"
    },
    {
     "data": {
      "text/plain": [
       "[<matplotlib.lines.Line2D at 0x239db861688>]"
      ]
     },
     "execution_count": 17,
     "metadata": {},
     "output_type": "execute_result"
    },
    {
     "data": {
      "text/plain": [
       "<matplotlib.legend.Legend at 0x239db861608>"
      ]
     },
     "execution_count": 17,
     "metadata": {},
     "output_type": "execute_result"
    },
    {
     "data": {
      "image/png": "[encoded data removed]",
      "text/plain": [
       "<Figure size 1152x576 with 1 Axes>"
      ]
     },
     "metadata": {
      "needs_background": "light"
     },
     "output_type": "display_data"
    }
   ],
   "source": [
    "plt.figure(figsize=(16,8))\n",
    "plt.plot(train['Demand'], label='Train')\n",
    "plt.plot(test['Demand'], label='Test')\n",
    "plt.plot(y_hat['moving_avg_forecast'], label='Moving Average Forecast')\n",
    "plt.legend(loc='best')\n",
    "plt.show()"
   ]
  },
  {
   "cell_type": "code",
   "execution_count": 18,
   "metadata": {},
   "outputs": [
    {
     "name": "stdout",
     "output_type": "stream",
     "text": [
      "ConsumptionDate\n",
      "2019-05-01    0.072642\n",
      "2019-06-01    0.086141\n",
      "dtype: float64\n"
     ]
    },
    {
     "data": {
      "text/plain": [
       "7.939187821079077"
      ]
     },
     "execution_count": 18,
     "metadata": {},
     "output_type": "execute_result"
    },
    {
     "name": "stdout",
     "output_type": "stream",
     "text": [
      "RMSE with Moving Average approach :  56682.19008746147\n",
      "ConsumptionDate\n",
      "2019-05-01    0.072642\n",
      "2019-06-01    0.086141\n",
      "dtype: float64\n"
     ]
    },
    {
     "data": {
      "text/html": [
       "<div>\n",
       "<style scoped>\n",
       "    .dataframe tbody tr th:only-of-type {\n",
       "        vertical-align: middle;\n",
       "    }\n",
       "\n",
       "    .dataframe tbody tr th {\n",
       "        vertical-align: top;\n",
       "    }\n",
       "\n",
       "    .dataframe thead th {\n",
       "        text-align: right;\n",
       "    }\n",
       "</style>\n",
       "<table border=\"1\" class=\"dataframe\">\n",
       "  <thead>\n",
       "    <tr style=\"text-align: right;\">\n",
       "      <th></th>\n",
       "      <th>Feeder</th>\n",
       "      <th>naive-MSE</th>\n",
       "      <th>naive-MAE</th>\n",
       "      <th>naive-MAPE</th>\n",
       "      <th>SimpeAvg-MSE</th>\n",
       "      <th>SimpeAvg-MAE</th>\n",
       "      <th>SimpeAvg-MAPE</th>\n",
       "      <th>MovingAvg-MSE</th>\n",
       "      <th>MovingAvg-MAE</th>\n",
       "      <th>MovingAvg-MAPE</th>\n",
       "    </tr>\n",
       "    <tr>\n",
       "      <th>ConsumptionDate</th>\n",
       "      <th></th>\n",
       "      <th></th>\n",
       "      <th></th>\n",
       "      <th></th>\n",
       "      <th></th>\n",
       "      <th></th>\n",
       "      <th></th>\n",
       "      <th></th>\n",
       "      <th></th>\n",
       "      <th></th>\n",
       "    </tr>\n",
       "  </thead>\n",
       "  <tbody>\n",
       "    <tr>\n",
       "      <td>2019-05-01</td>\n",
       "      <td>Feeder_1</td>\n",
       "      <td>87677642.0</td>\n",
       "      <td>7781.0</td>\n",
       "      <td>1.100593</td>\n",
       "      <td>4.112213e+09</td>\n",
       "      <td>63914.625</td>\n",
       "      <td>8.990953</td>\n",
       "      <td>3.212871e+09</td>\n",
       "      <td>56442.333333</td>\n",
       "      <td>7.939188</td>\n",
       "    </tr>\n",
       "  </tbody>\n",
       "</table>\n",
       "</div>"
      ],
      "text/plain": [
       "                   Feeder   naive-MSE  naive-MAE  naive-MAPE  SimpeAvg-MSE  \\\n",
       "ConsumptionDate                                                              \n",
       "2019-05-01       Feeder_1  87677642.0     7781.0    1.100593  4.112213e+09   \n",
       "\n",
       "                 SimpeAvg-MAE  SimpeAvg-MAPE  MovingAvg-MSE  MovingAvg-MAE  \\\n",
       "ConsumptionDate                                                              \n",
       "2019-05-01          63914.625       8.990953   3.212871e+09   56442.333333   \n",
       "\n",
       "                 MovingAvg-MAPE  \n",
       "ConsumptionDate                  \n",
       "2019-05-01             7.939188  "
      ]
     },
     "execution_count": 18,
     "metadata": {},
     "output_type": "execute_result"
    }
   ],
   "source": [
    "rms = sqrt(mean_squared_error(test.Demand, y_hat.moving_avg_forecast))\n",
    "mean_absolute_percentage_error(test.Demand, y_hat.moving_avg_forecast)\n",
    "print('RMSE with Moving Average approach : ', rms)\n",
    "y_Result['MovingAvg-MSE'] = mean_squared_error(test.Demand, y_hat.moving_avg_forecast)\n",
    "y_Result['MovingAvg-MAE'] = mean_absolute_error(test.Demand, y_hat.moving_avg_forecast)\n",
    "y_Result['MovingAvg-MAPE'] = mean_absolute_percentage_error(test.Demand, y_hat.moving_avg_forecast)\n",
    "y_Result"
   ]
  },
  {
   "cell_type": "markdown",
   "metadata": {},
   "source": [
    "### Simple Exponential Smoothing"
   ]
  },
  {
   "cell_type": "code",
   "execution_count": 19,
   "metadata": {},
   "outputs": [
    {
     "data": {
      "text/plain": [
       "<Figure size 1152x576 with 0 Axes>"
      ]
     },
     "execution_count": 19,
     "metadata": {},
     "output_type": "execute_result"
    },
    {
     "data": {
      "text/plain": [
       "[<matplotlib.lines.Line2D at 0x239db8bcd48>]"
      ]
     },
     "execution_count": 19,
     "metadata": {},
     "output_type": "execute_result"
    },
    {
     "data": {
      "text/plain": [
       "[<matplotlib.lines.Line2D at 0x239db8ad3c8>]"
      ]
     },
     "execution_count": 19,
     "metadata": {},
     "output_type": "execute_result"
    },
    {
     "data": {
      "text/plain": [
       "[<matplotlib.lines.Line2D at 0x239db8e3f88>]"
      ]
     },
     "execution_count": 19,
     "metadata": {},
     "output_type": "execute_result"
    },
    {
     "data": {
      "text/plain": [
       "<matplotlib.legend.Legend at 0x239db8ebd88>"
      ]
     },
     "execution_count": 19,
     "metadata": {},
     "output_type": "execute_result"
    },
    {
     "data": {
      "image/png": "[encoded data removed]",
      "text/plain": [
       "<Figure size 1152x576 with 1 Axes>"
      ]
     },
     "metadata": {
      "needs_background": "light"
     },
     "output_type": "display_data"
    }
   ],
   "source": [
    "#y_hat_avg = test.copy()\n",
    "fit2 = SimpleExpSmoothing(np.asarray(train['Demand'])).fit(smoothing_level=0.6,optimized=False)\n",
    "y_hat['SES'] = fit2.forecast(len(test))\n",
    "plt.figure(figsize=(16,8))\n",
    "plt.plot(train['Demand'], label='Train')\n",
    "plt.plot(test['Demand'], label='Test')\n",
    "plt.plot(y_hat['SES'], label='SES')\n",
    "plt.legend(loc='best')\n",
    "plt.show()"
   ]
  },
  {
   "cell_type": "code",
   "execution_count": 20,
   "metadata": {},
   "outputs": [],
   "source": [
    "error = mean_absolute_error(test.Demand,  y_hat.SES)"
   ]
  },
  {
   "cell_type": "code",
   "execution_count": 21,
   "metadata": {},
   "outputs": [
    {
     "name": "stdout",
     "output_type": "stream",
     "text": [
      "ConsumptionDate\n",
      "2019-05-01    0.032793\n",
      "2019-06-01    0.046872\n",
      "dtype: float64\n"
     ]
    },
    {
     "data": {
      "text/plain": [
       "3.983271154969464"
      ]
     },
     "execution_count": 21,
     "metadata": {},
     "output_type": "execute_result"
    }
   ],
   "source": [
    "mean_absolute_percentage_error(test.Demand, y_hat.SES)"
   ]
  },
  {
   "cell_type": "code",
   "execution_count": 22,
   "metadata": {},
   "outputs": [
    {
     "name": "stdout",
     "output_type": "stream",
     "text": [
      "28812.215002575307\n"
     ]
    }
   ],
   "source": [
    "rms = sqrt(mean_squared_error(test.Demand, y_hat.SES))\n",
    "print(rms)"
   ]
  },
  {
   "cell_type": "code",
   "execution_count": 23,
   "metadata": {},
   "outputs": [
    {
     "name": "stdout",
     "output_type": "stream",
     "text": [
      "ConsumptionDate\n",
      "2019-05-01    0.032793\n",
      "2019-06-01    0.046872\n",
      "dtype: float64\n"
     ]
    },
    {
     "data": {
      "text/html": [
       "<div>\n",
       "<style scoped>\n",
       "    .dataframe tbody tr th:only-of-type {\n",
       "        vertical-align: middle;\n",
       "    }\n",
       "\n",
       "    .dataframe tbody tr th {\n",
       "        vertical-align: top;\n",
       "    }\n",
       "\n",
       "    .dataframe thead th {\n",
       "        text-align: right;\n",
       "    }\n",
       "</style>\n",
       "<table border=\"1\" class=\"dataframe\">\n",
       "  <thead>\n",
       "    <tr style=\"text-align: right;\">\n",
       "      <th></th>\n",
       "      <th>Feeder</th>\n",
       "      <th>naive-MSE</th>\n",
       "      <th>naive-MAE</th>\n",
       "      <th>naive-MAPE</th>\n",
       "      <th>SimpeAvg-MSE</th>\n",
       "      <th>SimpeAvg-MAE</th>\n",
       "      <th>SimpeAvg-MAPE</th>\n",
       "      <th>MovingAvg-MSE</th>\n",
       "      <th>MovingAvg-MAE</th>\n",
       "      <th>MovingAvg-MAPE</th>\n",
       "      <th>SES-MSE</th>\n",
       "      <th>SES-MAE</th>\n",
       "      <th>SES-MAPE</th>\n",
       "    </tr>\n",
       "    <tr>\n",
       "      <th>ConsumptionDate</th>\n",
       "      <th></th>\n",
       "      <th></th>\n",
       "      <th></th>\n",
       "      <th></th>\n",
       "      <th></th>\n",
       "      <th></th>\n",
       "      <th></th>\n",
       "      <th></th>\n",
       "      <th></th>\n",
       "      <th></th>\n",
       "      <th></th>\n",
       "      <th></th>\n",
       "      <th></th>\n",
       "    </tr>\n",
       "  </thead>\n",
       "  <tbody>\n",
       "    <tr>\n",
       "      <td>2019-05-01</td>\n",
       "      <td>Feeder_1</td>\n",
       "      <td>87677642.0</td>\n",
       "      <td>7781.0</td>\n",
       "      <td>1.100593</td>\n",
       "      <td>4.112213e+09</td>\n",
       "      <td>63914.625</td>\n",
       "      <td>8.990953</td>\n",
       "      <td>3.212871e+09</td>\n",
       "      <td>56442.333333</td>\n",
       "      <td>7.939188</td>\n",
       "      <td>8.301437e+08</td>\n",
       "      <td>28337.432</td>\n",
       "      <td>3.983271</td>\n",
       "    </tr>\n",
       "  </tbody>\n",
       "</table>\n",
       "</div>"
      ],
      "text/plain": [
       "                   Feeder   naive-MSE  naive-MAE  naive-MAPE  SimpeAvg-MSE  \\\n",
       "ConsumptionDate                                                              \n",
       "2019-05-01       Feeder_1  87677642.0     7781.0    1.100593  4.112213e+09   \n",
       "\n",
       "                 SimpeAvg-MAE  SimpeAvg-MAPE  MovingAvg-MSE  MovingAvg-MAE  \\\n",
       "ConsumptionDate                                                              \n",
       "2019-05-01          63914.625       8.990953   3.212871e+09   56442.333333   \n",
       "\n",
       "                 MovingAvg-MAPE       SES-MSE    SES-MAE  SES-MAPE  \n",
       "ConsumptionDate                                                     \n",
       "2019-05-01             7.939188  8.301437e+08  28337.432  3.983271  "
      ]
     },
     "execution_count": 23,
     "metadata": {},
     "output_type": "execute_result"
    }
   ],
   "source": [
    "y_Result['SES-MSE'] = mean_squared_error(test.Demand, y_hat.SES)\n",
    "y_Result['SES-MAE'] = mean_absolute_error(test.Demand, y_hat.SES)\n",
    "y_Result['SES-MAPE'] = mean_absolute_percentage_error(test.Demand, y_hat.SES)\n",
    "y_Result"
   ]
  },
  {
   "cell_type": "markdown",
   "metadata": {},
   "source": [
    "### Holt’s Linear Trend method"
   ]
  },
  {
   "cell_type": "code",
   "execution_count": 24,
   "metadata": {},
   "outputs": [
    {
     "data": {
      "text/plain": [
       "<Figure size 1440x720 with 0 Axes>"
      ]
     },
     "execution_count": 24,
     "metadata": {},
     "output_type": "execute_result"
    },
    {
     "data": {
      "image/png": "[encoded data removed]",
      "text/plain": [
       "<Figure size 432x288 with 4 Axes>"
      ]
     },
     "execution_count": 24,
     "metadata": {},
     "output_type": "execute_result"
    },
    {
     "data": {
      "text/plain": [
       "<Figure size 1440x720 with 0 Axes>"
      ]
     },
     "metadata": {},
     "output_type": "display_data"
    },
    {
     "data": {
      "image/png": "[encoded data removed]",
      "text/plain": [
       "<Figure size 432x288 with 4 Axes>"
      ]
     },
     "metadata": {
      "needs_background": "light"
     },
     "output_type": "display_data"
    }
   ],
   "source": [
    "plt.figure(figsize=(20,10))\n",
    "sm.tsa.seasonal_decompose(train.Demand,freq=3).plot()\n",
    "result = sm.tsa.stattools.adfuller(train.Demand)\n",
    "plt.show()"
   ]
  },
  {
   "cell_type": "code",
   "execution_count": 25,
   "metadata": {},
   "outputs": [
    {
     "data": {
      "text/plain": [
       "<Figure size 1152x576 with 0 Axes>"
      ]
     },
     "execution_count": 25,
     "metadata": {},
     "output_type": "execute_result"
    },
    {
     "data": {
      "text/plain": [
       "[<matplotlib.lines.Line2D at 0x239dbc81fc8>]"
      ]
     },
     "execution_count": 25,
     "metadata": {},
     "output_type": "execute_result"
    },
    {
     "data": {
      "text/plain": [
       "[<matplotlib.lines.Line2D at 0x239db918a08>]"
      ]
     },
     "execution_count": 25,
     "metadata": {},
     "output_type": "execute_result"
    },
    {
     "data": {
      "text/plain": [
       "[<matplotlib.lines.Line2D at 0x239dbca7688>]"
      ]
     },
     "execution_count": 25,
     "metadata": {},
     "output_type": "execute_result"
    },
    {
     "data": {
      "text/plain": [
       "<matplotlib.legend.Legend at 0x239dbc9ec88>"
      ]
     },
     "execution_count": 25,
     "metadata": {},
     "output_type": "execute_result"
    },
    {
     "data": {
      "image/png": "[encoded data removed]",
      "text/plain": [
       "<Figure size 1152x576 with 1 Axes>"
      ]
     },
     "metadata": {
      "needs_background": "light"
     },
     "output_type": "display_data"
    }
   ],
   "source": [
    "#y_hat_avg = test.copy()\n",
    "\n",
    "fit1 = Holt(np.asarray(train['Demand'])).fit(smoothing_level = 0.3,smoothing_slope = 0.1)\n",
    "y_hat['Holt_linear'] = fit1.forecast(len(test))\n",
    "\n",
    "plt.figure(figsize=(16,8))\n",
    "plt.plot(train['Demand'], label='Train')\n",
    "plt.plot(test['Demand'], label='Test')\n",
    "plt.plot(y_hat['Holt_linear'], label='Holt_linear')\n",
    "plt.legend(loc='best')\n",
    "plt.show()"
   ]
  },
  {
   "cell_type": "code",
   "execution_count": 26,
   "metadata": {},
   "outputs": [
    {
     "name": "stdout",
     "output_type": "stream",
     "text": [
      "ConsumptionDate\n",
      "2019-05-01    0.029037\n",
      "2019-06-01    0.057960\n",
      "dtype: float64\n"
     ]
    },
    {
     "data": {
      "text/plain": [
       "4.349873285208519"
      ]
     },
     "execution_count": 26,
     "metadata": {},
     "output_type": "execute_result"
    },
    {
     "name": "stdout",
     "output_type": "stream",
     "text": [
      "32712.164437625528\n"
     ]
    }
   ],
   "source": [
    "rms = sqrt(mean_squared_error(test.Demand, y_hat.Holt_linear))\n",
    "mean_absolute_percentage_error(test.Demand, y_hat.Holt_linear)\n",
    "print(rms)"
   ]
  },
  {
   "cell_type": "code",
   "execution_count": 27,
   "metadata": {},
   "outputs": [
    {
     "name": "stdout",
     "output_type": "stream",
     "text": [
      "ConsumptionDate\n",
      "2019-05-01    0.029037\n",
      "2019-06-01    0.057960\n",
      "dtype: float64\n"
     ]
    },
    {
     "data": {
      "text/html": [
       "<div>\n",
       "<style scoped>\n",
       "    .dataframe tbody tr th:only-of-type {\n",
       "        vertical-align: middle;\n",
       "    }\n",
       "\n",
       "    .dataframe tbody tr th {\n",
       "        vertical-align: top;\n",
       "    }\n",
       "\n",
       "    .dataframe thead th {\n",
       "        text-align: right;\n",
       "    }\n",
       "</style>\n",
       "<table border=\"1\" class=\"dataframe\">\n",
       "  <thead>\n",
       "    <tr style=\"text-align: right;\">\n",
       "      <th></th>\n",
       "      <th>Feeder</th>\n",
       "      <th>naive-MSE</th>\n",
       "      <th>naive-MAE</th>\n",
       "      <th>naive-MAPE</th>\n",
       "      <th>SimpeAvg-MSE</th>\n",
       "      <th>SimpeAvg-MAE</th>\n",
       "      <th>SimpeAvg-MAPE</th>\n",
       "      <th>MovingAvg-MSE</th>\n",
       "      <th>MovingAvg-MAE</th>\n",
       "      <th>MovingAvg-MAPE</th>\n",
       "      <th>SES-MSE</th>\n",
       "      <th>SES-MAE</th>\n",
       "      <th>SES-MAPE</th>\n",
       "      <th>Holt_linear-MSE</th>\n",
       "      <th>Holt_linear-MAE</th>\n",
       "      <th>Holt_linear-MAPE</th>\n",
       "    </tr>\n",
       "    <tr>\n",
       "      <th>ConsumptionDate</th>\n",
       "      <th></th>\n",
       "      <th></th>\n",
       "      <th></th>\n",
       "      <th></th>\n",
       "      <th></th>\n",
       "      <th></th>\n",
       "      <th></th>\n",
       "      <th></th>\n",
       "      <th></th>\n",
       "      <th></th>\n",
       "      <th></th>\n",
       "      <th></th>\n",
       "      <th></th>\n",
       "      <th></th>\n",
       "      <th></th>\n",
       "      <th></th>\n",
       "    </tr>\n",
       "  </thead>\n",
       "  <tbody>\n",
       "    <tr>\n",
       "      <td>2019-05-01</td>\n",
       "      <td>Feeder_1</td>\n",
       "      <td>87677642.0</td>\n",
       "      <td>7781.0</td>\n",
       "      <td>1.100593</td>\n",
       "      <td>4.112213e+09</td>\n",
       "      <td>63914.625</td>\n",
       "      <td>8.990953</td>\n",
       "      <td>3.212871e+09</td>\n",
       "      <td>56442.333333</td>\n",
       "      <td>7.939188</td>\n",
       "      <td>8.301437e+08</td>\n",
       "      <td>28337.432</td>\n",
       "      <td>3.983271</td>\n",
       "      <td>1.070086e+09</td>\n",
       "      <td>30980.766272</td>\n",
       "      <td>4.349873</td>\n",
       "    </tr>\n",
       "  </tbody>\n",
       "</table>\n",
       "</div>"
      ],
      "text/plain": [
       "                   Feeder   naive-MSE  naive-MAE  naive-MAPE  SimpeAvg-MSE  \\\n",
       "ConsumptionDate                                                              \n",
       "2019-05-01       Feeder_1  87677642.0     7781.0    1.100593  4.112213e+09   \n",
       "\n",
       "                 SimpeAvg-MAE  SimpeAvg-MAPE  MovingAvg-MSE  MovingAvg-MAE  \\\n",
       "ConsumptionDate                                                              \n",
       "2019-05-01          63914.625       8.990953   3.212871e+09   56442.333333   \n",
       "\n",
       "                 MovingAvg-MAPE       SES-MSE    SES-MAE  SES-MAPE  \\\n",
       "ConsumptionDate                                                      \n",
       "2019-05-01             7.939188  8.301437e+08  28337.432  3.983271   \n",
       "\n",
       "                 Holt_linear-MSE  Holt_linear-MAE  Holt_linear-MAPE  \n",
       "ConsumptionDate                                                      \n",
       "2019-05-01          1.070086e+09     30980.766272          4.349873  "
      ]
     },
     "execution_count": 27,
     "metadata": {},
     "output_type": "execute_result"
    }
   ],
   "source": [
    "y_Result['Holt_linear-MSE'] = mean_squared_error(test.Demand, y_hat.Holt_linear)\n",
    "y_Result['Holt_linear-MAE'] = mean_absolute_error(test.Demand, y_hat.Holt_linear)\n",
    "y_Result['Holt_linear-MAPE'] = mean_absolute_percentage_error(test.Demand, y_hat.Holt_linear)\n",
    "y_Result"
   ]
  },
  {
   "cell_type": "markdown",
   "metadata": {},
   "source": [
    "### Holt-Winters method"
   ]
  },
  {
   "cell_type": "code",
   "execution_count": 28,
   "metadata": {},
   "outputs": [
    {
     "data": {
      "text/plain": [
       "<Figure size 1152x576 with 0 Axes>"
      ]
     },
     "execution_count": 28,
     "metadata": {},
     "output_type": "execute_result"
    },
    {
     "data": {
      "text/plain": [
       "[<matplotlib.lines.Line2D at 0x239dbc48c08>]"
      ]
     },
     "execution_count": 28,
     "metadata": {},
     "output_type": "execute_result"
    },
    {
     "data": {
      "text/plain": [
       "[<matplotlib.lines.Line2D at 0x239db8a7ec8>]"
      ]
     },
     "execution_count": 28,
     "metadata": {},
     "output_type": "execute_result"
    },
    {
     "data": {
      "text/plain": [
       "[<matplotlib.lines.Line2D at 0x239dbd2db08>]"
      ]
     },
     "execution_count": 28,
     "metadata": {},
     "output_type": "execute_result"
    },
    {
     "data": {
      "text/plain": [
       "<matplotlib.legend.Legend at 0x239dbd2fe48>"
      ]
     },
     "execution_count": 28,
     "metadata": {},
     "output_type": "execute_result"
    },
    {
     "data": {
      "image/png": "[encoded data removed]",
      "text/plain": [
       "<Figure size 1152x576 with 1 Axes>"
      ]
     },
     "metadata": {
      "needs_background": "light"
     },
     "output_type": "display_data"
    }
   ],
   "source": [
    "#y_hat_avg = test.copy()\n",
    "fit1 = ExponentialSmoothing(np.asarray(train['Demand']) ,seasonal_periods=3 ,trend='add', seasonal='add',).fit()\n",
    "y_hat['Holt_Winter'] = fit1.forecast(len(test))\n",
    "plt.figure(figsize=(16,8))\n",
    "plt.plot( train['Demand'], label='Train')\n",
    "plt.plot(test['Demand'], label='Test')\n",
    "plt.plot(y_hat['Holt_Winter'], label='Holt_Winter')\n",
    "plt.legend(loc='best')\n",
    "plt.show()"
   ]
  },
  {
   "cell_type": "code",
   "execution_count": 29,
   "metadata": {},
   "outputs": [
    {
     "name": "stdout",
     "output_type": "stream",
     "text": [
      "ConsumptionDate\n",
      "2019-05-01    0.018196\n",
      "2019-06-01    0.005358\n",
      "dtype: float64\n"
     ]
    },
    {
     "data": {
      "text/plain": [
       "1.177687303291848"
      ]
     },
     "execution_count": 29,
     "metadata": {},
     "output_type": "execute_result"
    },
    {
     "name": "stdout",
     "output_type": "stream",
     "text": [
      "9470.791581410595\n"
     ]
    }
   ],
   "source": [
    "rms = sqrt(mean_squared_error(test.Demand, y_hat.Holt_Winter))\n",
    "mean_absolute_percentage_error(test.Demand, y_hat.Holt_Winter)\n",
    "print(rms)"
   ]
  },
  {
   "cell_type": "code",
   "execution_count": 30,
   "metadata": {},
   "outputs": [
    {
     "name": "stdout",
     "output_type": "stream",
     "text": [
      "ConsumptionDate\n",
      "2019-05-01    0.018196\n",
      "2019-06-01    0.005358\n",
      "dtype: float64\n"
     ]
    },
    {
     "data": {
      "text/html": [
       "<div>\n",
       "<style scoped>\n",
       "    .dataframe tbody tr th:only-of-type {\n",
       "        vertical-align: middle;\n",
       "    }\n",
       "\n",
       "    .dataframe tbody tr th {\n",
       "        vertical-align: top;\n",
       "    }\n",
       "\n",
       "    .dataframe thead th {\n",
       "        text-align: right;\n",
       "    }\n",
       "</style>\n",
       "<table border=\"1\" class=\"dataframe\">\n",
       "  <thead>\n",
       "    <tr style=\"text-align: right;\">\n",
       "      <th></th>\n",
       "      <th>Feeder</th>\n",
       "      <th>naive-MSE</th>\n",
       "      <th>naive-MAE</th>\n",
       "      <th>naive-MAPE</th>\n",
       "      <th>SimpeAvg-MSE</th>\n",
       "      <th>SimpeAvg-MAE</th>\n",
       "      <th>SimpeAvg-MAPE</th>\n",
       "      <th>MovingAvg-MSE</th>\n",
       "      <th>MovingAvg-MAE</th>\n",
       "      <th>MovingAvg-MAPE</th>\n",
       "      <th>SES-MSE</th>\n",
       "      <th>SES-MAE</th>\n",
       "      <th>SES-MAPE</th>\n",
       "      <th>Holt_linear-MSE</th>\n",
       "      <th>Holt_linear-MAE</th>\n",
       "      <th>Holt_linear-MAPE</th>\n",
       "      <th>Holt_Winter-MSE</th>\n",
       "      <th>Holt_Winter-MAE</th>\n",
       "      <th>Holt_Winter-MAPE</th>\n",
       "    </tr>\n",
       "    <tr>\n",
       "      <th>ConsumptionDate</th>\n",
       "      <th></th>\n",
       "      <th></th>\n",
       "      <th></th>\n",
       "      <th></th>\n",
       "      <th></th>\n",
       "      <th></th>\n",
       "      <th></th>\n",
       "      <th></th>\n",
       "      <th></th>\n",
       "      <th></th>\n",
       "      <th></th>\n",
       "      <th></th>\n",
       "      <th></th>\n",
       "      <th></th>\n",
       "      <th></th>\n",
       "      <th></th>\n",
       "      <th></th>\n",
       "      <th></th>\n",
       "      <th></th>\n",
       "    </tr>\n",
       "  </thead>\n",
       "  <tbody>\n",
       "    <tr>\n",
       "      <td>2019-05-01</td>\n",
       "      <td>Feeder_1</td>\n",
       "      <td>87677642.0</td>\n",
       "      <td>7781.0</td>\n",
       "      <td>1.100593</td>\n",
       "      <td>4.112213e+09</td>\n",
       "      <td>63914.625</td>\n",
       "      <td>8.990953</td>\n",
       "      <td>3.212871e+09</td>\n",
       "      <td>56442.333333</td>\n",
       "      <td>7.939188</td>\n",
       "      <td>8.301437e+08</td>\n",
       "      <td>28337.432</td>\n",
       "      <td>3.983271</td>\n",
       "      <td>1.070086e+09</td>\n",
       "      <td>30980.766272</td>\n",
       "      <td>4.349873</td>\n",
       "      <td>8.969589e+07</td>\n",
       "      <td>8333.921459</td>\n",
       "      <td>1.177687</td>\n",
       "    </tr>\n",
       "  </tbody>\n",
       "</table>\n",
       "</div>"
      ],
      "text/plain": [
       "                   Feeder   naive-MSE  naive-MAE  naive-MAPE  SimpeAvg-MSE  \\\n",
       "ConsumptionDate                                                              \n",
       "2019-05-01       Feeder_1  87677642.0     7781.0    1.100593  4.112213e+09   \n",
       "\n",
       "                 SimpeAvg-MAE  SimpeAvg-MAPE  MovingAvg-MSE  MovingAvg-MAE  \\\n",
       "ConsumptionDate                                                              \n",
       "2019-05-01          63914.625       8.990953   3.212871e+09   56442.333333   \n",
       "\n",
       "                 MovingAvg-MAPE       SES-MSE    SES-MAE  SES-MAPE  \\\n",
       "ConsumptionDate                                                      \n",
       "2019-05-01             7.939188  8.301437e+08  28337.432  3.983271   \n",
       "\n",
       "                 Holt_linear-MSE  Holt_linear-MAE  Holt_linear-MAPE  \\\n",
       "ConsumptionDate                                                       \n",
       "2019-05-01          1.070086e+09     30980.766272          4.349873   \n",
       "\n",
       "                 Holt_Winter-MSE  Holt_Winter-MAE  Holt_Winter-MAPE  \n",
       "ConsumptionDate                                                      \n",
       "2019-05-01          8.969589e+07      8333.921459          1.177687  "
      ]
     },
     "execution_count": 30,
     "metadata": {},
     "output_type": "execute_result"
    }
   ],
   "source": [
    "y_Result['Holt_Winter-MSE'] = mean_squared_error(test.Demand, y_hat.Holt_Winter)\n",
    "y_Result['Holt_Winter-MAE'] = mean_absolute_error(test.Demand, y_hat.Holt_Winter)\n",
    "y_Result['Holt_Winter-MAPE'] = mean_absolute_percentage_error(test.Demand, y_hat.Holt_Winter)\n",
    "y_Result"
   ]
  },
  {
   "cell_type": "markdown",
   "metadata": {},
   "source": [
    "### ARIMA method"
   ]
  },
  {
   "cell_type": "code",
   "execution_count": 31,
   "metadata": {},
   "outputs": [
    {
     "name": "stderr",
     "output_type": "stream",
     "text": [
      "C:\\Users\\kiran\\Anaconda3\\envs\\TimeSeries\\lib\\site-packages\\statsmodels\\tsa\\base\\tsa_model.py:165: ValueWarning: No frequency information was provided, so inferred frequency MS will be used.\n",
      "  % freq, ValueWarning)\n"
     ]
    }
   ],
   "source": [
    "#y_hat = test.copy()\n",
    "fit1 = sm.tsa.statespace.SARIMAX(train.Demand, order=(0, 0, 0)).fit()\n",
    "y_hat['SARIMA'] = fit1.predict(start=\"2019-5-1\", end=\"2019-6-1\", dynamic=True)"
   ]
  },
  {
   "cell_type": "code",
   "execution_count": 32,
   "metadata": {},
   "outputs": [
    {
     "data": {
      "text/html": [
       "<div>\n",
       "<style scoped>\n",
       "    .dataframe tbody tr th:only-of-type {\n",
       "        vertical-align: middle;\n",
       "    }\n",
       "\n",
       "    .dataframe tbody tr th {\n",
       "        vertical-align: top;\n",
       "    }\n",
       "\n",
       "    .dataframe thead th {\n",
       "        text-align: right;\n",
       "    }\n",
       "</style>\n",
       "<table border=\"1\" class=\"dataframe\">\n",
       "  <thead>\n",
       "    <tr style=\"text-align: right;\">\n",
       "      <th></th>\n",
       "      <th>Feeder</th>\n",
       "      <th>Demand</th>\n",
       "      <th>Revenue</th>\n",
       "      <th>naive</th>\n",
       "      <th>avg_forecast</th>\n",
       "      <th>moving_avg_forecast</th>\n",
       "      <th>SES</th>\n",
       "      <th>Holt_linear</th>\n",
       "      <th>Holt_Winter</th>\n",
       "      <th>SARIMA</th>\n",
       "    </tr>\n",
       "    <tr>\n",
       "      <th>ConsumptionDate</th>\n",
       "      <th></th>\n",
       "      <th></th>\n",
       "      <th></th>\n",
       "      <th></th>\n",
       "      <th></th>\n",
       "      <th></th>\n",
       "      <th></th>\n",
       "      <th></th>\n",
       "      <th></th>\n",
       "      <th></th>\n",
       "    </tr>\n",
       "  </thead>\n",
       "  <tbody>\n",
       "    <tr>\n",
       "      <td>2019-05-01</td>\n",
       "      <td>Feeder_1</td>\n",
       "      <td>705281.5</td>\n",
       "      <td>5566052.72</td>\n",
       "      <td>718271.5</td>\n",
       "      <td>646575.875</td>\n",
       "      <td>654048.166667</td>\n",
       "      <td>682153.068</td>\n",
       "      <td>725760.941432</td>\n",
       "      <td>692448.506827</td>\n",
       "      <td>0.0</td>\n",
       "    </tr>\n",
       "    <tr>\n",
       "      <td>2019-06-01</td>\n",
       "      <td>Feeder_1</td>\n",
       "      <td>715699.5</td>\n",
       "      <td>6126206.23</td>\n",
       "      <td>718271.5</td>\n",
       "      <td>646575.875</td>\n",
       "      <td>654048.166667</td>\n",
       "      <td>682153.068</td>\n",
       "      <td>757181.591112</td>\n",
       "      <td>719534.349746</td>\n",
       "      <td>0.0</td>\n",
       "    </tr>\n",
       "  </tbody>\n",
       "</table>\n",
       "</div>"
      ],
      "text/plain": [
       "                   Feeder    Demand     Revenue     naive  avg_forecast  \\\n",
       "ConsumptionDate                                                           \n",
       "2019-05-01       Feeder_1  705281.5  5566052.72  718271.5    646575.875   \n",
       "2019-06-01       Feeder_1  715699.5  6126206.23  718271.5    646575.875   \n",
       "\n",
       "                 moving_avg_forecast         SES    Holt_linear  \\\n",
       "ConsumptionDate                                                   \n",
       "2019-05-01             654048.166667  682153.068  725760.941432   \n",
       "2019-06-01             654048.166667  682153.068  757181.591112   \n",
       "\n",
       "                   Holt_Winter  SARIMA  \n",
       "ConsumptionDate                         \n",
       "2019-05-01       692448.506827     0.0  \n",
       "2019-06-01       719534.349746     0.0  "
      ]
     },
     "execution_count": 32,
     "metadata": {},
     "output_type": "execute_result"
    }
   ],
   "source": [
    "y_hat"
   ]
  },
  {
   "cell_type": "code",
   "execution_count": 33,
   "metadata": {},
   "outputs": [
    {
     "data": {
      "text/plain": [
       "<Figure size 1152x576 with 0 Axes>"
      ]
     },
     "execution_count": 33,
     "metadata": {},
     "output_type": "execute_result"
    },
    {
     "data": {
      "text/plain": [
       "[<matplotlib.lines.Line2D at 0x239dbdb5348>]"
      ]
     },
     "execution_count": 33,
     "metadata": {},
     "output_type": "execute_result"
    },
    {
     "data": {
      "text/plain": [
       "[<matplotlib.lines.Line2D at 0x239dbd7ae88>]"
      ]
     },
     "execution_count": 33,
     "metadata": {},
     "output_type": "execute_result"
    },
    {
     "data": {
      "text/plain": [
       "[<matplotlib.lines.Line2D at 0x239dbde1388>]"
      ]
     },
     "execution_count": 33,
     "metadata": {},
     "output_type": "execute_result"
    },
    {
     "data": {
      "text/plain": [
       "<matplotlib.legend.Legend at 0x239dbde3288>"
      ]
     },
     "execution_count": 33,
     "metadata": {},
     "output_type": "execute_result"
    },
    {
     "data": {
      "image/png": "[encoded data removed]",
      "text/plain": [
       "<Figure size 1152x576 with 1 Axes>"
      ]
     },
     "metadata": {
      "needs_background": "light"
     },
     "output_type": "display_data"
    }
   ],
   "source": [
    "plt.figure(figsize=(16,8))\n",
    "plt.plot( train['Demand'], label='Train')\n",
    "plt.plot(test['Demand'], label='Test')\n",
    "plt.plot(y_hat['SARIMA'], label='SARIMA')\n",
    "plt.legend(loc='best')\n",
    "plt.show()"
   ]
  },
  {
   "cell_type": "code",
   "execution_count": 34,
   "metadata": {},
   "outputs": [
    {
     "name": "stdout",
     "output_type": "stream",
     "text": [
      "ConsumptionDate\n",
      "2019-05-01    1.0\n",
      "2019-06-01    1.0\n",
      "dtype: float64\n"
     ]
    },
    {
     "data": {
      "text/plain": [
       "100.0"
      ]
     },
     "execution_count": 34,
     "metadata": {},
     "output_type": "execute_result"
    },
    {
     "name": "stdout",
     "output_type": "stream",
     "text": [
      "710509.5947777553\n"
     ]
    }
   ],
   "source": [
    "rms = sqrt(mean_squared_error(test.Demand, y_hat.SARIMA))\n",
    "\n",
    "mean_absolute_percentage_error(test.Demand, y_hat.SARIMA)\n",
    "print(rms)"
   ]
  },
  {
   "cell_type": "code",
   "execution_count": 35,
   "metadata": {},
   "outputs": [
    {
     "name": "stdout",
     "output_type": "stream",
     "text": [
      "ConsumptionDate\n",
      "2019-05-01    1.0\n",
      "2019-06-01    1.0\n",
      "dtype: float64\n"
     ]
    },
    {
     "data": {
      "text/html": [
       "<div>\n",
       "<style scoped>\n",
       "    .dataframe tbody tr th:only-of-type {\n",
       "        vertical-align: middle;\n",
       "    }\n",
       "\n",
       "    .dataframe tbody tr th {\n",
       "        vertical-align: top;\n",
       "    }\n",
       "\n",
       "    .dataframe thead th {\n",
       "        text-align: right;\n",
       "    }\n",
       "</style>\n",
       "<table border=\"1\" class=\"dataframe\">\n",
       "  <thead>\n",
       "    <tr style=\"text-align: right;\">\n",
       "      <th></th>\n",
       "      <th>Feeder</th>\n",
       "      <th>naive-MSE</th>\n",
       "      <th>naive-MAE</th>\n",
       "      <th>naive-MAPE</th>\n",
       "      <th>SimpeAvg-MSE</th>\n",
       "      <th>SimpeAvg-MAE</th>\n",
       "      <th>SimpeAvg-MAPE</th>\n",
       "      <th>MovingAvg-MSE</th>\n",
       "      <th>MovingAvg-MAE</th>\n",
       "      <th>MovingAvg-MAPE</th>\n",
       "      <th>...</th>\n",
       "      <th>SES-MAPE</th>\n",
       "      <th>Holt_linear-MSE</th>\n",
       "      <th>Holt_linear-MAE</th>\n",
       "      <th>Holt_linear-MAPE</th>\n",
       "      <th>Holt_Winter-MSE</th>\n",
       "      <th>Holt_Winter-MAE</th>\n",
       "      <th>Holt_Winter-MAPE</th>\n",
       "      <th>SARIMA-MSE</th>\n",
       "      <th>SARIMA-MAE</th>\n",
       "      <th>SARIMA-MAPE</th>\n",
       "    </tr>\n",
       "    <tr>\n",
       "      <th>ConsumptionDate</th>\n",
       "      <th></th>\n",
       "      <th></th>\n",
       "      <th></th>\n",
       "      <th></th>\n",
       "      <th></th>\n",
       "      <th></th>\n",
       "      <th></th>\n",
       "      <th></th>\n",
       "      <th></th>\n",
       "      <th></th>\n",
       "      <th></th>\n",
       "      <th></th>\n",
       "      <th></th>\n",
       "      <th></th>\n",
       "      <th></th>\n",
       "      <th></th>\n",
       "      <th></th>\n",
       "      <th></th>\n",
       "      <th></th>\n",
       "      <th></th>\n",
       "      <th></th>\n",
       "    </tr>\n",
       "  </thead>\n",
       "  <tbody>\n",
       "    <tr>\n",
       "      <td>2019-05-01</td>\n",
       "      <td>Feeder_1</td>\n",
       "      <td>87677642.0</td>\n",
       "      <td>7781.0</td>\n",
       "      <td>1.100593</td>\n",
       "      <td>4.112213e+09</td>\n",
       "      <td>63914.625</td>\n",
       "      <td>8.990953</td>\n",
       "      <td>3.212871e+09</td>\n",
       "      <td>56442.333333</td>\n",
       "      <td>7.939188</td>\n",
       "      <td>...</td>\n",
       "      <td>3.983271</td>\n",
       "      <td>1.070086e+09</td>\n",
       "      <td>30980.766272</td>\n",
       "      <td>4.349873</td>\n",
       "      <td>8.969589e+07</td>\n",
       "      <td>8333.921459</td>\n",
       "      <td>1.177687</td>\n",
       "      <td>5.048239e+11</td>\n",
       "      <td>710490.5</td>\n",
       "      <td>100.0</td>\n",
       "    </tr>\n",
       "  </tbody>\n",
       "</table>\n",
       "<p>1 rows × 22 columns</p>\n",
       "</div>"
      ],
      "text/plain": [
       "                   Feeder   naive-MSE  naive-MAE  naive-MAPE  SimpeAvg-MSE  \\\n",
       "ConsumptionDate                                                              \n",
       "2019-05-01       Feeder_1  87677642.0     7781.0    1.100593  4.112213e+09   \n",
       "\n",
       "                 SimpeAvg-MAE  SimpeAvg-MAPE  MovingAvg-MSE  MovingAvg-MAE  \\\n",
       "ConsumptionDate                                                              \n",
       "2019-05-01          63914.625       8.990953   3.212871e+09   56442.333333   \n",
       "\n",
       "                 MovingAvg-MAPE  ...  SES-MAPE  Holt_linear-MSE  \\\n",
       "ConsumptionDate                  ...                              \n",
       "2019-05-01             7.939188  ...  3.983271     1.070086e+09   \n",
       "\n",
       "                 Holt_linear-MAE  Holt_linear-MAPE  Holt_Winter-MSE  \\\n",
       "ConsumptionDate                                                       \n",
       "2019-05-01          30980.766272          4.349873     8.969589e+07   \n",
       "\n",
       "                 Holt_Winter-MAE  Holt_Winter-MAPE    SARIMA-MSE  SARIMA-MAE  \\\n",
       "ConsumptionDate                                                                \n",
       "2019-05-01           8333.921459          1.177687  5.048239e+11    710490.5   \n",
       "\n",
       "                 SARIMA-MAPE  \n",
       "ConsumptionDate               \n",
       "2019-05-01             100.0  \n",
       "\n",
       "[1 rows x 22 columns]"
      ]
     },
     "execution_count": 35,
     "metadata": {},
     "output_type": "execute_result"
    }
   ],
   "source": [
    "y_Result['SARIMA-MSE'] = mean_squared_error(test.Demand, y_hat.SARIMA)\n",
    "y_Result['SARIMA-MAE'] = mean_absolute_error(test.Demand, y_hat.SARIMA)\n",
    "y_Result['SARIMA-MAPE'] = mean_absolute_percentage_error(test.Demand, y_hat.SARIMA)\n",
    "y_Result"
   ]
  },
  {
   "cell_type": "markdown",
   "metadata": {},
   "source": [
    "### Auto ARIMA method"
   ]
  },
  {
   "cell_type": "code",
   "execution_count": 36,
   "metadata": {},
   "outputs": [
    {
     "name": "stderr",
     "output_type": "stream",
     "text": [
      "C:\\Users\\kiran\\Anaconda3\\envs\\TimeSeries\\lib\\site-packages\\sklearn\\externals\\six.py:31: DeprecationWarning: The module is deprecated in version 0.21 and will be removed in version 0.23 since we've dropped support for Python 2.7. Please rely on the official version of six (https://pypi.org/project/six/).\n",
      "  \"(https://pypi.org/project/six/).\", DeprecationWarning)\n",
      "C:\\Users\\kiran\\Anaconda3\\envs\\TimeSeries\\lib\\site-packages\\sklearn\\externals\\joblib\\__init__.py:15: DeprecationWarning: sklearn.externals.joblib is deprecated in 0.21 and will be removed in 0.23. Please import this functionality directly from joblib, which can be installed with: pip install joblib. If this warning is raised when loading pickled models, you may need to re-serialize those models with scikit-learn 0.21+.\n",
      "  warnings.warn(msg, category=DeprecationWarning)\n"
     ]
    }
   ],
   "source": [
    "import pmdarima as pm"
   ]
  },
  {
   "cell_type": "code",
   "execution_count": 37,
   "metadata": {},
   "outputs": [
    {
     "name": "stderr",
     "output_type": "stream",
     "text": [
      "C:\\Users\\kiran\\Anaconda3\\envs\\TimeSeries\\lib\\site-packages\\statsmodels\\tsa\\ar_model.py:763: RuntimeWarning: divide by zero encountered in log\n",
      "  return np.log(self.sigma2) + (1 + self.df_model) * np.log(nobs)/nobs\n",
      "C:\\Users\\kiran\\Anaconda3\\envs\\TimeSeries\\lib\\site-packages\\pmdarima\\arima\\_auto_solvers.py:207: ModelFitWarning: Unable to fit ARIMA for order=(1, 0, 1); data is likely non-stationary. (if you do not want to see these warnings, run with error_action=\"ignore\")\n",
      "  ModelFitWarning)\n",
      "C:\\Users\\kiran\\Anaconda3\\envs\\TimeSeries\\lib\\site-packages\\statsmodels\\tsa\\tsatools.py:695: RuntimeWarning: divide by zero encountered in log\n",
      "  invmacoefs = -np.log((1-macoefs)/(1+macoefs))\n",
      "C:\\Users\\kiran\\Anaconda3\\envs\\TimeSeries\\lib\\site-packages\\statsmodels\\tools\\numdiff.py:243: RuntimeWarning: invalid value encountered in subtract\n",
      "  **kwargs)).imag/2./hess[i, j]\n",
      "C:\\Users\\kiran\\Anaconda3\\envs\\TimeSeries\\lib\\site-packages\\statsmodels\\tsa\\tsatools.py:668: RuntimeWarning: invalid value encountered in true_divide\n",
      "  newparams = ((1-np.exp(-params))/(1+np.exp(-params))).copy()\n",
      "C:\\Users\\kiran\\Anaconda3\\envs\\TimeSeries\\lib\\site-packages\\statsmodels\\tsa\\tsatools.py:669: RuntimeWarning: invalid value encountered in true_divide\n",
      "  tmp = ((1-np.exp(-params))/(1+np.exp(-params))).copy()\n",
      "C:\\Users\\kiran\\Anaconda3\\envs\\TimeSeries\\lib\\site-packages\\statsmodels\\tsa\\kalmanf\\kalmanfilter.py:225: RuntimeWarning: invalid value encountered in log\n",
      "  Z_mat.astype(complex), R_mat, T_mat)\n",
      "C:\\Users\\kiran\\Anaconda3\\envs\\TimeSeries\\lib\\site-packages\\statsmodels\\tsa\\kalmanf\\kalmanfilter.py:225: RuntimeWarning: invalid value encountered in true_divide\n",
      "  Z_mat.astype(complex), R_mat, T_mat)\n",
      "C:\\Users\\kiran\\Anaconda3\\envs\\TimeSeries\\lib\\site-packages\\statsmodels\\tools\\numdiff.py:243: RuntimeWarning: invalid value encountered in multiply\n",
      "  **kwargs)).imag/2./hess[i, j]\n",
      "C:\\Users\\kiran\\Anaconda3\\envs\\TimeSeries\\lib\\site-packages\\statsmodels\\base\\model.py:492: HessianInversionWarning: Inverting hessian failed, no bse or cov_params available\n",
      "  'available', HessianInversionWarning)\n",
      "C:\\Users\\kiran\\Anaconda3\\envs\\TimeSeries\\lib\\site-packages\\statsmodels\\base\\model.py:512: ConvergenceWarning: Maximum Likelihood optimization failed to converge. Check mle_retvals\n",
      "  \"Check mle_retvals\", ConvergenceWarning)\n"
     ]
    }
   ],
   "source": [
    "# Fit your model\n",
    "model = pm.auto_arima(train.Demand, seasonal=False)"
   ]
  },
  {
   "cell_type": "code",
   "execution_count": 38,
   "metadata": {},
   "outputs": [
    {
     "data": {
      "text/plain": [
       "2"
      ]
     },
     "execution_count": 38,
     "metadata": {},
     "output_type": "execute_result"
    }
   ],
   "source": [
    "# make your forecasts\n",
    "test.shape[0]"
   ]
  },
  {
   "cell_type": "code",
   "execution_count": 39,
   "metadata": {},
   "outputs": [],
   "source": [
    "forecasts = model.predict(test.shape[0])  # predict N steps into the future"
   ]
  },
  {
   "cell_type": "code",
   "execution_count": 40,
   "metadata": {},
   "outputs": [
    {
     "data": {
      "text/plain": [
       "array([0, 1, 2, 3, 4])"
      ]
     },
     "execution_count": 40,
     "metadata": {},
     "output_type": "execute_result"
    }
   ],
   "source": [
    "# Visualize the forecasts (blue=train, green=forecasts)\n",
    "x = np.arange(dfFeederData.shape[0]-1)\n",
    "x"
   ]
  },
  {
   "cell_type": "code",
   "execution_count": 41,
   "metadata": {},
   "outputs": [],
   "source": [
    "forecasts = pd.DataFrame(forecasts,index = test.index,columns=['Prediction'])\n",
    "y_hat['AutoARIMA'] = forecasts"
   ]
  },
  {
   "cell_type": "code",
   "execution_count": 42,
   "metadata": {},
   "outputs": [
    {
     "data": {
      "text/plain": [
       "<Figure size 1440x720 with 0 Axes>"
      ]
     },
     "execution_count": 42,
     "metadata": {},
     "output_type": "execute_result"
    },
    {
     "data": {
      "text/plain": [
       "<matplotlib.axes._subplots.AxesSubplot at 0x239dd7c3d48>"
      ]
     },
     "execution_count": 42,
     "metadata": {},
     "output_type": "execute_result"
    },
    {
     "data": {
      "text/plain": [
       "<matplotlib.axes._subplots.AxesSubplot at 0x239dd81e7c8>"
      ]
     },
     "execution_count": 42,
     "metadata": {},
     "output_type": "execute_result"
    },
    {
     "data": {
      "text/plain": [
       "<Figure size 1440x720 with 0 Axes>"
      ]
     },
     "metadata": {},
     "output_type": "display_data"
    },
    {
     "data": {
      "image/png": "[encoded data removed]",
      "text/plain": [
       "<Figure size 432x288 with 1 Axes>"
      ]
     },
     "metadata": {
      "needs_background": "light"
     },
     "output_type": "display_data"
    },
    {
     "data": {
      "image/png": "[encoded data removed]",
      "text/plain": [
       "<Figure size 432x288 with 1 Axes>"
      ]
     },
     "metadata": {
      "needs_background": "light"
     },
     "output_type": "display_data"
    }
   ],
   "source": [
    "#plt.plot(test.Demand, c='blue')\n",
    "#plt.plot(forecasts, c='green')\n",
    "plt.figure(figsize = (20,10))\n",
    "pd.DataFrame(test.Demand).plot()\n",
    "pd.DataFrame(forecasts).plot()\n",
    "plt.show()"
   ]
  },
  {
   "cell_type": "code",
   "execution_count": 43,
   "metadata": {},
   "outputs": [
    {
     "name": "stdout",
     "output_type": "stream",
     "text": [
      "ConsumptionDate\n",
      "2019-05-01    0.083237\n",
      "2019-06-01    0.096582\n",
      "dtype: float64\n"
     ]
    },
    {
     "data": {
      "text/plain": [
       "8.9909532333682"
      ]
     },
     "execution_count": 43,
     "metadata": {},
     "output_type": "execute_result"
    },
    {
     "data": {
      "text/plain": [
       "64126.53873312222"
      ]
     },
     "execution_count": 43,
     "metadata": {},
     "output_type": "execute_result"
    }
   ],
   "source": [
    "rms=np.sqrt(np.mean(np.power((np.array(test.Demand)-np.array(forecasts['Prediction'])),2)))\n",
    "mean_absolute_percentage_error(test.Demand, forecasts['Prediction'])\n",
    "rms"
   ]
  },
  {
   "cell_type": "code",
   "execution_count": 44,
   "metadata": {},
   "outputs": [
    {
     "name": "stdout",
     "output_type": "stream",
     "text": [
      "ConsumptionDate\n",
      "2019-05-01    0.083237\n",
      "2019-06-01    0.096582\n",
      "dtype: float64\n"
     ]
    },
    {
     "data": {
      "text/html": [
       "<div>\n",
       "<style scoped>\n",
       "    .dataframe tbody tr th:only-of-type {\n",
       "        vertical-align: middle;\n",
       "    }\n",
       "\n",
       "    .dataframe tbody tr th {\n",
       "        vertical-align: top;\n",
       "    }\n",
       "\n",
       "    .dataframe thead th {\n",
       "        text-align: right;\n",
       "    }\n",
       "</style>\n",
       "<table border=\"1\" class=\"dataframe\">\n",
       "  <thead>\n",
       "    <tr style=\"text-align: right;\">\n",
       "      <th></th>\n",
       "      <th>Feeder</th>\n",
       "      <th>naive-MSE</th>\n",
       "      <th>naive-MAE</th>\n",
       "      <th>naive-MAPE</th>\n",
       "      <th>SimpeAvg-MSE</th>\n",
       "      <th>SimpeAvg-MAE</th>\n",
       "      <th>SimpeAvg-MAPE</th>\n",
       "      <th>MovingAvg-MSE</th>\n",
       "      <th>MovingAvg-MAE</th>\n",
       "      <th>MovingAvg-MAPE</th>\n",
       "      <th>...</th>\n",
       "      <th>Holt_linear-MAPE</th>\n",
       "      <th>Holt_Winter-MSE</th>\n",
       "      <th>Holt_Winter-MAE</th>\n",
       "      <th>Holt_Winter-MAPE</th>\n",
       "      <th>SARIMA-MSE</th>\n",
       "      <th>SARIMA-MAE</th>\n",
       "      <th>SARIMA-MAPE</th>\n",
       "      <th>AutoARIMA-MSE</th>\n",
       "      <th>AutoARIMA-MAE</th>\n",
       "      <th>AutoARIMA-MAPE</th>\n",
       "    </tr>\n",
       "    <tr>\n",
       "      <th>ConsumptionDate</th>\n",
       "      <th></th>\n",
       "      <th></th>\n",
       "      <th></th>\n",
       "      <th></th>\n",
       "      <th></th>\n",
       "      <th></th>\n",
       "      <th></th>\n",
       "      <th></th>\n",
       "      <th></th>\n",
       "      <th></th>\n",
       "      <th></th>\n",
       "      <th></th>\n",
       "      <th></th>\n",
       "      <th></th>\n",
       "      <th></th>\n",
       "      <th></th>\n",
       "      <th></th>\n",
       "      <th></th>\n",
       "      <th></th>\n",
       "      <th></th>\n",
       "      <th></th>\n",
       "    </tr>\n",
       "  </thead>\n",
       "  <tbody>\n",
       "    <tr>\n",
       "      <td>2019-05-01</td>\n",
       "      <td>Feeder_1</td>\n",
       "      <td>87677642.0</td>\n",
       "      <td>7781.0</td>\n",
       "      <td>1.100593</td>\n",
       "      <td>4.112213e+09</td>\n",
       "      <td>63914.625</td>\n",
       "      <td>8.990953</td>\n",
       "      <td>3.212871e+09</td>\n",
       "      <td>56442.333333</td>\n",
       "      <td>7.939188</td>\n",
       "      <td>...</td>\n",
       "      <td>4.349873</td>\n",
       "      <td>8.969589e+07</td>\n",
       "      <td>8333.921459</td>\n",
       "      <td>1.177687</td>\n",
       "      <td>5.048239e+11</td>\n",
       "      <td>710490.5</td>\n",
       "      <td>100.0</td>\n",
       "      <td>4.112213e+09</td>\n",
       "      <td>63914.625</td>\n",
       "      <td>8.990953</td>\n",
       "    </tr>\n",
       "  </tbody>\n",
       "</table>\n",
       "<p>1 rows × 25 columns</p>\n",
       "</div>"
      ],
      "text/plain": [
       "                   Feeder   naive-MSE  naive-MAE  naive-MAPE  SimpeAvg-MSE  \\\n",
       "ConsumptionDate                                                              \n",
       "2019-05-01       Feeder_1  87677642.0     7781.0    1.100593  4.112213e+09   \n",
       "\n",
       "                 SimpeAvg-MAE  SimpeAvg-MAPE  MovingAvg-MSE  MovingAvg-MAE  \\\n",
       "ConsumptionDate                                                              \n",
       "2019-05-01          63914.625       8.990953   3.212871e+09   56442.333333   \n",
       "\n",
       "                 MovingAvg-MAPE  ...  Holt_linear-MAPE  Holt_Winter-MSE  \\\n",
       "ConsumptionDate                  ...                                      \n",
       "2019-05-01             7.939188  ...          4.349873     8.969589e+07   \n",
       "\n",
       "                 Holt_Winter-MAE  Holt_Winter-MAPE    SARIMA-MSE  SARIMA-MAE  \\\n",
       "ConsumptionDate                                                                \n",
       "2019-05-01           8333.921459          1.177687  5.048239e+11    710490.5   \n",
       "\n",
       "                 SARIMA-MAPE  AutoARIMA-MSE  AutoARIMA-MAE  AutoARIMA-MAPE  \n",
       "ConsumptionDate                                                             \n",
       "2019-05-01             100.0   4.112213e+09      63914.625        8.990953  \n",
       "\n",
       "[1 rows x 25 columns]"
      ]
     },
     "execution_count": 44,
     "metadata": {},
     "output_type": "execute_result"
    }
   ],
   "source": [
    "y_Result['AutoARIMA-MSE'] = mean_squared_error(test.Demand, y_hat.AutoARIMA)\n",
    "y_Result['AutoARIMA-MAE'] = mean_absolute_error(test.Demand, y_hat.AutoARIMA)\n",
    "y_Result['AutoARIMA-MAPE'] = mean_absolute_percentage_error(test.Demand, y_hat.AutoARIMA)\n",
    "y_Result"
   ]
  },
  {
   "cell_type": "code",
   "execution_count": 45,
   "metadata": {},
   "outputs": [
    {
     "data": {
      "text/plain": [
       "<Figure size 1440x576 with 0 Axes>"
      ]
     },
     "execution_count": 45,
     "metadata": {},
     "output_type": "execute_result"
    },
    {
     "data": {
      "text/plain": [
       "[<matplotlib.lines.Line2D at 0x239de0b2288>]"
      ]
     },
     "execution_count": 45,
     "metadata": {},
     "output_type": "execute_result"
    },
    {
     "data": {
      "text/plain": [
       "[<matplotlib.lines.Line2D at 0x239dd8a99c8>]"
      ]
     },
     "execution_count": 45,
     "metadata": {},
     "output_type": "execute_result"
    },
    {
     "data": {
      "text/plain": [
       "[<matplotlib.lines.Line2D at 0x239de0e6a88>]"
      ]
     },
     "execution_count": 45,
     "metadata": {},
     "output_type": "execute_result"
    },
    {
     "data": {
      "text/plain": [
       "[<matplotlib.lines.Line2D at 0x239de0eaf48>]"
      ]
     },
     "execution_count": 45,
     "metadata": {},
     "output_type": "execute_result"
    },
    {
     "data": {
      "text/plain": [
       "[<matplotlib.lines.Line2D at 0x239de0ee608>]"
      ]
     },
     "execution_count": 45,
     "metadata": {},
     "output_type": "execute_result"
    },
    {
     "data": {
      "text/plain": [
       "[<matplotlib.lines.Line2D at 0x239de0eeec8>]"
      ]
     },
     "execution_count": 45,
     "metadata": {},
     "output_type": "execute_result"
    },
    {
     "data": {
      "text/plain": [
       "[<matplotlib.lines.Line2D at 0x239de0f3c88>]"
      ]
     },
     "execution_count": 45,
     "metadata": {},
     "output_type": "execute_result"
    },
    {
     "data": {
      "text/plain": [
       "[<matplotlib.lines.Line2D at 0x239de0eec48>]"
      ]
     },
     "execution_count": 45,
     "metadata": {},
     "output_type": "execute_result"
    },
    {
     "data": {
      "text/plain": [
       "[<matplotlib.lines.Line2D at 0x239de0ea708>]"
      ]
     },
     "execution_count": 45,
     "metadata": {},
     "output_type": "execute_result"
    },
    {
     "data": {
      "text/plain": [
       "<matplotlib.legend.Legend at 0x239de0f7988>"
      ]
     },
     "execution_count": 45,
     "metadata": {},
     "output_type": "execute_result"
    },
    {
     "data": {
      "image/png": "[encoded data removed]",
      "text/plain": [
       "<Figure size 1440x576 with 1 Axes>"
      ]
     },
     "metadata": {
      "needs_background": "light"
     },
     "output_type": "display_data"
    }
   ],
   "source": [
    "plt.figure(figsize=(20,8))\n",
    "plt.plot( train['Demand'], label='Train')\n",
    "plt.plot(test['Demand'], label='Test')\n",
    "plt.plot(y_hat['SARIMA'], label='SARIMA')\n",
    "plt.plot(y_hat['Holt_Winter'], label='Holt_Winter')\n",
    "plt.plot(y_hat['Holt_linear'], label='Holt_linear')\n",
    "plt.plot(y_hat['SES'], label='SES')\n",
    "plt.plot(y_hat['moving_avg_forecast'], label='Moving Average Forecast')\n",
    "plt.plot(y_hat['avg_forecast'], label='Average Forecast')\n",
    "plt.plot(y_hat.index,y_hat['naive'], label='Naive Forecast')\n",
    "\n",
    "plt.legend(loc='best')\n",
    "plt.show()"
   ]
  },
  {
   "cell_type": "code",
   "execution_count": 46,
   "metadata": {},
   "outputs": [],
   "source": [
    "y_Result.to_csv('Feeder_1.csv')"
   ]
  },
  {
   "cell_type": "code",
   "execution_count": null,
   "metadata": {},
   "outputs": [],
   "source": []
  }
 ],
 "metadata": {
  "kernelspec": {
   "display_name": "Python 3",
   "language": "python",
   "name": "python3"
  },
  "language_info": {
   "codemirror_mode": {
    "name": "ipython",
    "version": 3
   },
   "file_extension": ".py",
   "mimetype": "text/x-python",
   "name": "python",
   "nbconvert_exporter": "python",
   "pygments_lexer": "ipython3",
   "version": "3.7.4"
  }
 },
 "nbformat": 4,
 "nbformat_minor": 2
}
