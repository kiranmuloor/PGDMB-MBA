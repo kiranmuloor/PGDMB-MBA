{
 "cells": [
  {
   "cell_type": "code",
   "execution_count": 1,
   "metadata": {},
   "outputs": [],
   "source": [
    "import pandas as pd\n",
    "import numpy as np\n",
    "import seaborn as sns\n",
    "import matplotlib.pyplot as plt\n",
    "import pandas_profiling as pdf\n",
    "from sklearn.utils import check_array \n",
    "from sklearn import preprocessing \n",
    "from sklearn.metrics import mean_squared_error, mean_absolute_error\n",
    "from math import sqrt\n",
    "from statsmodels.tsa.api import ExponentialSmoothing, SimpleExpSmoothing, Holt\n",
    "import statsmodels.api as sm"
   ]
  },
  {
   "cell_type": "code",
   "execution_count": 2,
   "metadata": {},
   "outputs": [],
   "source": [
    "#print multiple statements in same line\n",
    "from IPython.core.interactiveshell import InteractiveShell\n",
    "InteractiveShell.ast_node_interactivity =\"all\"\n",
    "%matplotlib inline"
   ]
  },
  {
   "cell_type": "code",
   "execution_count": 3,
   "metadata": {},
   "outputs": [
    {
     "name": "stdout",
     "output_type": "stream",
     "text": [
      "\n",
      " Parsed Data:\n"
     ]
    },
    {
     "data": {
      "text/html": [
       "<div>\n",
       "<style scoped>\n",
       "    .dataframe tbody tr th:only-of-type {\n",
       "        vertical-align: middle;\n",
       "    }\n",
       "\n",
       "    .dataframe tbody tr th {\n",
       "        vertical-align: top;\n",
       "    }\n",
       "\n",
       "    .dataframe thead th {\n",
       "        text-align: right;\n",
       "    }\n",
       "</style>\n",
       "<table border=\"1\" class=\"dataframe\">\n",
       "  <thead>\n",
       "    <tr style=\"text-align: right;\">\n",
       "      <th></th>\n",
       "      <th>Feeder</th>\n",
       "      <th>Demand</th>\n",
       "      <th>Revenue</th>\n",
       "    </tr>\n",
       "    <tr>\n",
       "      <th>ConsumptionDate</th>\n",
       "      <th></th>\n",
       "      <th></th>\n",
       "      <th></th>\n",
       "    </tr>\n",
       "  </thead>\n",
       "  <tbody>\n",
       "    <tr>\n",
       "      <td>2019-01-01</td>\n",
       "      <td>Feeder_71</td>\n",
       "      <td>561622.1</td>\n",
       "      <td>5131010.67</td>\n",
       "    </tr>\n",
       "    <tr>\n",
       "      <td>2019-02-01</td>\n",
       "      <td>Feeder_71</td>\n",
       "      <td>522180.0</td>\n",
       "      <td>4813700.19</td>\n",
       "    </tr>\n",
       "    <tr>\n",
       "      <td>2019-03-01</td>\n",
       "      <td>Feeder_71</td>\n",
       "      <td>531947.5</td>\n",
       "      <td>4904547.66</td>\n",
       "    </tr>\n",
       "    <tr>\n",
       "      <td>2019-04-01</td>\n",
       "      <td>Feeder_71</td>\n",
       "      <td>546751.5</td>\n",
       "      <td>5024198.27</td>\n",
       "    </tr>\n",
       "    <tr>\n",
       "      <td>2019-05-01</td>\n",
       "      <td>Feeder_71</td>\n",
       "      <td>597016.0</td>\n",
       "      <td>5591421.21</td>\n",
       "    </tr>\n",
       "  </tbody>\n",
       "</table>\n",
       "</div>"
      ],
      "text/plain": [
       "                    Feeder    Demand     Revenue\n",
       "ConsumptionDate                                 \n",
       "2019-01-01       Feeder_71  561622.1  5131010.67\n",
       "2019-02-01       Feeder_71  522180.0  4813700.19\n",
       "2019-03-01       Feeder_71  531947.5  4904547.66\n",
       "2019-04-01       Feeder_71  546751.5  5024198.27\n",
       "2019-05-01       Feeder_71  597016.0  5591421.21"
      ]
     },
     "execution_count": 3,
     "metadata": {},
     "output_type": "execute_result"
    }
   ],
   "source": [
    "dateparse = lambda dates: pd.datetime.strptime(dates, '%Y-%m')\n",
    "dfFeederData = pd.read_csv('Train_Feeder_71.csv', parse_dates=['ConsumptionDate'], index_col='ConsumptionDate',date_parser=dateparse)\n",
    "print ('\\n Parsed Data:')\n",
    "dfFeederData.head()"
   ]
  },
  {
   "cell_type": "code",
   "execution_count": 4,
   "metadata": {},
   "outputs": [
    {
     "data": {
      "text/plain": [
       "4"
      ]
     },
     "execution_count": 4,
     "metadata": {},
     "output_type": "execute_result"
    }
   ],
   "source": [
    "size = int(len(dfFeederData)*.8)\n",
    "size"
   ]
  },
  {
   "cell_type": "code",
   "execution_count": 5,
   "metadata": {},
   "outputs": [],
   "source": [
    "train = dfFeederData.iloc[:size]\n",
    "test = dfFeederData.iloc[size:]"
   ]
  },
  {
   "cell_type": "code",
   "execution_count": 6,
   "metadata": {},
   "outputs": [
    {
     "data": {
      "text/html": [
       "<div>\n",
       "<style scoped>\n",
       "    .dataframe tbody tr th:only-of-type {\n",
       "        vertical-align: middle;\n",
       "    }\n",
       "\n",
       "    .dataframe tbody tr th {\n",
       "        vertical-align: top;\n",
       "    }\n",
       "\n",
       "    .dataframe thead th {\n",
       "        text-align: right;\n",
       "    }\n",
       "</style>\n",
       "<table border=\"1\" class=\"dataframe\">\n",
       "  <thead>\n",
       "    <tr style=\"text-align: right;\">\n",
       "      <th></th>\n",
       "      <th>Feeder</th>\n",
       "      <th>Demand</th>\n",
       "      <th>Revenue</th>\n",
       "    </tr>\n",
       "    <tr>\n",
       "      <th>ConsumptionDate</th>\n",
       "      <th></th>\n",
       "      <th></th>\n",
       "      <th></th>\n",
       "    </tr>\n",
       "  </thead>\n",
       "  <tbody>\n",
       "    <tr>\n",
       "      <td>2019-01-01</td>\n",
       "      <td>Feeder_71</td>\n",
       "      <td>561622.1</td>\n",
       "      <td>5131010.67</td>\n",
       "    </tr>\n",
       "    <tr>\n",
       "      <td>2019-02-01</td>\n",
       "      <td>Feeder_71</td>\n",
       "      <td>522180.0</td>\n",
       "      <td>4813700.19</td>\n",
       "    </tr>\n",
       "    <tr>\n",
       "      <td>2019-03-01</td>\n",
       "      <td>Feeder_71</td>\n",
       "      <td>531947.5</td>\n",
       "      <td>4904547.66</td>\n",
       "    </tr>\n",
       "    <tr>\n",
       "      <td>2019-04-01</td>\n",
       "      <td>Feeder_71</td>\n",
       "      <td>546751.5</td>\n",
       "      <td>5024198.27</td>\n",
       "    </tr>\n",
       "  </tbody>\n",
       "</table>\n",
       "</div>"
      ],
      "text/plain": [
       "                    Feeder    Demand     Revenue\n",
       "ConsumptionDate                                 \n",
       "2019-01-01       Feeder_71  561622.1  5131010.67\n",
       "2019-02-01       Feeder_71  522180.0  4813700.19\n",
       "2019-03-01       Feeder_71  531947.5  4904547.66\n",
       "2019-04-01       Feeder_71  546751.5  5024198.27"
      ]
     },
     "execution_count": 6,
     "metadata": {},
     "output_type": "execute_result"
    },
    {
     "data": {
      "text/html": [
       "<div>\n",
       "<style scoped>\n",
       "    .dataframe tbody tr th:only-of-type {\n",
       "        vertical-align: middle;\n",
       "    }\n",
       "\n",
       "    .dataframe tbody tr th {\n",
       "        vertical-align: top;\n",
       "    }\n",
       "\n",
       "    .dataframe thead th {\n",
       "        text-align: right;\n",
       "    }\n",
       "</style>\n",
       "<table border=\"1\" class=\"dataframe\">\n",
       "  <thead>\n",
       "    <tr style=\"text-align: right;\">\n",
       "      <th></th>\n",
       "      <th>Feeder</th>\n",
       "      <th>Demand</th>\n",
       "      <th>Revenue</th>\n",
       "    </tr>\n",
       "    <tr>\n",
       "      <th>ConsumptionDate</th>\n",
       "      <th></th>\n",
       "      <th></th>\n",
       "      <th></th>\n",
       "    </tr>\n",
       "  </thead>\n",
       "  <tbody>\n",
       "    <tr>\n",
       "      <td>2019-01-01</td>\n",
       "      <td>Feeder_71</td>\n",
       "      <td>561622.1</td>\n",
       "      <td>5131010.67</td>\n",
       "    </tr>\n",
       "    <tr>\n",
       "      <td>2019-02-01</td>\n",
       "      <td>Feeder_71</td>\n",
       "      <td>522180.0</td>\n",
       "      <td>4813700.19</td>\n",
       "    </tr>\n",
       "    <tr>\n",
       "      <td>2019-03-01</td>\n",
       "      <td>Feeder_71</td>\n",
       "      <td>531947.5</td>\n",
       "      <td>4904547.66</td>\n",
       "    </tr>\n",
       "    <tr>\n",
       "      <td>2019-04-01</td>\n",
       "      <td>Feeder_71</td>\n",
       "      <td>546751.5</td>\n",
       "      <td>5024198.27</td>\n",
       "    </tr>\n",
       "  </tbody>\n",
       "</table>\n",
       "</div>"
      ],
      "text/plain": [
       "                    Feeder    Demand     Revenue\n",
       "ConsumptionDate                                 \n",
       "2019-01-01       Feeder_71  561622.1  5131010.67\n",
       "2019-02-01       Feeder_71  522180.0  4813700.19\n",
       "2019-03-01       Feeder_71  531947.5  4904547.66\n",
       "2019-04-01       Feeder_71  546751.5  5024198.27"
      ]
     },
     "execution_count": 6,
     "metadata": {},
     "output_type": "execute_result"
    },
    {
     "data": {
      "text/html": [
       "<div>\n",
       "<style scoped>\n",
       "    .dataframe tbody tr th:only-of-type {\n",
       "        vertical-align: middle;\n",
       "    }\n",
       "\n",
       "    .dataframe tbody tr th {\n",
       "        vertical-align: top;\n",
       "    }\n",
       "\n",
       "    .dataframe thead th {\n",
       "        text-align: right;\n",
       "    }\n",
       "</style>\n",
       "<table border=\"1\" class=\"dataframe\">\n",
       "  <thead>\n",
       "    <tr style=\"text-align: right;\">\n",
       "      <th></th>\n",
       "      <th>Feeder</th>\n",
       "      <th>Demand</th>\n",
       "      <th>Revenue</th>\n",
       "    </tr>\n",
       "    <tr>\n",
       "      <th>ConsumptionDate</th>\n",
       "      <th></th>\n",
       "      <th></th>\n",
       "      <th></th>\n",
       "    </tr>\n",
       "  </thead>\n",
       "  <tbody>\n",
       "    <tr>\n",
       "      <td>2019-05-01</td>\n",
       "      <td>Feeder_71</td>\n",
       "      <td>597016.0</td>\n",
       "      <td>5591421.21</td>\n",
       "    </tr>\n",
       "    <tr>\n",
       "      <td>2019-06-01</td>\n",
       "      <td>Feeder_71</td>\n",
       "      <td>586175.5</td>\n",
       "      <td>5797914.48</td>\n",
       "    </tr>\n",
       "  </tbody>\n",
       "</table>\n",
       "</div>"
      ],
      "text/plain": [
       "                    Feeder    Demand     Revenue\n",
       "ConsumptionDate                                 \n",
       "2019-05-01       Feeder_71  597016.0  5591421.21\n",
       "2019-06-01       Feeder_71  586175.5  5797914.48"
      ]
     },
     "execution_count": 6,
     "metadata": {},
     "output_type": "execute_result"
    },
    {
     "data": {
      "text/html": [
       "<div>\n",
       "<style scoped>\n",
       "    .dataframe tbody tr th:only-of-type {\n",
       "        vertical-align: middle;\n",
       "    }\n",
       "\n",
       "    .dataframe tbody tr th {\n",
       "        vertical-align: top;\n",
       "    }\n",
       "\n",
       "    .dataframe thead th {\n",
       "        text-align: right;\n",
       "    }\n",
       "</style>\n",
       "<table border=\"1\" class=\"dataframe\">\n",
       "  <thead>\n",
       "    <tr style=\"text-align: right;\">\n",
       "      <th></th>\n",
       "      <th>Feeder</th>\n",
       "      <th>Demand</th>\n",
       "      <th>Revenue</th>\n",
       "    </tr>\n",
       "    <tr>\n",
       "      <th>ConsumptionDate</th>\n",
       "      <th></th>\n",
       "      <th></th>\n",
       "      <th></th>\n",
       "    </tr>\n",
       "  </thead>\n",
       "  <tbody>\n",
       "    <tr>\n",
       "      <td>2019-05-01</td>\n",
       "      <td>Feeder_71</td>\n",
       "      <td>597016.0</td>\n",
       "      <td>5591421.21</td>\n",
       "    </tr>\n",
       "    <tr>\n",
       "      <td>2019-06-01</td>\n",
       "      <td>Feeder_71</td>\n",
       "      <td>586175.5</td>\n",
       "      <td>5797914.48</td>\n",
       "    </tr>\n",
       "  </tbody>\n",
       "</table>\n",
       "</div>"
      ],
      "text/plain": [
       "                    Feeder    Demand     Revenue\n",
       "ConsumptionDate                                 \n",
       "2019-05-01       Feeder_71  597016.0  5591421.21\n",
       "2019-06-01       Feeder_71  586175.5  5797914.48"
      ]
     },
     "execution_count": 6,
     "metadata": {},
     "output_type": "execute_result"
    }
   ],
   "source": [
    "train.head(10)\n",
    "train.tail(10)\n",
    "test.head(10)\n",
    "test.tail(10)"
   ]
  },
  {
   "cell_type": "code",
   "execution_count": 7,
   "metadata": {},
   "outputs": [],
   "source": [
    "def mean_absolute_percentage_error(y_true, y_pred): \n",
    "    y_true\n",
    "    y_pred\n",
    "   #    y_true, y_pred = check_array(y_true, y_pred)\n",
    "   \n",
    "    ## Note: does not handle mix 1d representation\n",
    "    #if _is_1d(y_true): \n",
    "    #    y_true, y_pred = _check_1d_array(y_true, y_pred)\n",
    "    print(np.abs((y_true - y_pred) / y_true))\n",
    "    return np.mean(np.abs((y_true - y_pred) / y_true)) * 100"
   ]
  },
  {
   "cell_type": "code",
   "execution_count": 8,
   "metadata": {},
   "outputs": [
    {
     "data": {
      "text/html": [
       "<div>\n",
       "<style scoped>\n",
       "    .dataframe tbody tr th:only-of-type {\n",
       "        vertical-align: middle;\n",
       "    }\n",
       "\n",
       "    .dataframe tbody tr th {\n",
       "        vertical-align: top;\n",
       "    }\n",
       "\n",
       "    .dataframe thead th {\n",
       "        text-align: right;\n",
       "    }\n",
       "</style>\n",
       "<table border=\"1\" class=\"dataframe\">\n",
       "  <thead>\n",
       "    <tr style=\"text-align: right;\">\n",
       "      <th></th>\n",
       "      <th>Feeder</th>\n",
       "    </tr>\n",
       "    <tr>\n",
       "      <th>ConsumptionDate</th>\n",
       "      <th></th>\n",
       "    </tr>\n",
       "  </thead>\n",
       "  <tbody>\n",
       "    <tr>\n",
       "      <td>2019-05-01</td>\n",
       "      <td>Feeder_71</td>\n",
       "    </tr>\n",
       "  </tbody>\n",
       "</table>\n",
       "</div>"
      ],
      "text/plain": [
       "                    Feeder\n",
       "ConsumptionDate           \n",
       "2019-05-01       Feeder_71"
      ]
     },
     "execution_count": 8,
     "metadata": {},
     "output_type": "execute_result"
    }
   ],
   "source": [
    "y_Result = test.copy()\n",
    "y_Result = y_Result.iloc[0:1]\n",
    "y_Result = y_Result.drop(['Revenue','Demand'], axis = 1)\n",
    "\n",
    "y_Result"
   ]
  },
  {
   "cell_type": "markdown",
   "metadata": {},
   "source": [
    "### Naive Approach"
   ]
  },
  {
   "cell_type": "code",
   "execution_count": 9,
   "metadata": {},
   "outputs": [],
   "source": [
    "dd= np.asarray(train.Demand)\n",
    "y_hat = test.copy()\n",
    "y_hat['naive'] = dd[len(dd)-1]\n"
   ]
  },
  {
   "cell_type": "code",
   "execution_count": 10,
   "metadata": {},
   "outputs": [
    {
     "data": {
      "text/plain": [
       "<Figure size 864x576 with 0 Axes>"
      ]
     },
     "execution_count": 10,
     "metadata": {},
     "output_type": "execute_result"
    },
    {
     "data": {
      "text/plain": [
       "[<matplotlib.lines.Line2D at 0x22120fa77c8>]"
      ]
     },
     "execution_count": 10,
     "metadata": {},
     "output_type": "execute_result"
    },
    {
     "data": {
      "text/plain": [
       "[<matplotlib.lines.Line2D at 0x22120fea308>]"
      ]
     },
     "execution_count": 10,
     "metadata": {},
     "output_type": "execute_result"
    },
    {
     "data": {
      "text/plain": [
       "[<matplotlib.lines.Line2D at 0x221210021c8>]"
      ]
     },
     "execution_count": 10,
     "metadata": {},
     "output_type": "execute_result"
    },
    {
     "data": {
      "text/plain": [
       "<matplotlib.legend.Legend at 0x22121009988>"
      ]
     },
     "execution_count": 10,
     "metadata": {},
     "output_type": "execute_result"
    },
    {
     "data": {
      "text/plain": [
       "Text(0.5, 1.0, 'Naive Forecast')"
      ]
     },
     "execution_count": 10,
     "metadata": {},
     "output_type": "execute_result"
    },
    {
     "data": {
      "image/png": "[encoded data removed]",
      "text/plain": [
       "<Figure size 864x576 with 1 Axes>"
      ]
     },
     "metadata": {
      "needs_background": "light"
     },
     "output_type": "display_data"
    }
   ],
   "source": [
    "plt.figure(figsize=(12,8))\n",
    "plt.plot(train.index, train['Demand'], label='Train')\n",
    "plt.plot(test.index,test['Demand'], label='Test')\n",
    "plt.plot(y_hat.index,y_hat['naive'], label='Naive Forecast')\n",
    "plt.legend(loc='best')\n",
    "plt.title(\"Naive Forecast\")\n",
    "plt.show()"
   ]
  },
  {
   "cell_type": "code",
   "execution_count": 11,
   "metadata": {},
   "outputs": [
    {
     "name": "stdout",
     "output_type": "stream",
     "text": [
      "ConsumptionDate\n",
      "2019-05-01    0.084193\n",
      "2019-06-01    0.067256\n",
      "dtype: float64\n",
      "RMSE with naive approach : \n"
     ]
    },
    {
     "data": {
      "text/html": [
       "<div>\n",
       "<style scoped>\n",
       "    .dataframe tbody tr th:only-of-type {\n",
       "        vertical-align: middle;\n",
       "    }\n",
       "\n",
       "    .dataframe tbody tr th {\n",
       "        vertical-align: top;\n",
       "    }\n",
       "\n",
       "    .dataframe thead th {\n",
       "        text-align: right;\n",
       "    }\n",
       "</style>\n",
       "<table border=\"1\" class=\"dataframe\">\n",
       "  <thead>\n",
       "    <tr style=\"text-align: right;\">\n",
       "      <th></th>\n",
       "      <th>Feeder</th>\n",
       "      <th>naive-MSE</th>\n",
       "      <th>naive-MAE</th>\n",
       "      <th>naive-MAPE</th>\n",
       "    </tr>\n",
       "    <tr>\n",
       "      <th>ConsumptionDate</th>\n",
       "      <th></th>\n",
       "      <th></th>\n",
       "      <th></th>\n",
       "      <th></th>\n",
       "    </tr>\n",
       "  </thead>\n",
       "  <tbody>\n",
       "    <tr>\n",
       "      <td>2019-05-01</td>\n",
       "      <td>Feeder_71</td>\n",
       "      <td>2.040386e+09</td>\n",
       "      <td>44844.25</td>\n",
       "      <td>7.57246</td>\n",
       "    </tr>\n",
       "  </tbody>\n",
       "</table>\n",
       "</div>"
      ],
      "text/plain": [
       "                    Feeder     naive-MSE  naive-MAE  naive-MAPE\n",
       "ConsumptionDate                                                \n",
       "2019-05-01       Feeder_71  2.040386e+09   44844.25     7.57246"
      ]
     },
     "execution_count": 11,
     "metadata": {},
     "output_type": "execute_result"
    }
   ],
   "source": [
    "\n",
    "y_Result['naive-MSE'] = mean_squared_error(test.Demand, y_hat.naive)\n",
    "y_Result['naive-MAE'] = mean_absolute_error(test.Demand, y_hat.naive)\n",
    "y_Result['naive-MAPE'] = mean_absolute_percentage_error(test.Demand, y_hat.naive)\n",
    "\n",
    "print('RMSE with naive approach : ')\n",
    "y_Result"
   ]
  },
  {
   "cell_type": "markdown",
   "metadata": {},
   "source": [
    "### Simple Average"
   ]
  },
  {
   "cell_type": "code",
   "execution_count": 12,
   "metadata": {},
   "outputs": [
    {
     "data": {
      "text/plain": [
       "<Figure size 864x576 with 0 Axes>"
      ]
     },
     "execution_count": 12,
     "metadata": {},
     "output_type": "execute_result"
    },
    {
     "data": {
      "text/plain": [
       "[<matplotlib.lines.Line2D at 0x2212798d088>]"
      ]
     },
     "execution_count": 12,
     "metadata": {},
     "output_type": "execute_result"
    },
    {
     "data": {
      "text/plain": [
       "[<matplotlib.lines.Line2D at 0x22127981a08>]"
      ]
     },
     "execution_count": 12,
     "metadata": {},
     "output_type": "execute_result"
    },
    {
     "data": {
      "text/plain": [
       "[<matplotlib.lines.Line2D at 0x221279bc488>]"
      ]
     },
     "execution_count": 12,
     "metadata": {},
     "output_type": "execute_result"
    },
    {
     "data": {
      "text/plain": [
       "<matplotlib.legend.Legend at 0x221279b7f88>"
      ]
     },
     "execution_count": 12,
     "metadata": {},
     "output_type": "execute_result"
    },
    {
     "data": {
      "image/png": "[encoded data removed]",
      "text/plain": [
       "<Figure size 864x576 with 1 Axes>"
      ]
     },
     "metadata": {
      "needs_background": "light"
     },
     "output_type": "display_data"
    }
   ],
   "source": [
    "#y_hat = test.copy()\n",
    "y_hat['avg_forecast'] = train['Demand'].mean()\n",
    "plt.figure(figsize=(12,8))\n",
    "plt.plot(train['Demand'], label='Train')\n",
    "plt.plot(test['Demand'], label='Test')\n",
    "plt.plot(y_hat['avg_forecast'], label='Average Forecast')\n",
    "plt.legend(loc='best')\n",
    "plt.show()"
   ]
  },
  {
   "cell_type": "code",
   "execution_count": 13,
   "metadata": {},
   "outputs": [
    {
     "name": "stdout",
     "output_type": "stream",
     "text": [
      "ConsumptionDate\n",
      "2019-05-01    0.094454\n",
      "2019-06-01    0.077707\n",
      "dtype: float64\n"
     ]
    },
    {
     "data": {
      "text/plain": [
       "8.608089063942451"
      ]
     },
     "execution_count": 13,
     "metadata": {},
     "output_type": "execute_result"
    },
    {
     "name": "stdout",
     "output_type": "stream",
     "text": [
      "ConsumptionDate\n",
      "2019-05-01    0.094454\n",
      "2019-06-01    0.077707\n",
      "dtype: float64\n",
      "RMSE with Simple Average approach :  51257.86214609543\n"
     ]
    },
    {
     "data": {
      "text/html": [
       "<div>\n",
       "<style scoped>\n",
       "    .dataframe tbody tr th:only-of-type {\n",
       "        vertical-align: middle;\n",
       "    }\n",
       "\n",
       "    .dataframe tbody tr th {\n",
       "        vertical-align: top;\n",
       "    }\n",
       "\n",
       "    .dataframe thead th {\n",
       "        text-align: right;\n",
       "    }\n",
       "</style>\n",
       "<table border=\"1\" class=\"dataframe\">\n",
       "  <thead>\n",
       "    <tr style=\"text-align: right;\">\n",
       "      <th></th>\n",
       "      <th>Feeder</th>\n",
       "      <th>naive-MSE</th>\n",
       "      <th>naive-MAE</th>\n",
       "      <th>naive-MAPE</th>\n",
       "      <th>SimpeAvg-MSE</th>\n",
       "      <th>SimpeAvg-MAE</th>\n",
       "      <th>SimpeAvg-MAPE</th>\n",
       "    </tr>\n",
       "    <tr>\n",
       "      <th>ConsumptionDate</th>\n",
       "      <th></th>\n",
       "      <th></th>\n",
       "      <th></th>\n",
       "      <th></th>\n",
       "      <th></th>\n",
       "      <th></th>\n",
       "      <th></th>\n",
       "    </tr>\n",
       "  </thead>\n",
       "  <tbody>\n",
       "    <tr>\n",
       "      <td>2019-05-01</td>\n",
       "      <td>Feeder_71</td>\n",
       "      <td>2.040386e+09</td>\n",
       "      <td>44844.25</td>\n",
       "      <td>7.57246</td>\n",
       "      <td>2.627368e+09</td>\n",
       "      <td>50970.475</td>\n",
       "      <td>8.608089</td>\n",
       "    </tr>\n",
       "  </tbody>\n",
       "</table>\n",
       "</div>"
      ],
      "text/plain": [
       "                    Feeder     naive-MSE  naive-MAE  naive-MAPE  SimpeAvg-MSE  \\\n",
       "ConsumptionDate                                                                 \n",
       "2019-05-01       Feeder_71  2.040386e+09   44844.25     7.57246  2.627368e+09   \n",
       "\n",
       "                 SimpeAvg-MAE  SimpeAvg-MAPE  \n",
       "ConsumptionDate                               \n",
       "2019-05-01          50970.475       8.608089  "
      ]
     },
     "execution_count": 13,
     "metadata": {},
     "output_type": "execute_result"
    }
   ],
   "source": [
    "rms = sqrt(mean_squared_error(test.Demand, y_hat.avg_forecast))\n",
    "mean_absolute_percentage_error(test.Demand, y_hat.avg_forecast)\n",
    "y_Result['SimpeAvg-MSE'] = mean_squared_error(test.Demand, y_hat.avg_forecast)\n",
    "y_Result['SimpeAvg-MAE'] = mean_absolute_error(test.Demand, y_hat.avg_forecast)\n",
    "y_Result['SimpeAvg-MAPE'] = mean_absolute_percentage_error(test.Demand, y_hat.avg_forecast)\n",
    "print('RMSE with Simple Average approach : ', rms)\n",
    "y_Result"
   ]
  },
  {
   "cell_type": "markdown",
   "metadata": {},
   "source": [
    "### Moving Average"
   ]
  },
  {
   "cell_type": "code",
   "execution_count": 14,
   "metadata": {},
   "outputs": [],
   "source": [
    "#y_hat = test.copy()\n",
    "y_hat['moving_avg_forecast'] = train['Demand'].rolling(3).mean().iloc[-1]"
   ]
  },
  {
   "cell_type": "code",
   "execution_count": 15,
   "metadata": {},
   "outputs": [
    {
     "data": {
      "text/html": [
       "<div>\n",
       "<style scoped>\n",
       "    .dataframe tbody tr th:only-of-type {\n",
       "        vertical-align: middle;\n",
       "    }\n",
       "\n",
       "    .dataframe tbody tr th {\n",
       "        vertical-align: top;\n",
       "    }\n",
       "\n",
       "    .dataframe thead th {\n",
       "        text-align: right;\n",
       "    }\n",
       "</style>\n",
       "<table border=\"1\" class=\"dataframe\">\n",
       "  <thead>\n",
       "    <tr style=\"text-align: right;\">\n",
       "      <th></th>\n",
       "      <th>Feeder</th>\n",
       "      <th>Demand</th>\n",
       "      <th>Revenue</th>\n",
       "      <th>naive</th>\n",
       "      <th>avg_forecast</th>\n",
       "      <th>moving_avg_forecast</th>\n",
       "    </tr>\n",
       "    <tr>\n",
       "      <th>ConsumptionDate</th>\n",
       "      <th></th>\n",
       "      <th></th>\n",
       "      <th></th>\n",
       "      <th></th>\n",
       "      <th></th>\n",
       "      <th></th>\n",
       "    </tr>\n",
       "  </thead>\n",
       "  <tbody>\n",
       "    <tr>\n",
       "      <td>2019-05-01</td>\n",
       "      <td>Feeder_71</td>\n",
       "      <td>597016.0</td>\n",
       "      <td>5591421.21</td>\n",
       "      <td>546751.5</td>\n",
       "      <td>540625.275</td>\n",
       "      <td>533626.333333</td>\n",
       "    </tr>\n",
       "    <tr>\n",
       "      <td>2019-06-01</td>\n",
       "      <td>Feeder_71</td>\n",
       "      <td>586175.5</td>\n",
       "      <td>5797914.48</td>\n",
       "      <td>546751.5</td>\n",
       "      <td>540625.275</td>\n",
       "      <td>533626.333333</td>\n",
       "    </tr>\n",
       "  </tbody>\n",
       "</table>\n",
       "</div>"
      ],
      "text/plain": [
       "                    Feeder    Demand     Revenue     naive  avg_forecast  \\\n",
       "ConsumptionDate                                                            \n",
       "2019-05-01       Feeder_71  597016.0  5591421.21  546751.5    540625.275   \n",
       "2019-06-01       Feeder_71  586175.5  5797914.48  546751.5    540625.275   \n",
       "\n",
       "                 moving_avg_forecast  \n",
       "ConsumptionDate                       \n",
       "2019-05-01             533626.333333  \n",
       "2019-06-01             533626.333333  "
      ]
     },
     "execution_count": 15,
     "metadata": {},
     "output_type": "execute_result"
    }
   ],
   "source": [
    "y_hat"
   ]
  },
  {
   "cell_type": "code",
   "execution_count": 16,
   "metadata": {},
   "outputs": [
    {
     "data": {
      "text/plain": [
       "<Figure size 1152x576 with 0 Axes>"
      ]
     },
     "execution_count": 16,
     "metadata": {},
     "output_type": "execute_result"
    },
    {
     "data": {
      "text/plain": [
       "[<matplotlib.lines.Line2D at 0x22121050308>]"
      ]
     },
     "execution_count": 16,
     "metadata": {},
     "output_type": "execute_result"
    },
    {
     "data": {
      "text/plain": [
       "[<matplotlib.lines.Line2D at 0x22127a06508>]"
      ]
     },
     "execution_count": 16,
     "metadata": {},
     "output_type": "execute_result"
    },
    {
     "data": {
      "text/plain": [
       "[<matplotlib.lines.Line2D at 0x22127a54b08>]"
      ]
     },
     "execution_count": 16,
     "metadata": {},
     "output_type": "execute_result"
    },
    {
     "data": {
      "text/plain": [
       "<matplotlib.legend.Legend at 0x22127a21e88>"
      ]
     },
     "execution_count": 16,
     "metadata": {},
     "output_type": "execute_result"
    },
    {
     "data": {
      "image/png": "[encoded data removed]",
      "text/plain": [
       "<Figure size 1152x576 with 1 Axes>"
      ]
     },
     "metadata": {
      "needs_background": "light"
     },
     "output_type": "display_data"
    }
   ],
   "source": [
    "plt.figure(figsize=(16,8))\n",
    "plt.plot(train['Demand'], label='Train')\n",
    "plt.plot(test['Demand'], label='Test')\n",
    "plt.plot(y_hat['moving_avg_forecast'], label='Moving Average Forecast')\n",
    "plt.legend(loc='best')\n",
    "plt.show()"
   ]
  },
  {
   "cell_type": "code",
   "execution_count": 17,
   "metadata": {},
   "outputs": [
    {
     "name": "stdout",
     "output_type": "stream",
     "text": [
      "ConsumptionDate\n",
      "2019-05-01    0.106178\n",
      "2019-06-01    0.089647\n",
      "dtype: float64\n"
     ]
    },
    {
     "data": {
      "text/plain": [
       "9.79124990200475"
      ]
     },
     "execution_count": 17,
     "metadata": {},
     "output_type": "execute_result"
    },
    {
     "name": "stdout",
     "output_type": "stream",
     "text": [
      "RMSE with Moving Average approach :  58222.26703535432\n",
      "ConsumptionDate\n",
      "2019-05-01    0.106178\n",
      "2019-06-01    0.089647\n",
      "dtype: float64\n"
     ]
    },
    {
     "data": {
      "text/html": [
       "<div>\n",
       "<style scoped>\n",
       "    .dataframe tbody tr th:only-of-type {\n",
       "        vertical-align: middle;\n",
       "    }\n",
       "\n",
       "    .dataframe tbody tr th {\n",
       "        vertical-align: top;\n",
       "    }\n",
       "\n",
       "    .dataframe thead th {\n",
       "        text-align: right;\n",
       "    }\n",
       "</style>\n",
       "<table border=\"1\" class=\"dataframe\">\n",
       "  <thead>\n",
       "    <tr style=\"text-align: right;\">\n",
       "      <th></th>\n",
       "      <th>Feeder</th>\n",
       "      <th>naive-MSE</th>\n",
       "      <th>naive-MAE</th>\n",
       "      <th>naive-MAPE</th>\n",
       "      <th>SimpeAvg-MSE</th>\n",
       "      <th>SimpeAvg-MAE</th>\n",
       "      <th>SimpeAvg-MAPE</th>\n",
       "      <th>MovingAvg-MSE</th>\n",
       "      <th>MovingAvg-MAE</th>\n",
       "      <th>MovingAvg-MAPE</th>\n",
       "    </tr>\n",
       "    <tr>\n",
       "      <th>ConsumptionDate</th>\n",
       "      <th></th>\n",
       "      <th></th>\n",
       "      <th></th>\n",
       "      <th></th>\n",
       "      <th></th>\n",
       "      <th></th>\n",
       "      <th></th>\n",
       "      <th></th>\n",
       "      <th></th>\n",
       "      <th></th>\n",
       "    </tr>\n",
       "  </thead>\n",
       "  <tbody>\n",
       "    <tr>\n",
       "      <td>2019-05-01</td>\n",
       "      <td>Feeder_71</td>\n",
       "      <td>2.040386e+09</td>\n",
       "      <td>44844.25</td>\n",
       "      <td>7.57246</td>\n",
       "      <td>2.627368e+09</td>\n",
       "      <td>50970.475</td>\n",
       "      <td>8.608089</td>\n",
       "      <td>3.389832e+09</td>\n",
       "      <td>57969.416667</td>\n",
       "      <td>9.79125</td>\n",
       "    </tr>\n",
       "  </tbody>\n",
       "</table>\n",
       "</div>"
      ],
      "text/plain": [
       "                    Feeder     naive-MSE  naive-MAE  naive-MAPE  SimpeAvg-MSE  \\\n",
       "ConsumptionDate                                                                 \n",
       "2019-05-01       Feeder_71  2.040386e+09   44844.25     7.57246  2.627368e+09   \n",
       "\n",
       "                 SimpeAvg-MAE  SimpeAvg-MAPE  MovingAvg-MSE  MovingAvg-MAE  \\\n",
       "ConsumptionDate                                                              \n",
       "2019-05-01          50970.475       8.608089   3.389832e+09   57969.416667   \n",
       "\n",
       "                 MovingAvg-MAPE  \n",
       "ConsumptionDate                  \n",
       "2019-05-01              9.79125  "
      ]
     },
     "execution_count": 17,
     "metadata": {},
     "output_type": "execute_result"
    }
   ],
   "source": [
    "rms = sqrt(mean_squared_error(test.Demand, y_hat.moving_avg_forecast))\n",
    "mean_absolute_percentage_error(test.Demand, y_hat.moving_avg_forecast)\n",
    "print('RMSE with Moving Average approach : ', rms)\n",
    "y_Result['MovingAvg-MSE'] = mean_squared_error(test.Demand, y_hat.moving_avg_forecast)\n",
    "y_Result['MovingAvg-MAE'] = mean_absolute_error(test.Demand, y_hat.moving_avg_forecast)\n",
    "y_Result['MovingAvg-MAPE'] = mean_absolute_percentage_error(test.Demand, y_hat.moving_avg_forecast)\n",
    "y_Result"
   ]
  },
  {
   "cell_type": "markdown",
   "metadata": {},
   "source": [
    "### Simple Exponential Smoothing"
   ]
  },
  {
   "cell_type": "code",
   "execution_count": 18,
   "metadata": {},
   "outputs": [
    {
     "data": {
      "text/plain": [
       "<Figure size 1152x576 with 0 Axes>"
      ]
     },
     "execution_count": 18,
     "metadata": {},
     "output_type": "execute_result"
    },
    {
     "data": {
      "text/plain": [
       "[<matplotlib.lines.Line2D at 0x22127adcfc8>]"
      ]
     },
     "execution_count": 18,
     "metadata": {},
     "output_type": "execute_result"
    },
    {
     "data": {
      "text/plain": [
       "[<matplotlib.lines.Line2D at 0x22127ab9808>]"
      ]
     },
     "execution_count": 18,
     "metadata": {},
     "output_type": "execute_result"
    },
    {
     "data": {
      "text/plain": [
       "[<matplotlib.lines.Line2D at 0x22127ae98c8>]"
      ]
     },
     "execution_count": 18,
     "metadata": {},
     "output_type": "execute_result"
    },
    {
     "data": {
      "text/plain": [
       "<matplotlib.legend.Legend at 0x22127ae9808>"
      ]
     },
     "execution_count": 18,
     "metadata": {},
     "output_type": "execute_result"
    },
    {
     "data": {
      "image/png": "[encoded data removed]",
      "text/plain": [
       "<Figure size 1152x576 with 1 Axes>"
      ]
     },
     "metadata": {
      "needs_background": "light"
     },
     "output_type": "display_data"
    }
   ],
   "source": [
    "#y_hat_avg = test.copy()\n",
    "fit2 = SimpleExpSmoothing(np.asarray(train['Demand'])).fit(smoothing_level=0.6,optimized=False)\n",
    "y_hat['SES'] = fit2.forecast(len(test))\n",
    "plt.figure(figsize=(16,8))\n",
    "plt.plot(train['Demand'], label='Train')\n",
    "plt.plot(test['Demand'], label='Test')\n",
    "plt.plot(y_hat['SES'], label='SES')\n",
    "plt.legend(loc='best')\n",
    "plt.show()"
   ]
  },
  {
   "cell_type": "code",
   "execution_count": 19,
   "metadata": {},
   "outputs": [],
   "source": [
    "error = mean_absolute_error(test.Demand,  y_hat.SES)"
   ]
  },
  {
   "cell_type": "code",
   "execution_count": 20,
   "metadata": {},
   "outputs": [
    {
     "name": "stdout",
     "output_type": "stream",
     "text": [
      "ConsumptionDate\n",
      "2019-05-01    0.092501\n",
      "2019-06-01    0.075718\n",
      "dtype: float64\n"
     ]
    },
    {
     "data": {
      "text/plain": [
       "8.410958287277218"
      ]
     },
     "execution_count": 20,
     "metadata": {},
     "output_type": "execute_result"
    }
   ],
   "source": [
    "mean_absolute_percentage_error(test.Demand, y_hat.SES)"
   ]
  },
  {
   "cell_type": "code",
   "execution_count": 21,
   "metadata": {},
   "outputs": [
    {
     "name": "stdout",
     "output_type": "stream",
     "text": [
      "50098.43257821298\n"
     ]
    }
   ],
   "source": [
    "rms = sqrt(mean_squared_error(test.Demand, y_hat.SES))\n",
    "print(rms)"
   ]
  },
  {
   "cell_type": "code",
   "execution_count": 22,
   "metadata": {},
   "outputs": [
    {
     "name": "stdout",
     "output_type": "stream",
     "text": [
      "ConsumptionDate\n",
      "2019-05-01    0.092501\n",
      "2019-06-01    0.075718\n",
      "dtype: float64\n"
     ]
    },
    {
     "data": {
      "text/html": [
       "<div>\n",
       "<style scoped>\n",
       "    .dataframe tbody tr th:only-of-type {\n",
       "        vertical-align: middle;\n",
       "    }\n",
       "\n",
       "    .dataframe tbody tr th {\n",
       "        vertical-align: top;\n",
       "    }\n",
       "\n",
       "    .dataframe thead th {\n",
       "        text-align: right;\n",
       "    }\n",
       "</style>\n",
       "<table border=\"1\" class=\"dataframe\">\n",
       "  <thead>\n",
       "    <tr style=\"text-align: right;\">\n",
       "      <th></th>\n",
       "      <th>Feeder</th>\n",
       "      <th>naive-MSE</th>\n",
       "      <th>naive-MAE</th>\n",
       "      <th>naive-MAPE</th>\n",
       "      <th>SimpeAvg-MSE</th>\n",
       "      <th>SimpeAvg-MAE</th>\n",
       "      <th>SimpeAvg-MAPE</th>\n",
       "      <th>MovingAvg-MSE</th>\n",
       "      <th>MovingAvg-MAE</th>\n",
       "      <th>MovingAvg-MAPE</th>\n",
       "      <th>SES-MSE</th>\n",
       "      <th>SES-MAE</th>\n",
       "      <th>SES-MAPE</th>\n",
       "    </tr>\n",
       "    <tr>\n",
       "      <th>ConsumptionDate</th>\n",
       "      <th></th>\n",
       "      <th></th>\n",
       "      <th></th>\n",
       "      <th></th>\n",
       "      <th></th>\n",
       "      <th></th>\n",
       "      <th></th>\n",
       "      <th></th>\n",
       "      <th></th>\n",
       "      <th></th>\n",
       "      <th></th>\n",
       "      <th></th>\n",
       "      <th></th>\n",
       "    </tr>\n",
       "  </thead>\n",
       "  <tbody>\n",
       "    <tr>\n",
       "      <td>2019-05-01</td>\n",
       "      <td>Feeder_71</td>\n",
       "      <td>2.040386e+09</td>\n",
       "      <td>44844.25</td>\n",
       "      <td>7.57246</td>\n",
       "      <td>2.627368e+09</td>\n",
       "      <td>50970.475</td>\n",
       "      <td>8.608089</td>\n",
       "      <td>3.389832e+09</td>\n",
       "      <td>57969.416667</td>\n",
       "      <td>9.79125</td>\n",
       "      <td>2.509853e+09</td>\n",
       "      <td>49804.3556</td>\n",
       "      <td>8.410958</td>\n",
       "    </tr>\n",
       "  </tbody>\n",
       "</table>\n",
       "</div>"
      ],
      "text/plain": [
       "                    Feeder     naive-MSE  naive-MAE  naive-MAPE  SimpeAvg-MSE  \\\n",
       "ConsumptionDate                                                                 \n",
       "2019-05-01       Feeder_71  2.040386e+09   44844.25     7.57246  2.627368e+09   \n",
       "\n",
       "                 SimpeAvg-MAE  SimpeAvg-MAPE  MovingAvg-MSE  MovingAvg-MAE  \\\n",
       "ConsumptionDate                                                              \n",
       "2019-05-01          50970.475       8.608089   3.389832e+09   57969.416667   \n",
       "\n",
       "                 MovingAvg-MAPE       SES-MSE     SES-MAE  SES-MAPE  \n",
       "ConsumptionDate                                                      \n",
       "2019-05-01              9.79125  2.509853e+09  49804.3556  8.410958  "
      ]
     },
     "execution_count": 22,
     "metadata": {},
     "output_type": "execute_result"
    }
   ],
   "source": [
    "y_Result['SES-MSE'] = mean_squared_error(test.Demand, y_hat.SES)\n",
    "y_Result['SES-MAE'] = mean_absolute_error(test.Demand, y_hat.SES)\n",
    "y_Result['SES-MAPE'] = mean_absolute_percentage_error(test.Demand, y_hat.SES)\n",
    "y_Result"
   ]
  },
  {
   "cell_type": "markdown",
   "metadata": {},
   "source": [
    "### Holt’s Linear Trend method"
   ]
  },
  {
   "cell_type": "code",
   "execution_count": 23,
   "metadata": {},
   "outputs": [
    {
     "data": {
      "text/plain": [
       "<Figure size 1440x720 with 0 Axes>"
      ]
     },
     "execution_count": 23,
     "metadata": {},
     "output_type": "execute_result"
    },
    {
     "data": {
      "image/png": "[encoded data removed]",
      "text/plain": [
       "<Figure size 432x288 with 4 Axes>"
      ]
     },
     "execution_count": 23,
     "metadata": {},
     "output_type": "execute_result"
    },
    {
     "data": {
      "text/plain": [
       "<Figure size 1440x720 with 0 Axes>"
      ]
     },
     "metadata": {},
     "output_type": "display_data"
    },
    {
     "data": {
      "image/png": "[encoded data removed]",
      "text/plain": [
       "<Figure size 432x288 with 4 Axes>"
      ]
     },
     "metadata": {
      "needs_background": "light"
     },
     "output_type": "display_data"
    }
   ],
   "source": [
    "plt.figure(figsize=(20,10))\n",
    "sm.tsa.seasonal_decompose(train.Demand,freq=3).plot()\n",
    "result = sm.tsa.stattools.adfuller(train.Demand)\n",
    "plt.show()"
   ]
  },
  {
   "cell_type": "code",
   "execution_count": 24,
   "metadata": {},
   "outputs": [
    {
     "data": {
      "text/plain": [
       "<Figure size 1152x576 with 0 Axes>"
      ]
     },
     "execution_count": 24,
     "metadata": {},
     "output_type": "execute_result"
    },
    {
     "data": {
      "text/plain": [
       "[<matplotlib.lines.Line2D at 0x221281bbdc8>]"
      ]
     },
     "execution_count": 24,
     "metadata": {},
     "output_type": "execute_result"
    },
    {
     "data": {
      "text/plain": [
       "[<matplotlib.lines.Line2D at 0x22127a5f188>]"
      ]
     },
     "execution_count": 24,
     "metadata": {},
     "output_type": "execute_result"
    },
    {
     "data": {
      "text/plain": [
       "[<matplotlib.lines.Line2D at 0x221281d4f88>]"
      ]
     },
     "execution_count": 24,
     "metadata": {},
     "output_type": "execute_result"
    },
    {
     "data": {
      "text/plain": [
       "<matplotlib.legend.Legend at 0x221281d30c8>"
      ]
     },
     "execution_count": 24,
     "metadata": {},
     "output_type": "execute_result"
    },
    {
     "data": {
      "image/png": "[encoded data removed]",
      "text/plain": [
       "<Figure size 1152x576 with 1 Axes>"
      ]
     },
     "metadata": {
      "needs_background": "light"
     },
     "output_type": "display_data"
    }
   ],
   "source": [
    "#y_hat_avg = test.copy()\n",
    "\n",
    "fit1 = Holt(np.asarray(train['Demand'])).fit(smoothing_level = 0.3,smoothing_slope = 0.1)\n",
    "y_hat['Holt_linear'] = fit1.forecast(len(test))\n",
    "\n",
    "plt.figure(figsize=(16,8))\n",
    "plt.plot(train['Demand'], label='Train')\n",
    "plt.plot(test['Demand'], label='Test')\n",
    "plt.plot(y_hat['Holt_linear'], label='Holt_linear')\n",
    "plt.legend(loc='best')\n",
    "plt.show()"
   ]
  },
  {
   "cell_type": "code",
   "execution_count": 25,
   "metadata": {},
   "outputs": [
    {
     "name": "stdout",
     "output_type": "stream",
     "text": [
      "ConsumptionDate\n",
      "2019-05-01    0.095388\n",
      "2019-06-01    0.078998\n",
      "dtype: float64\n"
     ]
    },
    {
     "data": {
      "text/plain": [
       "8.719293842339873"
      ]
     },
     "execution_count": 25,
     "metadata": {},
     "output_type": "execute_result"
    },
    {
     "name": "stdout",
     "output_type": "stream",
     "text": [
      "51900.86152261967\n"
     ]
    }
   ],
   "source": [
    "rms = sqrt(mean_squared_error(test.Demand, y_hat.Holt_linear))\n",
    "mean_absolute_percentage_error(test.Demand, y_hat.Holt_linear)\n",
    "print(rms)"
   ]
  },
  {
   "cell_type": "code",
   "execution_count": 26,
   "metadata": {},
   "outputs": [
    {
     "name": "stdout",
     "output_type": "stream",
     "text": [
      "ConsumptionDate\n",
      "2019-05-01    0.095388\n",
      "2019-06-01    0.078998\n",
      "dtype: float64\n"
     ]
    },
    {
     "data": {
      "text/html": [
       "<div>\n",
       "<style scoped>\n",
       "    .dataframe tbody tr th:only-of-type {\n",
       "        vertical-align: middle;\n",
       "    }\n",
       "\n",
       "    .dataframe tbody tr th {\n",
       "        vertical-align: top;\n",
       "    }\n",
       "\n",
       "    .dataframe thead th {\n",
       "        text-align: right;\n",
       "    }\n",
       "</style>\n",
       "<table border=\"1\" class=\"dataframe\">\n",
       "  <thead>\n",
       "    <tr style=\"text-align: right;\">\n",
       "      <th></th>\n",
       "      <th>Feeder</th>\n",
       "      <th>naive-MSE</th>\n",
       "      <th>naive-MAE</th>\n",
       "      <th>naive-MAPE</th>\n",
       "      <th>SimpeAvg-MSE</th>\n",
       "      <th>SimpeAvg-MAE</th>\n",
       "      <th>SimpeAvg-MAPE</th>\n",
       "      <th>MovingAvg-MSE</th>\n",
       "      <th>MovingAvg-MAE</th>\n",
       "      <th>MovingAvg-MAPE</th>\n",
       "      <th>SES-MSE</th>\n",
       "      <th>SES-MAE</th>\n",
       "      <th>SES-MAPE</th>\n",
       "      <th>Holt_linear-MSE</th>\n",
       "      <th>Holt_linear-MAE</th>\n",
       "      <th>Holt_linear-MAPE</th>\n",
       "    </tr>\n",
       "    <tr>\n",
       "      <th>ConsumptionDate</th>\n",
       "      <th></th>\n",
       "      <th></th>\n",
       "      <th></th>\n",
       "      <th></th>\n",
       "      <th></th>\n",
       "      <th></th>\n",
       "      <th></th>\n",
       "      <th></th>\n",
       "      <th></th>\n",
       "      <th></th>\n",
       "      <th></th>\n",
       "      <th></th>\n",
       "      <th></th>\n",
       "      <th></th>\n",
       "      <th></th>\n",
       "      <th></th>\n",
       "    </tr>\n",
       "  </thead>\n",
       "  <tbody>\n",
       "    <tr>\n",
       "      <td>2019-05-01</td>\n",
       "      <td>Feeder_71</td>\n",
       "      <td>2.040386e+09</td>\n",
       "      <td>44844.25</td>\n",
       "      <td>7.57246</td>\n",
       "      <td>2.627368e+09</td>\n",
       "      <td>50970.475</td>\n",
       "      <td>8.608089</td>\n",
       "      <td>3.389832e+09</td>\n",
       "      <td>57969.416667</td>\n",
       "      <td>9.79125</td>\n",
       "      <td>2.509853e+09</td>\n",
       "      <td>49804.3556</td>\n",
       "      <td>8.410958</td>\n",
       "      <td>2.693699e+09</td>\n",
       "      <td>51627.392121</td>\n",
       "      <td>8.719294</td>\n",
       "    </tr>\n",
       "  </tbody>\n",
       "</table>\n",
       "</div>"
      ],
      "text/plain": [
       "                    Feeder     naive-MSE  naive-MAE  naive-MAPE  SimpeAvg-MSE  \\\n",
       "ConsumptionDate                                                                 \n",
       "2019-05-01       Feeder_71  2.040386e+09   44844.25     7.57246  2.627368e+09   \n",
       "\n",
       "                 SimpeAvg-MAE  SimpeAvg-MAPE  MovingAvg-MSE  MovingAvg-MAE  \\\n",
       "ConsumptionDate                                                              \n",
       "2019-05-01          50970.475       8.608089   3.389832e+09   57969.416667   \n",
       "\n",
       "                 MovingAvg-MAPE       SES-MSE     SES-MAE  SES-MAPE  \\\n",
       "ConsumptionDate                                                       \n",
       "2019-05-01              9.79125  2.509853e+09  49804.3556  8.410958   \n",
       "\n",
       "                 Holt_linear-MSE  Holt_linear-MAE  Holt_linear-MAPE  \n",
       "ConsumptionDate                                                      \n",
       "2019-05-01          2.693699e+09     51627.392121          8.719294  "
      ]
     },
     "execution_count": 26,
     "metadata": {},
     "output_type": "execute_result"
    }
   ],
   "source": [
    "y_Result['Holt_linear-MSE'] = mean_squared_error(test.Demand, y_hat.Holt_linear)\n",
    "y_Result['Holt_linear-MAE'] = mean_absolute_error(test.Demand, y_hat.Holt_linear)\n",
    "y_Result['Holt_linear-MAPE'] = mean_absolute_percentage_error(test.Demand, y_hat.Holt_linear)\n",
    "y_Result"
   ]
  },
  {
   "cell_type": "markdown",
   "metadata": {},
   "source": [
    "### Holt-Winters method"
   ]
  },
  {
   "cell_type": "code",
   "execution_count": 27,
   "metadata": {},
   "outputs": [
    {
     "name": "stderr",
     "output_type": "stream",
     "text": [
      "C:\\Users\\kiran\\Anaconda3\\envs\\TimeSeries\\lib\\site-packages\\statsmodels\\tsa\\holtwinters.py:712: ConvergenceWarning: Optimization failed to converge. Check mle_retvals.\n",
      "  ConvergenceWarning)\n"
     ]
    },
    {
     "data": {
      "text/plain": [
       "<Figure size 1152x576 with 0 Axes>"
      ]
     },
     "execution_count": 27,
     "metadata": {},
     "output_type": "execute_result"
    },
    {
     "data": {
      "text/plain": [
       "[<matplotlib.lines.Line2D at 0x221279735c8>]"
      ]
     },
     "execution_count": 27,
     "metadata": {},
     "output_type": "execute_result"
    },
    {
     "data": {
      "text/plain": [
       "[<matplotlib.lines.Line2D at 0x22128192648>]"
      ]
     },
     "execution_count": 27,
     "metadata": {},
     "output_type": "execute_result"
    },
    {
     "data": {
      "text/plain": [
       "[<matplotlib.lines.Line2D at 0x221282b5c08>]"
      ]
     },
     "execution_count": 27,
     "metadata": {},
     "output_type": "execute_result"
    },
    {
     "data": {
      "text/plain": [
       "<matplotlib.legend.Legend at 0x221282b5f08>"
      ]
     },
     "execution_count": 27,
     "metadata": {},
     "output_type": "execute_result"
    },
    {
     "data": {
      "image/png": "[encoded data removed]",
      "text/plain": [
       "<Figure size 1152x576 with 1 Axes>"
      ]
     },
     "metadata": {
      "needs_background": "light"
     },
     "output_type": "display_data"
    }
   ],
   "source": [
    "#y_hat_avg = test.copy()\n",
    "fit1 = ExponentialSmoothing(np.asarray(train['Demand']) ,seasonal_periods=3 ,trend='add', seasonal='add',).fit()\n",
    "y_hat['Holt_Winter'] = fit1.forecast(len(test))\n",
    "plt.figure(figsize=(16,8))\n",
    "plt.plot( train['Demand'], label='Train')\n",
    "plt.plot(test['Demand'], label='Test')\n",
    "plt.plot(y_hat['Holt_Winter'], label='Holt_Winter')\n",
    "plt.legend(loc='best')\n",
    "plt.show()"
   ]
  },
  {
   "cell_type": "code",
   "execution_count": 28,
   "metadata": {},
   "outputs": [
    {
     "name": "stdout",
     "output_type": "stream",
     "text": [
      "ConsumptionDate\n",
      "2019-05-01    0.156254\n",
      "2019-06-01    0.126755\n",
      "dtype: float64\n"
     ]
    },
    {
     "data": {
      "text/plain": [
       "14.150452903585192"
      ]
     },
     "execution_count": 28,
     "metadata": {},
     "output_type": "execute_result"
    },
    {
     "name": "stdout",
     "output_type": "stream",
     "text": [
      "84329.42790030029\n"
     ]
    }
   ],
   "source": [
    "rms = sqrt(mean_squared_error(test.Demand, y_hat.Holt_Winter))\n",
    "mean_absolute_percentage_error(test.Demand, y_hat.Holt_Winter)\n",
    "print(rms)"
   ]
  },
  {
   "cell_type": "code",
   "execution_count": 29,
   "metadata": {},
   "outputs": [
    {
     "name": "stdout",
     "output_type": "stream",
     "text": [
      "ConsumptionDate\n",
      "2019-05-01    0.156254\n",
      "2019-06-01    0.126755\n",
      "dtype: float64\n"
     ]
    },
    {
     "data": {
      "text/html": [
       "<div>\n",
       "<style scoped>\n",
       "    .dataframe tbody tr th:only-of-type {\n",
       "        vertical-align: middle;\n",
       "    }\n",
       "\n",
       "    .dataframe tbody tr th {\n",
       "        vertical-align: top;\n",
       "    }\n",
       "\n",
       "    .dataframe thead th {\n",
       "        text-align: right;\n",
       "    }\n",
       "</style>\n",
       "<table border=\"1\" class=\"dataframe\">\n",
       "  <thead>\n",
       "    <tr style=\"text-align: right;\">\n",
       "      <th></th>\n",
       "      <th>Feeder</th>\n",
       "      <th>naive-MSE</th>\n",
       "      <th>naive-MAE</th>\n",
       "      <th>naive-MAPE</th>\n",
       "      <th>SimpeAvg-MSE</th>\n",
       "      <th>SimpeAvg-MAE</th>\n",
       "      <th>SimpeAvg-MAPE</th>\n",
       "      <th>MovingAvg-MSE</th>\n",
       "      <th>MovingAvg-MAE</th>\n",
       "      <th>MovingAvg-MAPE</th>\n",
       "      <th>SES-MSE</th>\n",
       "      <th>SES-MAE</th>\n",
       "      <th>SES-MAPE</th>\n",
       "      <th>Holt_linear-MSE</th>\n",
       "      <th>Holt_linear-MAE</th>\n",
       "      <th>Holt_linear-MAPE</th>\n",
       "      <th>Holt_Winter-MSE</th>\n",
       "      <th>Holt_Winter-MAE</th>\n",
       "      <th>Holt_Winter-MAPE</th>\n",
       "    </tr>\n",
       "    <tr>\n",
       "      <th>ConsumptionDate</th>\n",
       "      <th></th>\n",
       "      <th></th>\n",
       "      <th></th>\n",
       "      <th></th>\n",
       "      <th></th>\n",
       "      <th></th>\n",
       "      <th></th>\n",
       "      <th></th>\n",
       "      <th></th>\n",
       "      <th></th>\n",
       "      <th></th>\n",
       "      <th></th>\n",
       "      <th></th>\n",
       "      <th></th>\n",
       "      <th></th>\n",
       "      <th></th>\n",
       "      <th></th>\n",
       "      <th></th>\n",
       "      <th></th>\n",
       "    </tr>\n",
       "  </thead>\n",
       "  <tbody>\n",
       "    <tr>\n",
       "      <td>2019-05-01</td>\n",
       "      <td>Feeder_71</td>\n",
       "      <td>2.040386e+09</td>\n",
       "      <td>44844.25</td>\n",
       "      <td>7.57246</td>\n",
       "      <td>2.627368e+09</td>\n",
       "      <td>50970.475</td>\n",
       "      <td>8.608089</td>\n",
       "      <td>3.389832e+09</td>\n",
       "      <td>57969.416667</td>\n",
       "      <td>9.79125</td>\n",
       "      <td>2.509853e+09</td>\n",
       "      <td>49804.3556</td>\n",
       "      <td>8.410958</td>\n",
       "      <td>2.693699e+09</td>\n",
       "      <td>51627.392121</td>\n",
       "      <td>8.719294</td>\n",
       "      <td>7.111452e+09</td>\n",
       "      <td>83793.425104</td>\n",
       "      <td>14.150453</td>\n",
       "    </tr>\n",
       "  </tbody>\n",
       "</table>\n",
       "</div>"
      ],
      "text/plain": [
       "                    Feeder     naive-MSE  naive-MAE  naive-MAPE  SimpeAvg-MSE  \\\n",
       "ConsumptionDate                                                                 \n",
       "2019-05-01       Feeder_71  2.040386e+09   44844.25     7.57246  2.627368e+09   \n",
       "\n",
       "                 SimpeAvg-MAE  SimpeAvg-MAPE  MovingAvg-MSE  MovingAvg-MAE  \\\n",
       "ConsumptionDate                                                              \n",
       "2019-05-01          50970.475       8.608089   3.389832e+09   57969.416667   \n",
       "\n",
       "                 MovingAvg-MAPE       SES-MSE     SES-MAE  SES-MAPE  \\\n",
       "ConsumptionDate                                                       \n",
       "2019-05-01              9.79125  2.509853e+09  49804.3556  8.410958   \n",
       "\n",
       "                 Holt_linear-MSE  Holt_linear-MAE  Holt_linear-MAPE  \\\n",
       "ConsumptionDate                                                       \n",
       "2019-05-01          2.693699e+09     51627.392121          8.719294   \n",
       "\n",
       "                 Holt_Winter-MSE  Holt_Winter-MAE  Holt_Winter-MAPE  \n",
       "ConsumptionDate                                                      \n",
       "2019-05-01          7.111452e+09     83793.425104         14.150453  "
      ]
     },
     "execution_count": 29,
     "metadata": {},
     "output_type": "execute_result"
    }
   ],
   "source": [
    "y_Result['Holt_Winter-MSE'] = mean_squared_error(test.Demand, y_hat.Holt_Winter)\n",
    "y_Result['Holt_Winter-MAE'] = mean_absolute_error(test.Demand, y_hat.Holt_Winter)\n",
    "y_Result['Holt_Winter-MAPE'] = mean_absolute_percentage_error(test.Demand, y_hat.Holt_Winter)\n",
    "y_Result"
   ]
  },
  {
   "cell_type": "markdown",
   "metadata": {},
   "source": [
    "### ARIMA method"
   ]
  },
  {
   "cell_type": "code",
   "execution_count": 30,
   "metadata": {},
   "outputs": [
    {
     "name": "stderr",
     "output_type": "stream",
     "text": [
      "C:\\Users\\kiran\\Anaconda3\\envs\\TimeSeries\\lib\\site-packages\\statsmodels\\tsa\\base\\tsa_model.py:165: ValueWarning: No frequency information was provided, so inferred frequency MS will be used.\n",
      "  % freq, ValueWarning)\n"
     ]
    }
   ],
   "source": [
    "#y_hat = test.copy()\n",
    "fit1 = sm.tsa.statespace.SARIMAX(train.Demand, order=(0, 0, 0)).fit()\n",
    "y_hat['SARIMA'] = fit1.predict(start=\"2019-5-1\", end=\"2019-6-1\", dynamic=True)"
   ]
  },
  {
   "cell_type": "code",
   "execution_count": 31,
   "metadata": {},
   "outputs": [
    {
     "data": {
      "text/html": [
       "<div>\n",
       "<style scoped>\n",
       "    .dataframe tbody tr th:only-of-type {\n",
       "        vertical-align: middle;\n",
       "    }\n",
       "\n",
       "    .dataframe tbody tr th {\n",
       "        vertical-align: top;\n",
       "    }\n",
       "\n",
       "    .dataframe thead th {\n",
       "        text-align: right;\n",
       "    }\n",
       "</style>\n",
       "<table border=\"1\" class=\"dataframe\">\n",
       "  <thead>\n",
       "    <tr style=\"text-align: right;\">\n",
       "      <th></th>\n",
       "      <th>Feeder</th>\n",
       "      <th>Demand</th>\n",
       "      <th>Revenue</th>\n",
       "      <th>naive</th>\n",
       "      <th>avg_forecast</th>\n",
       "      <th>moving_avg_forecast</th>\n",
       "      <th>SES</th>\n",
       "      <th>Holt_linear</th>\n",
       "      <th>Holt_Winter</th>\n",
       "      <th>SARIMA</th>\n",
       "    </tr>\n",
       "    <tr>\n",
       "      <th>ConsumptionDate</th>\n",
       "      <th></th>\n",
       "      <th></th>\n",
       "      <th></th>\n",
       "      <th></th>\n",
       "      <th></th>\n",
       "      <th></th>\n",
       "      <th></th>\n",
       "      <th></th>\n",
       "      <th></th>\n",
       "      <th></th>\n",
       "    </tr>\n",
       "  </thead>\n",
       "  <tbody>\n",
       "    <tr>\n",
       "      <td>2019-05-01</td>\n",
       "      <td>Feeder_71</td>\n",
       "      <td>597016.0</td>\n",
       "      <td>5591421.21</td>\n",
       "      <td>546751.5</td>\n",
       "      <td>540625.275</td>\n",
       "      <td>533626.333333</td>\n",
       "      <td>541791.3944</td>\n",
       "      <td>540067.723591</td>\n",
       "      <td>503729.718670</td>\n",
       "      <td>0.0</td>\n",
       "    </tr>\n",
       "    <tr>\n",
       "      <td>2019-06-01</td>\n",
       "      <td>Feeder_71</td>\n",
       "      <td>586175.5</td>\n",
       "      <td>5797914.48</td>\n",
       "      <td>546751.5</td>\n",
       "      <td>540625.275</td>\n",
       "      <td>533626.333333</td>\n",
       "      <td>541791.3944</td>\n",
       "      <td>539868.992168</td>\n",
       "      <td>511874.931122</td>\n",
       "      <td>0.0</td>\n",
       "    </tr>\n",
       "  </tbody>\n",
       "</table>\n",
       "</div>"
      ],
      "text/plain": [
       "                    Feeder    Demand     Revenue     naive  avg_forecast  \\\n",
       "ConsumptionDate                                                            \n",
       "2019-05-01       Feeder_71  597016.0  5591421.21  546751.5    540625.275   \n",
       "2019-06-01       Feeder_71  586175.5  5797914.48  546751.5    540625.275   \n",
       "\n",
       "                 moving_avg_forecast          SES    Holt_linear  \\\n",
       "ConsumptionDate                                                    \n",
       "2019-05-01             533626.333333  541791.3944  540067.723591   \n",
       "2019-06-01             533626.333333  541791.3944  539868.992168   \n",
       "\n",
       "                   Holt_Winter  SARIMA  \n",
       "ConsumptionDate                         \n",
       "2019-05-01       503729.718670     0.0  \n",
       "2019-06-01       511874.931122     0.0  "
      ]
     },
     "execution_count": 31,
     "metadata": {},
     "output_type": "execute_result"
    }
   ],
   "source": [
    "y_hat"
   ]
  },
  {
   "cell_type": "code",
   "execution_count": 32,
   "metadata": {},
   "outputs": [
    {
     "data": {
      "text/plain": [
       "<Figure size 1152x576 with 0 Axes>"
      ]
     },
     "execution_count": 32,
     "metadata": {},
     "output_type": "execute_result"
    },
    {
     "data": {
      "text/plain": [
       "[<matplotlib.lines.Line2D at 0x22129690d48>]"
      ]
     },
     "execution_count": 32,
     "metadata": {},
     "output_type": "execute_result"
    },
    {
     "data": {
      "text/plain": [
       "[<matplotlib.lines.Line2D at 0x221282af488>]"
      ]
     },
     "execution_count": 32,
     "metadata": {},
     "output_type": "execute_result"
    },
    {
     "data": {
      "text/plain": [
       "[<matplotlib.lines.Line2D at 0x221296c6408>]"
      ]
     },
     "execution_count": 32,
     "metadata": {},
     "output_type": "execute_result"
    },
    {
     "data": {
      "text/plain": [
       "<matplotlib.legend.Legend at 0x221296c0a88>"
      ]
     },
     "execution_count": 32,
     "metadata": {},
     "output_type": "execute_result"
    },
    {
     "data": {
      "image/png": "[encoded data removed]",
      "text/plain": [
       "<Figure size 1152x576 with 1 Axes>"
      ]
     },
     "metadata": {
      "needs_background": "light"
     },
     "output_type": "display_data"
    }
   ],
   "source": [
    "plt.figure(figsize=(16,8))\n",
    "plt.plot( train['Demand'], label='Train')\n",
    "plt.plot(test['Demand'], label='Test')\n",
    "plt.plot(y_hat['SARIMA'], label='SARIMA')\n",
    "plt.legend(loc='best')\n",
    "plt.show()"
   ]
  },
  {
   "cell_type": "code",
   "execution_count": 33,
   "metadata": {},
   "outputs": [
    {
     "name": "stdout",
     "output_type": "stream",
     "text": [
      "ConsumptionDate\n",
      "2019-05-01    1.0\n",
      "2019-06-01    1.0\n",
      "dtype: float64\n"
     ]
    },
    {
     "data": {
      "text/plain": [
       "100.0"
      ]
     },
     "execution_count": 33,
     "metadata": {},
     "output_type": "execute_result"
    },
    {
     "name": "stdout",
     "output_type": "stream",
     "text": [
      "591620.5798720367\n"
     ]
    }
   ],
   "source": [
    "rms = sqrt(mean_squared_error(test.Demand, y_hat.SARIMA))\n",
    "\n",
    "mean_absolute_percentage_error(test.Demand, y_hat.SARIMA)\n",
    "print(rms)"
   ]
  },
  {
   "cell_type": "code",
   "execution_count": 34,
   "metadata": {},
   "outputs": [
    {
     "name": "stdout",
     "output_type": "stream",
     "text": [
      "ConsumptionDate\n",
      "2019-05-01    1.0\n",
      "2019-06-01    1.0\n",
      "dtype: float64\n"
     ]
    },
    {
     "data": {
      "text/html": [
       "<div>\n",
       "<style scoped>\n",
       "    .dataframe tbody tr th:only-of-type {\n",
       "        vertical-align: middle;\n",
       "    }\n",
       "\n",
       "    .dataframe tbody tr th {\n",
       "        vertical-align: top;\n",
       "    }\n",
       "\n",
       "    .dataframe thead th {\n",
       "        text-align: right;\n",
       "    }\n",
       "</style>\n",
       "<table border=\"1\" class=\"dataframe\">\n",
       "  <thead>\n",
       "    <tr style=\"text-align: right;\">\n",
       "      <th></th>\n",
       "      <th>Feeder</th>\n",
       "      <th>naive-MSE</th>\n",
       "      <th>naive-MAE</th>\n",
       "      <th>naive-MAPE</th>\n",
       "      <th>SimpeAvg-MSE</th>\n",
       "      <th>SimpeAvg-MAE</th>\n",
       "      <th>SimpeAvg-MAPE</th>\n",
       "      <th>MovingAvg-MSE</th>\n",
       "      <th>MovingAvg-MAE</th>\n",
       "      <th>MovingAvg-MAPE</th>\n",
       "      <th>...</th>\n",
       "      <th>SES-MAPE</th>\n",
       "      <th>Holt_linear-MSE</th>\n",
       "      <th>Holt_linear-MAE</th>\n",
       "      <th>Holt_linear-MAPE</th>\n",
       "      <th>Holt_Winter-MSE</th>\n",
       "      <th>Holt_Winter-MAE</th>\n",
       "      <th>Holt_Winter-MAPE</th>\n",
       "      <th>SARIMA-MSE</th>\n",
       "      <th>SARIMA-MAE</th>\n",
       "      <th>SARIMA-MAPE</th>\n",
       "    </tr>\n",
       "    <tr>\n",
       "      <th>ConsumptionDate</th>\n",
       "      <th></th>\n",
       "      <th></th>\n",
       "      <th></th>\n",
       "      <th></th>\n",
       "      <th></th>\n",
       "      <th></th>\n",
       "      <th></th>\n",
       "      <th></th>\n",
       "      <th></th>\n",
       "      <th></th>\n",
       "      <th></th>\n",
       "      <th></th>\n",
       "      <th></th>\n",
       "      <th></th>\n",
       "      <th></th>\n",
       "      <th></th>\n",
       "      <th></th>\n",
       "      <th></th>\n",
       "      <th></th>\n",
       "      <th></th>\n",
       "      <th></th>\n",
       "    </tr>\n",
       "  </thead>\n",
       "  <tbody>\n",
       "    <tr>\n",
       "      <td>2019-05-01</td>\n",
       "      <td>Feeder_71</td>\n",
       "      <td>2.040386e+09</td>\n",
       "      <td>44844.25</td>\n",
       "      <td>7.57246</td>\n",
       "      <td>2.627368e+09</td>\n",
       "      <td>50970.475</td>\n",
       "      <td>8.608089</td>\n",
       "      <td>3.389832e+09</td>\n",
       "      <td>57969.416667</td>\n",
       "      <td>9.79125</td>\n",
       "      <td>...</td>\n",
       "      <td>8.410958</td>\n",
       "      <td>2.693699e+09</td>\n",
       "      <td>51627.392121</td>\n",
       "      <td>8.719294</td>\n",
       "      <td>7.111452e+09</td>\n",
       "      <td>83793.425104</td>\n",
       "      <td>14.150453</td>\n",
       "      <td>3.500149e+11</td>\n",
       "      <td>591595.75</td>\n",
       "      <td>100.0</td>\n",
       "    </tr>\n",
       "  </tbody>\n",
       "</table>\n",
       "<p>1 rows × 22 columns</p>\n",
       "</div>"
      ],
      "text/plain": [
       "                    Feeder     naive-MSE  naive-MAE  naive-MAPE  SimpeAvg-MSE  \\\n",
       "ConsumptionDate                                                                 \n",
       "2019-05-01       Feeder_71  2.040386e+09   44844.25     7.57246  2.627368e+09   \n",
       "\n",
       "                 SimpeAvg-MAE  SimpeAvg-MAPE  MovingAvg-MSE  MovingAvg-MAE  \\\n",
       "ConsumptionDate                                                              \n",
       "2019-05-01          50970.475       8.608089   3.389832e+09   57969.416667   \n",
       "\n",
       "                 MovingAvg-MAPE  ...  SES-MAPE  Holt_linear-MSE  \\\n",
       "ConsumptionDate                  ...                              \n",
       "2019-05-01              9.79125  ...  8.410958     2.693699e+09   \n",
       "\n",
       "                 Holt_linear-MAE  Holt_linear-MAPE  Holt_Winter-MSE  \\\n",
       "ConsumptionDate                                                       \n",
       "2019-05-01          51627.392121          8.719294     7.111452e+09   \n",
       "\n",
       "                 Holt_Winter-MAE  Holt_Winter-MAPE    SARIMA-MSE  SARIMA-MAE  \\\n",
       "ConsumptionDate                                                                \n",
       "2019-05-01          83793.425104         14.150453  3.500149e+11   591595.75   \n",
       "\n",
       "                 SARIMA-MAPE  \n",
       "ConsumptionDate               \n",
       "2019-05-01             100.0  \n",
       "\n",
       "[1 rows x 22 columns]"
      ]
     },
     "execution_count": 34,
     "metadata": {},
     "output_type": "execute_result"
    }
   ],
   "source": [
    "y_Result['SARIMA-MSE'] = mean_squared_error(test.Demand, y_hat.SARIMA)\n",
    "y_Result['SARIMA-MAE'] = mean_absolute_error(test.Demand, y_hat.SARIMA)\n",
    "y_Result['SARIMA-MAPE'] = mean_absolute_percentage_error(test.Demand, y_hat.SARIMA)\n",
    "y_Result"
   ]
  },
  {
   "cell_type": "markdown",
   "metadata": {},
   "source": [
    "### Auto ARIMA method"
   ]
  },
  {
   "cell_type": "code",
   "execution_count": 35,
   "metadata": {},
   "outputs": [
    {
     "name": "stderr",
     "output_type": "stream",
     "text": [
      "C:\\Users\\kiran\\Anaconda3\\envs\\TimeSeries\\lib\\site-packages\\sklearn\\externals\\six.py:31: DeprecationWarning: The module is deprecated in version 0.21 and will be removed in version 0.23 since we've dropped support for Python 2.7. Please rely on the official version of six (https://pypi.org/project/six/).\n",
      "  \"(https://pypi.org/project/six/).\", DeprecationWarning)\n",
      "C:\\Users\\kiran\\Anaconda3\\envs\\TimeSeries\\lib\\site-packages\\sklearn\\externals\\joblib\\__init__.py:15: DeprecationWarning: sklearn.externals.joblib is deprecated in 0.21 and will be removed in 0.23. Please import this functionality directly from joblib, which can be installed with: pip install joblib. If this warning is raised when loading pickled models, you may need to re-serialize those models with scikit-learn 0.21+.\n",
      "  warnings.warn(msg, category=DeprecationWarning)\n"
     ]
    }
   ],
   "source": [
    "import pmdarima as pm"
   ]
  },
  {
   "cell_type": "code",
   "execution_count": 36,
   "metadata": {},
   "outputs": [
    {
     "name": "stderr",
     "output_type": "stream",
     "text": [
      "C:\\Users\\kiran\\Anaconda3\\envs\\TimeSeries\\lib\\site-packages\\statsmodels\\tsa\\ar_model.py:763: RuntimeWarning: divide by zero encountered in log\n",
      "  return np.log(self.sigma2) + (1 + self.df_model) * np.log(nobs)/nobs\n",
      "C:\\Users\\kiran\\Anaconda3\\envs\\TimeSeries\\lib\\site-packages\\pmdarima\\arima\\_auto_solvers.py:207: ModelFitWarning: Unable to fit ARIMA for order=(1, 0, 1); data is likely non-stationary. (if you do not want to see these warnings, run with error_action=\"ignore\")\n",
      "  ModelFitWarning)\n",
      "C:\\Users\\kiran\\Anaconda3\\envs\\TimeSeries\\lib\\site-packages\\statsmodels\\tsa\\tsatools.py:695: RuntimeWarning: divide by zero encountered in true_divide\n",
      "  invmacoefs = -np.log((1-macoefs)/(1+macoefs))\n",
      "C:\\Users\\kiran\\Anaconda3\\envs\\TimeSeries\\lib\\site-packages\\statsmodels\\tsa\\tsatools.py:668: RuntimeWarning: invalid value encountered in true_divide\n",
      "  newparams = ((1-np.exp(-params))/(1+np.exp(-params))).copy()\n",
      "C:\\Users\\kiran\\Anaconda3\\envs\\TimeSeries\\lib\\site-packages\\statsmodels\\tsa\\tsatools.py:669: RuntimeWarning: invalid value encountered in true_divide\n",
      "  tmp = ((1-np.exp(-params))/(1+np.exp(-params))).copy()\n",
      "C:\\Users\\kiran\\Anaconda3\\envs\\TimeSeries\\lib\\site-packages\\statsmodels\\tsa\\kalmanf\\kalmanfilter.py:225: RuntimeWarning: invalid value encountered in log\n",
      "  Z_mat.astype(complex), R_mat, T_mat)\n",
      "C:\\Users\\kiran\\Anaconda3\\envs\\TimeSeries\\lib\\site-packages\\statsmodels\\tsa\\kalmanf\\kalmanfilter.py:225: RuntimeWarning: invalid value encountered in true_divide\n",
      "  Z_mat.astype(complex), R_mat, T_mat)\n",
      "C:\\Users\\kiran\\Anaconda3\\envs\\TimeSeries\\lib\\site-packages\\statsmodels\\tools\\numdiff.py:243: RuntimeWarning: invalid value encountered in add\n",
      "  **kwargs)).imag/2./hess[i, j]\n",
      "C:\\Users\\kiran\\Anaconda3\\envs\\TimeSeries\\lib\\site-packages\\statsmodels\\tools\\numdiff.py:243: RuntimeWarning: invalid value encountered in multiply\n",
      "  **kwargs)).imag/2./hess[i, j]\n",
      "C:\\Users\\kiran\\Anaconda3\\envs\\TimeSeries\\lib\\site-packages\\statsmodels\\base\\model.py:492: HessianInversionWarning: Inverting hessian failed, no bse or cov_params available\n",
      "  'available', HessianInversionWarning)\n",
      "C:\\Users\\kiran\\Anaconda3\\envs\\TimeSeries\\lib\\site-packages\\statsmodels\\base\\model.py:512: ConvergenceWarning: Maximum Likelihood optimization failed to converge. Check mle_retvals\n",
      "  \"Check mle_retvals\", ConvergenceWarning)\n"
     ]
    }
   ],
   "source": [
    "# Fit your model\n",
    "model = pm.auto_arima(train.Demand, seasonal=False)"
   ]
  },
  {
   "cell_type": "code",
   "execution_count": 37,
   "metadata": {},
   "outputs": [
    {
     "data": {
      "text/plain": [
       "2"
      ]
     },
     "execution_count": 37,
     "metadata": {},
     "output_type": "execute_result"
    }
   ],
   "source": [
    "# make your forecasts\n",
    "test.shape[0]"
   ]
  },
  {
   "cell_type": "code",
   "execution_count": 38,
   "metadata": {},
   "outputs": [],
   "source": [
    "forecasts = model.predict(test.shape[0])  # predict N steps into the future"
   ]
  },
  {
   "cell_type": "code",
   "execution_count": 39,
   "metadata": {},
   "outputs": [
    {
     "data": {
      "text/plain": [
       "array([0, 1, 2, 3, 4])"
      ]
     },
     "execution_count": 39,
     "metadata": {},
     "output_type": "execute_result"
    }
   ],
   "source": [
    "# Visualize the forecasts (blue=train, green=forecasts)\n",
    "x = np.arange(dfFeederData.shape[0]-1)\n",
    "x"
   ]
  },
  {
   "cell_type": "code",
   "execution_count": 40,
   "metadata": {},
   "outputs": [],
   "source": [
    "forecasts = pd.DataFrame(forecasts,index = test.index,columns=['Prediction'])\n",
    "y_hat['AutoARIMA'] = forecasts"
   ]
  },
  {
   "cell_type": "code",
   "execution_count": 41,
   "metadata": {},
   "outputs": [
    {
     "data": {
      "text/plain": [
       "<Figure size 1440x720 with 0 Axes>"
      ]
     },
     "execution_count": 41,
     "metadata": {},
     "output_type": "execute_result"
    },
    {
     "data": {
      "text/plain": [
       "<matplotlib.axes._subplots.AxesSubplot at 0x22129b02a48>"
      ]
     },
     "execution_count": 41,
     "metadata": {},
     "output_type": "execute_result"
    },
    {
     "data": {
      "text/plain": [
       "<matplotlib.axes._subplots.AxesSubplot at 0x22129b5b108>"
      ]
     },
     "execution_count": 41,
     "metadata": {},
     "output_type": "execute_result"
    },
    {
     "data": {
      "text/plain": [
       "<Figure size 1440x720 with 0 Axes>"
      ]
     },
     "metadata": {},
     "output_type": "display_data"
    },
    {
     "data": {
      "image/png": "[encoded data removed]",
      "text/plain": [
       "<Figure size 432x288 with 1 Axes>"
      ]
     },
     "metadata": {
      "needs_background": "light"
     },
     "output_type": "display_data"
    },
    {
     "data": {
      "image/png": "[encoded data removed]",
      "text/plain": [
       "<Figure size 432x288 with 1 Axes>"
      ]
     },
     "metadata": {
      "needs_background": "light"
     },
     "output_type": "display_data"
    }
   ],
   "source": [
    "#plt.plot(test.Demand, c='blue')\n",
    "#plt.plot(forecasts, c='green')\n",
    "plt.figure(figsize = (20,10))\n",
    "pd.DataFrame(test.Demand).plot()\n",
    "pd.DataFrame(forecasts).plot()\n",
    "plt.show()"
   ]
  },
  {
   "cell_type": "code",
   "execution_count": 42,
   "metadata": {},
   "outputs": [
    {
     "name": "stdout",
     "output_type": "stream",
     "text": [
      "ConsumptionDate\n",
      "2019-05-01    0.094454\n",
      "2019-06-01    0.077707\n",
      "dtype: float64\n"
     ]
    },
    {
     "data": {
      "text/plain": [
       "8.608089063942451"
      ]
     },
     "execution_count": 42,
     "metadata": {},
     "output_type": "execute_result"
    },
    {
     "data": {
      "text/plain": [
       "51257.86214609543"
      ]
     },
     "execution_count": 42,
     "metadata": {},
     "output_type": "execute_result"
    }
   ],
   "source": [
    "rms=np.sqrt(np.mean(np.power((np.array(test.Demand)-np.array(forecasts['Prediction'])),2)))\n",
    "mean_absolute_percentage_error(test.Demand, forecasts['Prediction'])\n",
    "rms"
   ]
  },
  {
   "cell_type": "code",
   "execution_count": 43,
   "metadata": {},
   "outputs": [
    {
     "name": "stdout",
     "output_type": "stream",
     "text": [
      "ConsumptionDate\n",
      "2019-05-01    0.094454\n",
      "2019-06-01    0.077707\n",
      "dtype: float64\n"
     ]
    },
    {
     "data": {
      "text/html": [
       "<div>\n",
       "<style scoped>\n",
       "    .dataframe tbody tr th:only-of-type {\n",
       "        vertical-align: middle;\n",
       "    }\n",
       "\n",
       "    .dataframe tbody tr th {\n",
       "        vertical-align: top;\n",
       "    }\n",
       "\n",
       "    .dataframe thead th {\n",
       "        text-align: right;\n",
       "    }\n",
       "</style>\n",
       "<table border=\"1\" class=\"dataframe\">\n",
       "  <thead>\n",
       "    <tr style=\"text-align: right;\">\n",
       "      <th></th>\n",
       "      <th>Feeder</th>\n",
       "      <th>naive-MSE</th>\n",
       "      <th>naive-MAE</th>\n",
       "      <th>naive-MAPE</th>\n",
       "      <th>SimpeAvg-MSE</th>\n",
       "      <th>SimpeAvg-MAE</th>\n",
       "      <th>SimpeAvg-MAPE</th>\n",
       "      <th>MovingAvg-MSE</th>\n",
       "      <th>MovingAvg-MAE</th>\n",
       "      <th>MovingAvg-MAPE</th>\n",
       "      <th>...</th>\n",
       "      <th>Holt_linear-MAPE</th>\n",
       "      <th>Holt_Winter-MSE</th>\n",
       "      <th>Holt_Winter-MAE</th>\n",
       "      <th>Holt_Winter-MAPE</th>\n",
       "      <th>SARIMA-MSE</th>\n",
       "      <th>SARIMA-MAE</th>\n",
       "      <th>SARIMA-MAPE</th>\n",
       "      <th>AutoARIMA-MSE</th>\n",
       "      <th>AutoARIMA-MAE</th>\n",
       "      <th>AutoARIMA-MAPE</th>\n",
       "    </tr>\n",
       "    <tr>\n",
       "      <th>ConsumptionDate</th>\n",
       "      <th></th>\n",
       "      <th></th>\n",
       "      <th></th>\n",
       "      <th></th>\n",
       "      <th></th>\n",
       "      <th></th>\n",
       "      <th></th>\n",
       "      <th></th>\n",
       "      <th></th>\n",
       "      <th></th>\n",
       "      <th></th>\n",
       "      <th></th>\n",
       "      <th></th>\n",
       "      <th></th>\n",
       "      <th></th>\n",
       "      <th></th>\n",
       "      <th></th>\n",
       "      <th></th>\n",
       "      <th></th>\n",
       "      <th></th>\n",
       "      <th></th>\n",
       "    </tr>\n",
       "  </thead>\n",
       "  <tbody>\n",
       "    <tr>\n",
       "      <td>2019-05-01</td>\n",
       "      <td>Feeder_71</td>\n",
       "      <td>2.040386e+09</td>\n",
       "      <td>44844.25</td>\n",
       "      <td>7.57246</td>\n",
       "      <td>2.627368e+09</td>\n",
       "      <td>50970.475</td>\n",
       "      <td>8.608089</td>\n",
       "      <td>3.389832e+09</td>\n",
       "      <td>57969.416667</td>\n",
       "      <td>9.79125</td>\n",
       "      <td>...</td>\n",
       "      <td>8.719294</td>\n",
       "      <td>7.111452e+09</td>\n",
       "      <td>83793.425104</td>\n",
       "      <td>14.150453</td>\n",
       "      <td>3.500149e+11</td>\n",
       "      <td>591595.75</td>\n",
       "      <td>100.0</td>\n",
       "      <td>2.627368e+09</td>\n",
       "      <td>50970.475</td>\n",
       "      <td>8.608089</td>\n",
       "    </tr>\n",
       "  </tbody>\n",
       "</table>\n",
       "<p>1 rows × 25 columns</p>\n",
       "</div>"
      ],
      "text/plain": [
       "                    Feeder     naive-MSE  naive-MAE  naive-MAPE  SimpeAvg-MSE  \\\n",
       "ConsumptionDate                                                                 \n",
       "2019-05-01       Feeder_71  2.040386e+09   44844.25     7.57246  2.627368e+09   \n",
       "\n",
       "                 SimpeAvg-MAE  SimpeAvg-MAPE  MovingAvg-MSE  MovingAvg-MAE  \\\n",
       "ConsumptionDate                                                              \n",
       "2019-05-01          50970.475       8.608089   3.389832e+09   57969.416667   \n",
       "\n",
       "                 MovingAvg-MAPE  ...  Holt_linear-MAPE  Holt_Winter-MSE  \\\n",
       "ConsumptionDate                  ...                                      \n",
       "2019-05-01              9.79125  ...          8.719294     7.111452e+09   \n",
       "\n",
       "                 Holt_Winter-MAE  Holt_Winter-MAPE    SARIMA-MSE  SARIMA-MAE  \\\n",
       "ConsumptionDate                                                                \n",
       "2019-05-01          83793.425104         14.150453  3.500149e+11   591595.75   \n",
       "\n",
       "                 SARIMA-MAPE  AutoARIMA-MSE  AutoARIMA-MAE  AutoARIMA-MAPE  \n",
       "ConsumptionDate                                                             \n",
       "2019-05-01             100.0   2.627368e+09      50970.475        8.608089  \n",
       "\n",
       "[1 rows x 25 columns]"
      ]
     },
     "execution_count": 43,
     "metadata": {},
     "output_type": "execute_result"
    }
   ],
   "source": [
    "y_Result['AutoARIMA-MSE'] = mean_squared_error(test.Demand, y_hat.AutoARIMA)\n",
    "y_Result['AutoARIMA-MAE'] = mean_absolute_error(test.Demand, y_hat.AutoARIMA)\n",
    "y_Result['AutoARIMA-MAPE'] = mean_absolute_percentage_error(test.Demand, y_hat.AutoARIMA)\n",
    "y_Result"
   ]
  },
  {
   "cell_type": "code",
   "execution_count": 44,
   "metadata": {},
   "outputs": [
    {
     "data": {
      "text/plain": [
       "<Figure size 1440x576 with 0 Axes>"
      ]
     },
     "execution_count": 44,
     "metadata": {},
     "output_type": "execute_result"
    },
    {
     "data": {
      "text/plain": [
       "[<matplotlib.lines.Line2D at 0x2212a3f1388>]"
      ]
     },
     "execution_count": 44,
     "metadata": {},
     "output_type": "execute_result"
    },
    {
     "data": {
      "text/plain": [
       "[<matplotlib.lines.Line2D at 0x2212a3f00c8>]"
      ]
     },
     "execution_count": 44,
     "metadata": {},
     "output_type": "execute_result"
    },
    {
     "data": {
      "text/plain": [
       "[<matplotlib.lines.Line2D at 0x2212a3fba08>]"
      ]
     },
     "execution_count": 44,
     "metadata": {},
     "output_type": "execute_result"
    },
    {
     "data": {
      "text/plain": [
       "[<matplotlib.lines.Line2D at 0x2212a4244c8>]"
      ]
     },
     "execution_count": 44,
     "metadata": {},
     "output_type": "execute_result"
    },
    {
     "data": {
      "text/plain": [
       "[<matplotlib.lines.Line2D at 0x2212a4259c8>]"
      ]
     },
     "execution_count": 44,
     "metadata": {},
     "output_type": "execute_result"
    },
    {
     "data": {
      "text/plain": [
       "[<matplotlib.lines.Line2D at 0x2212a429688>]"
      ]
     },
     "execution_count": 44,
     "metadata": {},
     "output_type": "execute_result"
    },
    {
     "data": {
      "text/plain": [
       "[<matplotlib.lines.Line2D at 0x2212a430488>]"
      ]
     },
     "execution_count": 44,
     "metadata": {},
     "output_type": "execute_result"
    },
    {
     "data": {
      "text/plain": [
       "[<matplotlib.lines.Line2D at 0x2212a430808>]"
      ]
     },
     "execution_count": 44,
     "metadata": {},
     "output_type": "execute_result"
    },
    {
     "data": {
      "text/plain": [
       "[<matplotlib.lines.Line2D at 0x2212a427ec8>]"
      ]
     },
     "execution_count": 44,
     "metadata": {},
     "output_type": "execute_result"
    },
    {
     "data": {
      "text/plain": [
       "<matplotlib.legend.Legend at 0x2212a4300c8>"
      ]
     },
     "execution_count": 44,
     "metadata": {},
     "output_type": "execute_result"
    },
    {
     "data": {
      "image/png": "[encoded data removed]",
      "text/plain": [
       "<Figure size 1440x576 with 1 Axes>"
      ]
     },
     "metadata": {
      "needs_background": "light"
     },
     "output_type": "display_data"
    }
   ],
   "source": [
    "plt.figure(figsize=(20,8))\n",
    "plt.plot( train['Demand'], label='Train')\n",
    "plt.plot(test['Demand'], label='Test')\n",
    "plt.plot(y_hat['SARIMA'], label='SARIMA')\n",
    "plt.plot(y_hat['Holt_Winter'], label='Holt_Winter')\n",
    "plt.plot(y_hat['Holt_linear'], label='Holt_linear')\n",
    "plt.plot(y_hat['SES'], label='SES')\n",
    "plt.plot(y_hat['moving_avg_forecast'], label='Moving Average Forecast')\n",
    "plt.plot(y_hat['avg_forecast'], label='Average Forecast')\n",
    "plt.plot(y_hat.index,y_hat['naive'], label='Naive Forecast')\n",
    "\n",
    "plt.legend(loc='best')\n",
    "plt.show()"
   ]
  },
  {
   "cell_type": "code",
   "execution_count": 45,
   "metadata": {},
   "outputs": [],
   "source": [
    "y_Result.to_csv('Feeder_71.csv')"
   ]
  },
  {
   "cell_type": "code",
   "execution_count": null,
   "metadata": {},
   "outputs": [],
   "source": []
  },
  {
   "cell_type": "code",
   "execution_count": null,
   "metadata": {},
   "outputs": [],
   "source": []
  }
 ],
 "metadata": {
  "kernelspec": {
   "display_name": "Python 3",
   "language": "python",
   "name": "python3"
  },
  "language_info": {
   "codemirror_mode": {
    "name": "ipython",
    "version": 3
   },
   "file_extension": ".py",
   "mimetype": "text/x-python",
   "name": "python",
   "nbconvert_exporter": "python",
   "pygments_lexer": "ipython3",
   "version": "3.7.4"
  }
 },
 "nbformat": 4,
 "nbformat_minor": 2
}
